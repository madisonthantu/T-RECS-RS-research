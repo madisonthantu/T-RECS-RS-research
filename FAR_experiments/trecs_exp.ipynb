{
 "cells": [
  {
   "cell_type": "code",
   "execution_count": 1,
   "metadata": {
    "id": "lyzbdeoNVB7V"
   },
   "outputs": [
    {
     "name": "stderr",
     "output_type": "stream",
     "text": [
      "/var/folders/sm/hcy50x855gvf2b1qwkjstnvh0000gn/T/ipykernel_75897/2028533230.py:26: MatplotlibDeprecationWarning: The seaborn styles shipped by Matplotlib are deprecated since 3.6, as they no longer correspond to the styles shipped by seaborn. However, they will remain available as 'seaborn-v0_8-<style>'. Alternatively, directly use the seaborn API instead.\n",
      "  plt.style.use(\"seaborn\")\n"
     ]
    }
   ],
   "source": [
    "import pandas as pd\n",
    "import matplotlib.pyplot as plt\n",
    "from matplotlib import style\n",
    "import numpy as np\n",
    "import pickle\n",
    "import os\n",
    "from sklearn.decomposition import NMF, PCA\n",
    "from sklearn.cluster import KMeans\n",
    "from importlib import reload\n",
    "\n",
    "import sys\n",
    "sys.path.insert(1, '/Users/madisonthantu/Desktop/DREAM/t-recs')\n",
    "from trecs.metrics import MSEMeasurement, InteractionSpread, InteractionSpread, InteractionSimilarity, RecSimilarity, RMSEMeasurement, InteractionMeasurement\n",
    "from trecs.components import Users\n",
    "import trecs.matrix_ops as mo\n",
    "import src.globals as globals\n",
    "import seaborn as sns\n",
    "\n",
    "from wrapper.models.bubble import BubbleBurster\n",
    "from src.utils import *\n",
    "from src.plotting import plot_measurements \n",
    "from src.scoring_functions import cosine_sim, entropy, content_fairness, cosine_sim2\n",
    "from wrapper.metrics.evaluation_metrics import *\n",
    "\n",
    "random_state = np.random.seed(42)\n",
    "plt.style.use(\"seaborn\")\n",
    "\n",
    "# import warnings filter\n",
    "from warnings import simplefilter\n",
    "# ignore all future warnings\n",
    "simplefilter(action='ignore', category=FutureWarning)\n",
    "\n",
    "globals.initialize()"
   ]
  },
  {
   "cell_type": "markdown",
   "metadata": {
    "tags": []
   },
   "source": [
    "# RecommenderSystem on MovieLens "
   ]
  },
  {
   "cell_type": "code",
   "execution_count": 2,
   "metadata": {},
   "outputs": [],
   "source": [
    "n_attrs=20\n",
    "max_iter=1000\n",
    "n_clusters=10"
   ]
  },
  {
   "cell_type": "code",
   "execution_count": 3,
   "metadata": {},
   "outputs": [],
   "source": [
    "score_fn = None #'entropy' # 'cosine_sim2'\n",
    "probabilistic = False\n",
    "globals.ALPHA = 0.1\n",
    "alpha = globals.ALPHA\n",
    "\n",
    "# User parameters\n",
    "drift = 0.2 #0.1, 0.2, 0.5\n",
    "attention_exp=-0.8\n",
    "\n",
    "retrain = False"
   ]
  },
  {
   "cell_type": "markdown",
   "metadata": {},
   "source": [
    "## Embeddings"
   ]
  },
  {
   "cell_type": "code",
   "execution_count": 4,
   "metadata": {},
   "outputs": [],
   "source": [
    "binary_ratings_matrix = load_and_process_movielens(file_path='/Users/madisonthantu/Desktop/DREAM/data/ml-100k/u.data')"
   ]
  },
  {
   "cell_type": "code",
   "execution_count": 5,
   "metadata": {},
   "outputs": [
    {
     "name": "stdout",
     "output_type": "stream",
     "text": [
      "Loaded embeddings.\n"
     ]
    }
   ],
   "source": [
    "# Get user and item representations using NMF\n",
    "user_representation, item_representation = create_embeddings(binary_ratings_matrix, n_attrs=n_attrs, max_iter=max_iter)"
   ]
  },
  {
   "cell_type": "code",
   "execution_count": 6,
   "metadata": {},
   "outputs": [
    {
     "name": "stdout",
     "output_type": "stream",
     "text": [
      "Loaded clusters.\n",
      "Loaded clusters.\n"
     ]
    }
   ],
   "source": [
    "# Define topic clusters using NMF\n",
    "item_cluster_ids, item_cluster_centers = get_clusters(item_representation.T, name='item', n_clusters=n_clusters, n_attrs=n_attrs, max_iter=max_iter)\n",
    "user_cluster_ids, user_cluster_centers = get_clusters(user_representation, name='user', n_clusters=n_clusters, n_attrs=n_attrs, max_iter=max_iter)"
   ]
  },
  {
   "cell_type": "markdown",
   "metadata": {
    "tags": []
   },
   "source": [
    "### Model"
   ]
  },
  {
   "cell_type": "code",
   "execution_count": 7,
   "metadata": {},
   "outputs": [
    {
     "name": "stdout",
     "output_type": "stream",
     "text": [
      "Number of items: 20\n",
      "Number of users: 943\n"
     ]
    }
   ],
   "source": [
    "num_users = len(user_representation)\n",
    "num_items = len(item_representation)\n",
    "print(f'Number of items: {num_items}')\n",
    "print(f'Number of users: {num_users}')\n",
    "\n",
    "users = Users(actual_user_profiles=user_representation, \n",
    "              repeat_interactions=False, \n",
    "              drift=drift,\n",
    "              attention_exp=attention_exp)"
   ]
  },
  {
   "cell_type": "code",
   "execution_count": 8,
   "metadata": {},
   "outputs": [],
   "source": [
    "# Create user_pairs by pairing users only with others that are not in the same cluster\n",
    "user_item_cluster_mapping = user_topic_mapping(user_representation, item_cluster_centers) # TODO: Remove?\n",
    "# Create user_pairs by pairing users only with others that are not in the same cluster\n",
    "inter_cluster_user_pairs, intra_cluster_user_pairs = create_cluster_user_pairs(user_item_cluster_mapping)"
   ]
  },
  {
   "cell_type": "code",
   "execution_count": 9,
   "metadata": {},
   "outputs": [],
   "source": [
    "mse = MSEMeasurement()\n",
    "measurements = [\n",
    "    InteractionMeasurement(),\n",
    "    MSEMeasurement(),  \n",
    "    InteractionSpread(),                \n",
    "    InteractionSimilarity(pairs=inter_cluster_user_pairs, name='inter_cluster_interaction_similarity'), \n",
    "    InteractionSimilarity(pairs=intra_cluster_user_pairs, name='intra_cluster_interaction_similarity'), \n",
    "    RecSimilarity(pairs=inter_cluster_user_pairs, name='inter_cluster_rec_similarity'), \n",
    "    RecSimilarity(pairs=intra_cluster_user_pairs, name='intra_cluster_rec_similarity'), \n",
    "    UserMSEMeasurement(),\n",
    "    # SerendipityMetric(), \n",
    "    DiversityMetric(), \n",
    "    # NoveltyMetric(),\n",
    "    RecallMeasurement(),\n",
    "    MeanNumberOfTopics(),\n",
    "    IntraClusterCosineSim(mapping=user_item_cluster_mapping, n_clusters=n_clusters, name='intra_user_to_topic_cluster_cos_sim'),\n",
    "    IntraClusterCosineSim(mapping=user_cluster_ids, n_clusters=n_clusters, name='intra_user_cluster_cos_sim'),\n",
    "    MeanDistanceFromCentroid(user_cluster_ids, user_cluster_centers, name='user_cluster_avg_distance_from_centroid'),\n",
    "]"
   ]
  },
  {
   "cell_type": "code",
   "execution_count": 10,
   "metadata": {},
   "outputs": [],
   "source": [
    "# Model\n",
    "config = {\n",
    "    'actual_user_representation': users,\n",
    "    'actual_item_representation': item_representation,\n",
    "    'item_topics': item_cluster_ids,\n",
    "    'num_attributes': n_attrs,\n",
    "    'num_items_per_iter': 10,\n",
    "    'seed': 42,\n",
    "    'record_base_state': True,\n",
    "}\n",
    "\n",
    "model_name='myopic'\n",
    "requires_alpha = False\n",
    "\n",
    "if score_fn:\n",
    "    if score_fn == 'cosine_sim2':\n",
    "        config['score_fn'] = cosine_sim2\n",
    "    elif score_fn == 'cosine_sim':\n",
    "        config['score_fn'] = cosine_sim\n",
    "        requires_alpha = True\n",
    "    elif score_fn == 'entropy':\n",
    "        config['score_fn'] = entropy\n",
    "        requires_alpha = True\n",
    "    elif score_fn == 'content_fairness':\n",
    "        config['score_fn'] = content_fairness        \n",
    "    else:\n",
    "        raise Exception('Given score function does not exist.')\n",
    "    # assert(config['score_fn'] == cosine_sim2)\n",
    "    model_name = score_fn\n",
    "\n",
    "if probabilistic:\n",
    "    config['probabilistic_recommendations'] = True\n",
    "    model_name += '_prob'"
   ]
  },
  {
   "cell_type": "code",
   "execution_count": 11,
   "metadata": {},
   "outputs": [],
   "source": [
    "model = BubbleBurster(**config)\n",
    "\n",
    "model.add_metrics(*measurements)"
   ]
  },
  {
   "cell_type": "markdown",
   "metadata": {
    "tags": []
   },
   "source": [
    "## Simulation"
   ]
  },
  {
   "cell_type": "code",
   "execution_count": 12,
   "metadata": {
    "colab": {
     "base_uri": "https://localhost:8080/"
    },
    "id": "wVSpo-18VHH4",
    "outputId": "cef8814a-7ccb-4da1-dae9-aab8fdcad51d"
   },
   "outputs": [
    {
     "name": "stderr",
     "output_type": "stream",
     "text": [
      "100%|██████████| 10/10 [00:21<00:00,  2.18s/it]\n"
     ]
    }
   ],
   "source": [
    "# Fair Model\n",
    "train_timesteps=10\n",
    "model.startup_and_train(timesteps=train_timesteps)"
   ]
  },
  {
   "cell_type": "code",
   "execution_count": 13,
   "metadata": {},
   "outputs": [
    {
     "name": "stderr",
     "output_type": "stream",
     "text": [
      " 89%|████████▉ | 89/100 [08:22<01:22,  7.48s/it]/Users/madisonthantu/Desktop/DREAM/t-recs/trecs/matrix_ops.py:573: RuntimeWarning: invalid value encountered in divide\n",
      "  np.sin((1.0 - perc) * omega) / sin_o * mat1_norm.T\n",
      "/Users/madisonthantu/Desktop/DREAM/t-recs/trecs/matrix_ops.py:574: RuntimeWarning: invalid value encountered in divide\n",
      "  + np.sin(perc * omega) / sin_o * mat2_norm.T\n",
      "100%|██████████| 100/100 [09:48<00:00,  5.88s/it]\n"
     ]
    }
   ],
   "source": [
    "run_timesteps=100\n",
    "model.run(timesteps=run_timesteps, train_between_steps=retrain)"
   ]
  },
  {
   "cell_type": "code",
   "execution_count": 18,
   "metadata": {
    "colab": {
     "base_uri": "https://localhost:8080/",
     "height": 424
    },
    "id": "zbOWgfvksMs4",
    "outputId": "c770281b-05e6-4b3c-c79c-91809cd5f76a"
   },
   "outputs": [
    {
     "name": "stdout",
     "output_type": "stream",
     "text": [
      "Measurements saved.\n"
     ]
    }
   ],
   "source": [
    "import src\n",
    "reload(src.utils)\n",
    "from src.utils import *\n",
    "    \n",
    "# Determine file name based on parameter values\n",
    "parameters = f'_{train_timesteps}trainTimesteps_{run_timesteps}runTimesteps_{n_attrs}nAttrs_{n_clusters}nClusters_{drift}Drift_{attention_exp}AttentionExp'\n",
    "if requires_alpha:\n",
    "    parameters += f'_{alpha}Lambda'\n",
    "\n",
    "# Save actual user preferences\n",
    "final_preferences_dir = 'artefacts/final_preferences/'\n",
    "file_prefix = f'{model_name}_final_preferences'\n",
    "final_preferences_path = final_preferences_dir + file_prefix + parameters + '.npy'\n",
    "np.save(final_preferences_path, model.users.actual_user_profiles.value, allow_pickle=True)\n",
    "\n",
    "# Save measurements\n",
    "measurements_dir = f'artefacts/measurements/'\n",
    "file_prefix = f'{model_name}_measurements'\n",
    "\n",
    "measurements_path = measurements_dir + file_prefix + parameters + '.csv'\n",
    "measurements_df = load_or_create_measurements_df(model, model_name, train_timesteps, measurements_path)\n",
    "measurements_df.to_csv(measurements_path)\n",
    "print('Measurements saved.')"
   ]
  },
  {
   "cell_type": "code",
   "execution_count": 25,
   "metadata": {},
   "outputs": [
    {
     "data": {
      "text/html": [
       "<div>\n",
       "<style scoped>\n",
       "    .dataframe tbody tr th:only-of-type {\n",
       "        vertical-align: middle;\n",
       "    }\n",
       "\n",
       "    .dataframe tbody tr th {\n",
       "        vertical-align: top;\n",
       "    }\n",
       "\n",
       "    .dataframe thead th {\n",
       "        text-align: right;\n",
       "    }\n",
       "</style>\n",
       "<table border=\"1\" class=\"dataframe\">\n",
       "  <thead>\n",
       "    <tr style=\"text-align: right;\">\n",
       "      <th></th>\n",
       "      <th>interaction_histogram</th>\n",
       "      <th>mse</th>\n",
       "      <th>interaction_spread</th>\n",
       "      <th>timesteps</th>\n",
       "      <th>state</th>\n",
       "      <th>model</th>\n",
       "    </tr>\n",
       "  </thead>\n",
       "  <tbody>\n",
       "    <tr>\n",
       "      <th>0</th>\n",
       "      <td>NaN</td>\n",
       "      <td>0.090065</td>\n",
       "      <td>NaN</td>\n",
       "      <td>0</td>\n",
       "      <td>train</td>\n",
       "      <td>myopic</td>\n",
       "    </tr>\n",
       "    <tr>\n",
       "      <th>1</th>\n",
       "      <td>[6. 0. 1. ... 0. 0. 0.]</td>\n",
       "      <td>0.107565</td>\n",
       "      <td>-939.0</td>\n",
       "      <td>1</td>\n",
       "      <td>train</td>\n",
       "      <td>myopic</td>\n",
       "    </tr>\n",
       "    <tr>\n",
       "      <th>2</th>\n",
       "      <td>[1. 2. 1. ... 0. 0. 0.]</td>\n",
       "      <td>0.122300</td>\n",
       "      <td>-0.5</td>\n",
       "      <td>2</td>\n",
       "      <td>train</td>\n",
       "      <td>myopic</td>\n",
       "    </tr>\n",
       "    <tr>\n",
       "      <th>3</th>\n",
       "      <td>[2. 0. 2. ... 0. 0. 0.]</td>\n",
       "      <td>0.135919</td>\n",
       "      <td>0.0</td>\n",
       "      <td>3</td>\n",
       "      <td>train</td>\n",
       "      <td>myopic</td>\n",
       "    </tr>\n",
       "    <tr>\n",
       "      <th>4</th>\n",
       "      <td>[2. 1. 3. ... 0. 0. 0.]</td>\n",
       "      <td>0.148202</td>\n",
       "      <td>-0.5</td>\n",
       "      <td>4</td>\n",
       "      <td>train</td>\n",
       "      <td>myopic</td>\n",
       "    </tr>\n",
       "    <tr>\n",
       "      <th>...</th>\n",
       "      <td>...</td>\n",
       "      <td>...</td>\n",
       "      <td>...</td>\n",
       "      <td>...</td>\n",
       "      <td>...</td>\n",
       "      <td>...</td>\n",
       "    </tr>\n",
       "    <tr>\n",
       "      <th>106</th>\n",
       "      <td>[0. 0. 2. ... 2. 1. 2.]</td>\n",
       "      <td>NaN</td>\n",
       "      <td>-3.0</td>\n",
       "      <td>106</td>\n",
       "      <td>run</td>\n",
       "      <td>myopic</td>\n",
       "    </tr>\n",
       "    <tr>\n",
       "      <th>107</th>\n",
       "      <td>[2. 0. 0. ... 2. 0. 6.]</td>\n",
       "      <td>NaN</td>\n",
       "      <td>3.5</td>\n",
       "      <td>107</td>\n",
       "      <td>run</td>\n",
       "      <td>myopic</td>\n",
       "    </tr>\n",
       "    <tr>\n",
       "      <th>108</th>\n",
       "      <td>[0. 0. 1. ... 1. 1. 3.]</td>\n",
       "      <td>NaN</td>\n",
       "      <td>-0.5</td>\n",
       "      <td>108</td>\n",
       "      <td>run</td>\n",
       "      <td>myopic</td>\n",
       "    </tr>\n",
       "    <tr>\n",
       "      <th>109</th>\n",
       "      <td>[0. 0. 1. ... 1. 0. 2.]</td>\n",
       "      <td>NaN</td>\n",
       "      <td>2.5</td>\n",
       "      <td>109</td>\n",
       "      <td>run</td>\n",
       "      <td>myopic</td>\n",
       "    </tr>\n",
       "    <tr>\n",
       "      <th>110</th>\n",
       "      <td>[0. 0. 0. ... 0. 0. 2.]</td>\n",
       "      <td>NaN</td>\n",
       "      <td>-4.0</td>\n",
       "      <td>110</td>\n",
       "      <td>run</td>\n",
       "      <td>myopic</td>\n",
       "    </tr>\n",
       "  </tbody>\n",
       "</table>\n",
       "<p>111 rows × 6 columns</p>\n",
       "</div>"
      ],
      "text/plain": [
       "       interaction_histogram       mse  interaction_spread  timesteps  state  \\\n",
       "0                        NaN  0.090065                 NaN          0  train   \n",
       "1    [6. 0. 1. ... 0. 0. 0.]  0.107565              -939.0          1  train   \n",
       "2    [1. 2. 1. ... 0. 0. 0.]  0.122300                -0.5          2  train   \n",
       "3    [2. 0. 2. ... 0. 0. 0.]  0.135919                 0.0          3  train   \n",
       "4    [2. 1. 3. ... 0. 0. 0.]  0.148202                -0.5          4  train   \n",
       "..                       ...       ...                 ...        ...    ...   \n",
       "106  [0. 0. 2. ... 2. 1. 2.]       NaN                -3.0        106    run   \n",
       "107  [2. 0. 0. ... 2. 0. 6.]       NaN                 3.5        107    run   \n",
       "108  [0. 0. 1. ... 1. 1. 3.]       NaN                -0.5        108    run   \n",
       "109  [0. 0. 1. ... 1. 0. 2.]       NaN                 2.5        109    run   \n",
       "110  [0. 0. 0. ... 0. 0. 2.]       NaN                -4.0        110    run   \n",
       "\n",
       "      model  \n",
       "0    myopic  \n",
       "1    myopic  \n",
       "2    myopic  \n",
       "3    myopic  \n",
       "4    myopic  \n",
       "..      ...  \n",
       "106  myopic  \n",
       "107  myopic  \n",
       "108  myopic  \n",
       "109  myopic  \n",
       "110  myopic  \n",
       "\n",
       "[111 rows x 6 columns]"
      ]
     },
     "execution_count": 25,
     "metadata": {},
     "output_type": "execute_result"
    }
   ],
   "source": [
    "def create_measurements_df(model, model_name, train_timesteps, file_path):\n",
    "    measurements = model.get_measurements()\n",
    "    df = pd.DataFrame(measurements)\n",
    "    df['state'] = 'train' # makes it easier to later understand which part was training\n",
    "    df.loc[df['timesteps'] > train_timesteps, 'state'] = 'run'\n",
    "    df['model'] = model_name\n",
    "    \n",
    "    return df"
   ]
  },
  {
   "cell_type": "code",
   "execution_count": 24,
   "metadata": {},
   "outputs": [
    {
     "name": "stdout",
     "output_type": "stream",
     "text": [
      "artefacts/measurements/myopic_measurements_10trainTimesteps_100runTimesteps_20nAttrs_10nClusters_0.2Drift_-0.8AttentionExp.csv\n",
      "interaction_histogram\n",
      "mse\n",
      "interaction_spread\n",
      "inter_cluster_interaction_similarity\n",
      "intra_cluster_interaction_similarity\n",
      "inter_cluster_rec_similarity\n",
      "intra_cluster_rec_similarity\n",
      "user_mse\n",
      "serendipity_metric\n",
      "diversity_metric\n",
      "novelty_metric\n",
      "recall_at_k\n",
      "mean_num_topics\n",
      "intra_user_to_topic_cluster_cos_sim\n",
      "intra_user_cluster_cos_sim\n",
      "user_cluster_avg_distance_from_centroid\n",
      "timesteps\n"
     ]
    }
   ],
   "source": [
    "print(measurements_path)\n",
    "measurements = model.get_measurements()\n",
    "for k in measurements:\n",
    "    print(k)"
   ]
  },
  {
   "cell_type": "markdown",
   "metadata": {},
   "source": [
    "## Analysis"
   ]
  },
  {
   "cell_type": "code",
   "execution_count": 20,
   "metadata": {
    "colab": {
     "base_uri": "https://localhost:8080/",
     "height": 424
    },
    "id": "zbOWgfvksMs4",
    "outputId": "c770281b-05e6-4b3c-c79c-91809cd5f76a"
   },
   "outputs": [],
   "source": [
    "# Create df for parameters\n",
    "numeric_cols = ['trainTimesteps', 'runTimesteps', 'nAttrs', 'nClusters', 'Lambda']\n",
    "columns = ['model_name'] + numeric_cols\n",
    "\n",
    "data = [[model_name, train_timesteps, run_timesteps, n_attrs, n_clusters, None]]\n",
    "if requires_alpha:\n",
    "    data = [[model_name, train_timesteps, run_timesteps, n_attrs, n_clusters, alpha]]\n",
    "\n",
    "parameters_df = pd.DataFrame(data,\n",
    "                             columns = columns)\n",
    "for col in numeric_cols:\n",
    "    parameters_df[col] = pd.to_numeric(parameters_df[col])"
   ]
  },
  {
   "cell_type": "code",
   "execution_count": 21,
   "metadata": {},
   "outputs": [
    {
     "name": "stdout",
     "output_type": "stream",
     "text": [
      "     interaction_histogram    mse  interaction_spread  timesteps  state  model\n",
      "0                     True  False                True      False  False  False\n",
      "1                    False  False               False      False  False  False\n",
      "2                    False  False               False      False  False  False\n",
      "3                    False  False               False      False  False  False\n",
      "4                    False  False               False      False  False  False\n",
      "..                     ...    ...                 ...        ...    ...    ...\n",
      "106                  False   True               False      False  False  False\n",
      "107                  False   True               False      False  False  False\n",
      "108                  False   True               False      False  False  False\n",
      "109                  False   True               False      False  False  False\n",
      "110                  False   True               False      False  False  False\n",
      "\n",
      "[111 rows x 6 columns]\n"
     ]
    },
    {
     "data": {
      "text/html": [
       "<div>\n",
       "<style scoped>\n",
       "    .dataframe tbody tr th:only-of-type {\n",
       "        vertical-align: middle;\n",
       "    }\n",
       "\n",
       "    .dataframe tbody tr th {\n",
       "        vertical-align: top;\n",
       "    }\n",
       "\n",
       "    .dataframe thead th {\n",
       "        text-align: right;\n",
       "    }\n",
       "</style>\n",
       "<table border=\"1\" class=\"dataframe\">\n",
       "  <thead>\n",
       "    <tr style=\"text-align: right;\">\n",
       "      <th></th>\n",
       "      <th>interaction_histogram</th>\n",
       "      <th>mse</th>\n",
       "      <th>interaction_spread</th>\n",
       "      <th>timesteps</th>\n",
       "      <th>state</th>\n",
       "      <th>model</th>\n",
       "    </tr>\n",
       "  </thead>\n",
       "  <tbody>\n",
       "    <tr>\n",
       "      <th>0</th>\n",
       "      <td>NaN</td>\n",
       "      <td>0.090065</td>\n",
       "      <td>NaN</td>\n",
       "      <td>0</td>\n",
       "      <td>train</td>\n",
       "      <td>myopic</td>\n",
       "    </tr>\n",
       "    <tr>\n",
       "      <th>1</th>\n",
       "      <td>[6. 0. 1. ... 0. 0. 0.]</td>\n",
       "      <td>0.107565</td>\n",
       "      <td>-939.0</td>\n",
       "      <td>1</td>\n",
       "      <td>train</td>\n",
       "      <td>myopic</td>\n",
       "    </tr>\n",
       "    <tr>\n",
       "      <th>2</th>\n",
       "      <td>[1. 2. 1. ... 0. 0. 0.]</td>\n",
       "      <td>0.122300</td>\n",
       "      <td>-0.5</td>\n",
       "      <td>2</td>\n",
       "      <td>train</td>\n",
       "      <td>myopic</td>\n",
       "    </tr>\n",
       "    <tr>\n",
       "      <th>3</th>\n",
       "      <td>[2. 0. 2. ... 0. 0. 0.]</td>\n",
       "      <td>0.135919</td>\n",
       "      <td>0.0</td>\n",
       "      <td>3</td>\n",
       "      <td>train</td>\n",
       "      <td>myopic</td>\n",
       "    </tr>\n",
       "    <tr>\n",
       "      <th>4</th>\n",
       "      <td>[2. 1. 3. ... 0. 0. 0.]</td>\n",
       "      <td>0.148202</td>\n",
       "      <td>-0.5</td>\n",
       "      <td>4</td>\n",
       "      <td>train</td>\n",
       "      <td>myopic</td>\n",
       "    </tr>\n",
       "    <tr>\n",
       "      <th>...</th>\n",
       "      <td>...</td>\n",
       "      <td>...</td>\n",
       "      <td>...</td>\n",
       "      <td>...</td>\n",
       "      <td>...</td>\n",
       "      <td>...</td>\n",
       "    </tr>\n",
       "    <tr>\n",
       "      <th>106</th>\n",
       "      <td>[0. 0. 2. ... 2. 1. 2.]</td>\n",
       "      <td>NaN</td>\n",
       "      <td>-3.0</td>\n",
       "      <td>106</td>\n",
       "      <td>run</td>\n",
       "      <td>myopic</td>\n",
       "    </tr>\n",
       "    <tr>\n",
       "      <th>107</th>\n",
       "      <td>[2. 0. 0. ... 2. 0. 6.]</td>\n",
       "      <td>NaN</td>\n",
       "      <td>3.5</td>\n",
       "      <td>107</td>\n",
       "      <td>run</td>\n",
       "      <td>myopic</td>\n",
       "    </tr>\n",
       "    <tr>\n",
       "      <th>108</th>\n",
       "      <td>[0. 0. 1. ... 1. 1. 3.]</td>\n",
       "      <td>NaN</td>\n",
       "      <td>-0.5</td>\n",
       "      <td>108</td>\n",
       "      <td>run</td>\n",
       "      <td>myopic</td>\n",
       "    </tr>\n",
       "    <tr>\n",
       "      <th>109</th>\n",
       "      <td>[0. 0. 1. ... 1. 0. 2.]</td>\n",
       "      <td>NaN</td>\n",
       "      <td>2.5</td>\n",
       "      <td>109</td>\n",
       "      <td>run</td>\n",
       "      <td>myopic</td>\n",
       "    </tr>\n",
       "    <tr>\n",
       "      <th>110</th>\n",
       "      <td>[0. 0. 0. ... 0. 0. 2.]</td>\n",
       "      <td>NaN</td>\n",
       "      <td>-4.0</td>\n",
       "      <td>110</td>\n",
       "      <td>run</td>\n",
       "      <td>myopic</td>\n",
       "    </tr>\n",
       "  </tbody>\n",
       "</table>\n",
       "<p>111 rows × 6 columns</p>\n",
       "</div>"
      ],
      "text/plain": [
       "       interaction_histogram       mse  interaction_spread  timesteps  state  \\\n",
       "0                        NaN  0.090065                 NaN          0  train   \n",
       "1    [6. 0. 1. ... 0. 0. 0.]  0.107565              -939.0          1  train   \n",
       "2    [1. 2. 1. ... 0. 0. 0.]  0.122300                -0.5          2  train   \n",
       "3    [2. 0. 2. ... 0. 0. 0.]  0.135919                 0.0          3  train   \n",
       "4    [2. 1. 3. ... 0. 0. 0.]  0.148202                -0.5          4  train   \n",
       "..                       ...       ...                 ...        ...    ...   \n",
       "106  [0. 0. 2. ... 2. 1. 2.]       NaN                -3.0        106    run   \n",
       "107  [2. 0. 0. ... 2. 0. 6.]       NaN                 3.5        107    run   \n",
       "108  [0. 0. 1. ... 1. 1. 3.]       NaN                -0.5        108    run   \n",
       "109  [0. 0. 1. ... 1. 0. 2.]       NaN                 2.5        109    run   \n",
       "110  [0. 0. 0. ... 0. 0. 2.]       NaN                -4.0        110    run   \n",
       "\n",
       "      model  \n",
       "0    myopic  \n",
       "1    myopic  \n",
       "2    myopic  \n",
       "3    myopic  \n",
       "4    myopic  \n",
       "..      ...  \n",
       "106  myopic  \n",
       "107  myopic  \n",
       "108  myopic  \n",
       "109  myopic  \n",
       "110  myopic  \n",
       "\n",
       "[111 rows x 6 columns]"
      ]
     },
     "execution_count": 21,
     "metadata": {},
     "output_type": "execute_result"
    }
   ],
   "source": [
    "print(measurements_df.isna())\n",
    "# print(measurements_df.isna().sum().sum())\n",
    "measurements_df[:]"
   ]
  },
  {
   "cell_type": "code",
   "execution_count": null,
   "metadata": {},
   "outputs": [],
   "source": [
    "def plot_measurements(dfs, parameters_df, ignored_train_ts=0):\n",
    "    fig, ax = plt.subplots(4, 3, figsize=(15, 15))\n",
    "    fig.tight_layout(pad=5.0)\n",
    "    colors = plt.get_cmap('tab10')\n",
    "\n",
    "    # plot rec_similarity with timesteps on x axis\n",
    "    legend_lines, legend_names = [], []\n",
    "    for i, df in enumerate(dfs):\n",
    "        ts = df['timesteps'][ignored_train_ts:]\n",
    "        name = parameters_df.loc[i, 'model_name']\n",
    "        if not np.isnan(parameters_df.loc[i, 'Lambda']):\n",
    "            name += f\" (Lambda: {parameters_df.loc[i, 'Lambda']})\"\n",
    "        legend_names.append(name)\n",
    "        \n",
    "        line, = ax[0,0].plot(ts, df['mse'][ignored_train_ts:], label=name, alpha=0.5, color=colors(i))\n",
    "        # ax[0,1].plot(ts, df['user_mse'], label=name)\n",
    "        if 'recall_at_k' in df.columns:\n",
    "            ax[0,1].plot(ts, df['recall_at_k'][ignored_train_ts:], label=name, alpha=0.5, color=colors(i))\n",
    "    \n",
    "        if 'interaction_spread' in df.columns:\n",
    "            ax[1,0].plot(ts, df['interaction_spread'][ignored_train_ts:], label=name, alpha=0.5, color=colors(i))\n",
    "        if 'inter_cluster_interaction_similarity' in df.columns:\n",
    "            ax[1,1].plot(ts, df['inter_cluster_interaction_similarity'][ignored_train_ts:], label=name, alpha=0.5, color=colors(i))\n",
    "        if 'intra_cluster_interaction_similarity' in df.columns:\n",
    "            ax[1,2].plot(ts, df['intra_cluster_interaction_similarity'][ignored_train_ts:], label=name, alpha=0.5, color=colors(i))\n",
    "\n",
    "        if 'diversity_metric' in df.columns:\n",
    "            ax[2,0].plot(ts, df['diversity_metric'][ignored_train_ts:], label=name, alpha=0.5, color=colors(i))\n",
    "        if 'inter_cluster_rec_similarity' in df.columns:\n",
    "            ax[2,1].plot(ts, df['inter_cluster_rec_similarity'][ignored_train_ts:], label=name, alpha=0.5, color=colors(i))\n",
    "        if 'intra_cluster_rec_similarity' in df.columns:\n",
    "            ax[2,2].plot(ts, df['intra_cluster_rec_similarity'][ignored_train_ts:], label=name, alpha=0.5, color=colors(i))\n",
    "\n",
    "        if 'serendipity_metric' in df.columns:\n",
    "            ax[3,0].plot(ts, df['serendipity_metric'][ignored_train_ts:], label=name, alpha=0.5, color=colors(i))\n",
    "        if 'novelty_metric' in df.columns:\n",
    "            ax[3,1].plot(ts, df['novelty_metric'][ignored_train_ts:], label=name, alpha=0.5, color=colors(i))\n",
    "        if 'mean_num_topics' in df.columns:\n",
    "            ax[3,2].plot(ts, df['mean_num_topics'][ignored_train_ts:], label=name, alpha=0.5, color=colors(i))\n",
    "        \n",
    "        legend_lines.append(line)\n",
    "\n",
    "    for a in ax:\n",
    "        for b in a:\n",
    "            b.set_xlabel('Timestep')\n",
    "\n",
    "    ax[0, 0].set_title('Mean Squared Error')\n",
    "    ax[0, 0].set_ylabel('MSE')\n",
    "\n",
    "    ax[0, 1].set_title('Top-5 Recall')\n",
    "    ax[0, 1].set_ylabel('Recall')\n",
    "    ax[0, 1].set_xlabel('Timesteps')\n",
    "\n",
    "    ax[0, 2].set_title('')\n",
    "    ax[0, 2].set_ylabel('')\n",
    "\n",
    "    ax[1, 0].set_title('Interaction Spread')\n",
    "    ax[1, 0].set_ylabel('Jaccard Similarity')\n",
    "\n",
    "    ax[1, 1].set_title('Inter Cluster Interaction Similarity')\n",
    "    ax[1, 1].set_ylabel('Jaccard Similarity')\n",
    "\n",
    "    ax[1, 2].set_title('Intra Cluster Interaction Similarity')\n",
    "    ax[1, 2].set_ylabel('Jaccard Similarity')\n",
    "\n",
    "    ax[2, 0].set_title('Diversity')\n",
    "    ax[2, 0].set_ylabel('Diversity')\n",
    "\n",
    "    ax[2, 1].set_title('Inter Cluster Recommendation similarity')\n",
    "    ax[2, 1].set_ylabel('Jaccard Similarity')\n",
    "\n",
    "    ax[2, 2].set_title('Intra Cluster Recommendation similarity')\n",
    "    ax[2, 2].set_ylabel('Jaccard Similarity')\n",
    "\n",
    "    ax[3, 0].set_title('Serendipity')\n",
    "    ax[3, 0].set_ylabel('Serendipity')\n",
    "\n",
    "    ax[3, 1].set_title('Novelty')\n",
    "    ax[3, 1].set_ylabel('Novelty')\n",
    "\n",
    "    ax[3, 2].set_title('Mean Number of Topics Interacted per User')\n",
    "    ax[3, 2].set_ylabel('Mean Number of Topics Interacted per User')\n",
    "\n",
    "    fig.legend(legend_lines,\n",
    "               legend_names,\n",
    "               loc='upper center',\n",
    "               fontsize=12,\n",
    "               frameon=False,\n",
    "               ncol=5,\n",
    "               bbox_to_anchor=(.5, 1.02))\n"
   ]
  },
  {
   "cell_type": "code",
   "execution_count": 18,
   "metadata": {
    "colab": {
     "base_uri": "https://localhost:8080/",
     "height": 424
    },
    "id": "zbOWgfvksMs4",
    "outputId": "c770281b-05e6-4b3c-c79c-91809cd5f76a"
   },
   "outputs": [
    {
     "name": "stdout",
     "output_type": "stream",
     "text": [
      "Model name = entropy\n",
      "# clusters = 10\n",
      "Drift = 0.2\n",
      "train_between_steps = False\n"
     ]
    },
    {
     "data": {
      "image/png": "[encoded data removed]",
      "text/plain": [
       "<Figure size 1500x1500 with 12 Axes>"
      ]
     },
     "metadata": {},
     "output_type": "display_data"
    }
   ],
   "source": [
    "print(\"Model name =\", model_name)\n",
    "print(\"# clusters =\", n_clusters)\n",
    "print(\"Drift =\", drift)\n",
    "print(\"train_between_steps =\", retrain)\n",
    "plot_measurements([measurements_df[11:]], parameters_df)"
   ]
  },
  {
   "cell_type": "code",
   "execution_count": null,
   "metadata": {},
   "outputs": [],
   "source": []
  },
  {
   "cell_type": "code",
   "execution_count": 19,
   "metadata": {},
   "outputs": [
    {
     "ename": "NameError",
     "evalue": "name 'previous_mse' is not defined",
     "output_type": "error",
     "traceback": [
      "\u001b[0;31m---------------------------------------------------------------------------\u001b[0m",
      "\u001b[0;31mNameError\u001b[0m                                 Traceback (most recent call last)",
      "\u001b[1;32m/Users/madisonthantu/Desktop/DREAM/T-RECS-RS-research/trecs_exp.ipynb Cell 25\u001b[0m in \u001b[0;36m1\n\u001b[0;32m----> <a href='vscode-notebook-cell:/Users/madisonthantu/Desktop/DREAM/T-RECS-RS-research/trecs_exp.ipynb#X42sZmlsZQ%3D%3D?line=0'>1</a>\u001b[0m \u001b[39msum\u001b[39m(measurements_df[\u001b[39m'\u001b[39m\u001b[39mmse\u001b[39m\u001b[39m'\u001b[39m] \u001b[39m==\u001b[39m previous_mse)\n",
      "\u001b[0;31mNameError\u001b[0m: name 'previous_mse' is not defined"
     ]
    }
   ],
   "source": [
    "sum(measurements_df['mse'] == previous_mse)"
   ]
  },
  {
   "cell_type": "code",
   "execution_count": null,
   "metadata": {},
   "outputs": [
    {
     "data": {
      "text/plain": [
       "0          NaN\n",
       "1          NaN\n",
       "2          NaN\n",
       "3          NaN\n",
       "4          NaN\n",
       "5          NaN\n",
       "6          NaN\n",
       "7          NaN\n",
       "8          NaN\n",
       "9          NaN\n",
       "10         NaN\n",
       "11    0.122604\n",
       "12    0.125777\n",
       "13    0.128440\n",
       "14    0.130833\n",
       "15    0.133147\n",
       "16    0.135162\n",
       "17    0.136649\n",
       "18    0.137943\n",
       "19    0.139141\n",
       "Name: mse, dtype: float64"
      ]
     },
     "execution_count": 54,
     "metadata": {},
     "output_type": "execute_result"
    }
   ],
   "source": [
    "previous_mse[:20]"
   ]
  },
  {
   "cell_type": "code",
   "execution_count": null,
   "metadata": {},
   "outputs": [
    {
     "data": {
      "text/plain": [
       "0      0.090065\n",
       "1      0.094148\n",
       "2      0.097860\n",
       "3      0.101707\n",
       "4      0.105632\n",
       "         ...   \n",
       "106    0.120453\n",
       "107    0.120296\n",
       "108    0.120195\n",
       "109    0.120185\n",
       "110    0.120058\n",
       "Name: mse, Length: 111, dtype: float64"
      ]
     },
     "execution_count": 53,
     "metadata": {},
     "output_type": "execute_result"
    }
   ],
   "source": [
    "measurements_df['mse']"
   ]
  },
  {
   "cell_type": "code",
   "execution_count": null,
   "metadata": {},
   "outputs": [
    {
     "name": "stdout",
     "output_type": "stream",
     "text": [
      "Model name = cosine_sim2\n",
      "# clusters = 10\n",
      "Drift = 0.05\n",
      "train_between_steps = False\n"
     ]
    },
    {
     "data": {
      "text/plain": [
       "0           NaN\n",
       "1           NaN\n",
       "2           NaN\n",
       "3           NaN\n",
       "4           NaN\n",
       "         ...   \n",
       "106    0.105888\n",
       "107    0.105712\n",
       "108    0.105582\n",
       "109    0.105559\n",
       "110    0.105420\n",
       "Name: mse, Length: 111, dtype: float64"
      ]
     },
     "execution_count": 21,
     "metadata": {},
     "output_type": "execute_result"
    }
   ],
   "source": [
    "print(\"Model name =\", model_name)\n",
    "print(\"# clusters =\", n_clusters)\n",
    "print(\"Drift =\", drift)\n",
    "print(\"train_between_steps =\", retrain)\n",
    "\n",
    "previous_mse = measurements_df['mse']\n",
    "previous_mse"
   ]
  },
  {
   "cell_type": "markdown",
   "metadata": {},
   "source": [
    "# Experiments"
   ]
  },
  {
   "cell_type": "code",
   "execution_count": null,
   "metadata": {},
   "outputs": [],
   "source": [
    "# def plot_histograms(measurements_df):\n",
    "#     # for every 10 timesteps plot line in different color\n",
    "#     fig= plt.figure(figsize=(5, 5))\n",
    "    \n",
    "#     timesteps = len(measurements_df)\n",
    "#     items = np.arange(len(measurements_df['interaction_histogram'][1]))\n",
    "#     for i in range(10, timesteps+1, 10):\n",
    "#         counts = measurements_df['interaction_histogram'][i]\n",
    "#         plt.plot(items, sorted(counts), label=f't={i}')\n",
    "\n",
    "#     plt.title('Interaction Histogram')\n",
    "#     plt.xlabel('Items')\n",
    "#     plt.ylabel('# Interactions')\n",
    "#     plt.legend()\n",
    "    \n",
    "# plot_histograms(measurements_df)"
   ]
  },
  {
   "cell_type": "code",
   "execution_count": null,
   "metadata": {},
   "outputs": [],
   "source": [
    "# recommender = model"
   ]
  },
  {
   "cell_type": "code",
   "execution_count": null,
   "metadata": {},
   "outputs": [],
   "source": [
    "# # Novelty that is based on probability calculation from generate_recommendations \n",
    "# # (leave previously interacted items out)\n",
    "# item_counts = recommender.item_count\n",
    "# item_counts[item_counts == 0] = 1\n",
    "# items_self_info = (-1) * np.log(item_counts)\n",
    "\n",
    "# # turn scores in probability distribution over items to ensure that all independent of the ranking function, the metric yields comparable values\n",
    "# scores = recommender.predicted_scores.value\n",
    "# probabilities = scores / np.sum(scores, axis=1)[:, np.newaxis]\n",
    "\n",
    "# item_indices = recommender.indices\n",
    "# if not recommender.users.repeat_interactions:\n",
    "#     # for each user, eliminate items that have been interacted with\n",
    "#     item_indices = item_indices[np.where(item_indices >= 0)]\n",
    "#     item_indices = item_indices.reshape((recommender.num_users, -1))\n",
    "\n",
    "# s_filtered = mo.to_dense(recommender.predicted_scores.filter_by_index(item_indices))\n",
    "# row = np.repeat(recommender.users.user_vector, item_indices.shape[1])\n",
    "# row = row.reshape((recommender.num_users, -1))\n",
    "# permutation = s_filtered.argsort()\n",
    "# rec = item_indices[row, permutation]\n",
    "# # the recommended items will not be exactly determined by\n",
    "# # predicted score; instead, we will sample from the sorted list\n",
    "# # such that higher-preference items get more probability mass\n",
    "# num_items_unseen = rec.shape[1]  # number of items unseen per user\n",
    "# probabilities = np.logspace(0.0, num_items_unseen / 10.0, num=num_items_unseen, base=2)\n",
    "# probabilities = probabilities / probabilities.sum()\n",
    "\n",
    "# # get utility of each item given a state of users\n",
    "# item_states = np.mean(probabilities, axis=0)\n",
    "\n",
    "# # calculate novelty per item by multiplying self information and utility value\n",
    "# item_novelties = items_self_info * item_states\n",
    "# # form sum over all possible items/actions\n",
    "# item_novelty = np.sum(item_novelties)\n",
    "\n",
    "# item_novelty"
   ]
  }
 ],
 "metadata": {
  "colab": {
   "provenance": []
  },
  "gpuClass": "standard",
  "interpreter": {
   "hash": "82ad1e6da8c8551612185ff57ab4e881be31b0c67a550f3cbdb2f98515f5914e"
  },
  "kernelspec": {
   "display_name": "Python 3.8.15 ('fairRS')",
   "language": "python",
   "name": "python3"
  },
  "language_info": {
   "codemirror_mode": {
    "name": "ipython",
    "version": 3
   },
   "file_extension": ".py",
   "mimetype": "text/x-python",
   "name": "python",
   "nbconvert_exporter": "python",
   "pygments_lexer": "ipython3",
   "version": "3.8.15"
  },
  "vscode": {
   "interpreter": {
    "hash": "2c64b5f0e204e2b557bfa409cf6c0678c4f1eefdf2bd314df48e0edc57cda315"
   }
  }
 },
 "nbformat": 4,
 "nbformat_minor": 4
}
