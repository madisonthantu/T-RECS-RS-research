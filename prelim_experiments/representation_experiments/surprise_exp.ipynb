{
 "cells": [
  {
   "cell_type": "code",
   "execution_count": 2,
   "metadata": {},
   "outputs": [],
   "source": [
    "import pandas as pd\n",
    "import matplotlib.pyplot as plt\n",
    "from matplotlib import style\n",
    "import numpy as np\n",
    "import pickle\n",
    "import os\n",
    "from sklearn.decomposition import NMF, PCA\n",
    "from sklearn.cluster import KMeans\n",
    "from importlib import reload\n",
    "import itertools\n",
    "from collections import defaultdict\n",
    "from tqdm import tqdm\n",
    "\n",
    "import sys\n",
    "sys.path.insert(1, '/Users/madisonthantu/Desktop/DREAM/t-recs')\n",
    "from trecs.metrics import MSEMeasurement, InteractionSpread, InteractionSpread, InteractionSimilarity, RecSimilarity, RMSEMeasurement, InteractionMeasurement\n",
    "from trecs.components import Users\n",
    "import trecs.matrix_ops as mo\n",
    "\n",
    "sys.path.insert(1, '/Users/madisonthantu/Desktop/DREAM/T-RECS-RS-research')\n",
    "from wrapper.models.bubble import BubbleBurster\n",
    "from src.utils import load_and_process_movielens, compute_embeddings, compute_clusters, user_topic_mapping, create_cluster_user_pairs\n",
    "\n",
    "random_state = np.random.seed(42)"
   ]
  },
  {
   "cell_type": "code",
   "execution_count": 4,
   "metadata": {},
   "outputs": [],
   "source": [
    "from surprise import KNNBasic, Dataset, Reader, SVD\n",
    "from surprise.model_selection import GridSearchCV\n",
    "from surprise.accuracy import rmse, mse, mae"
   ]
  },
  {
   "cell_type": "code",
   "execution_count": null,
   "metadata": {},
   "outputs": [],
   "source": []
  },
  {
   "cell_type": "code",
   "execution_count": null,
   "metadata": {},
   "outputs": [],
   "source": [
    "def load_and_process_movielens(file_path):\n",
    "    ratings_df = pd.read_csv(file_path, sep=\"\\t\", names=['UserID', 'MovieID', 'Rating', 'Timestamp'])\n",
    "    binary_ratings_df = ratings_df.drop(columns=['Timestamp'])\n",
    "    binary_ratings_df.loc[binary_ratings_df['Rating'] > 0, 'Rating'] = 1\n",
    "\n",
    "    # turn dataframe into matrix where each movie is a column and each user is a row\n",
    "    binary_ratings_matrix = binary_ratings_df.pivot(index='UserID', columns='MovieID', values='Rating').fillna(0).to_numpy()\n",
    "    return binary_ratings_matrix"
   ]
  },
  {
   "cell_type": "code",
   "execution_count": null,
   "metadata": {},
   "outputs": [],
   "source": []
  },
  {
   "cell_type": "code",
   "execution_count": null,
   "metadata": {},
   "outputs": [],
   "source": [
    "params = {\n",
    "    \"max_iter\":1000,\n",
    "    \"num_clusters\":10,\n",
    "    \"num_attrs\":20,\n",
    "    \"drift\":0.1,\n",
    "    \"attention_exp\":-0.8,\n",
    "    \"startup_iters\":5,\n",
    "    \"sim_iters\":25,\n",
    "    \"repeated_training\":True\n",
    "}\n",
    "\n",
    "binary_ratings_matrix = load_and_process_movielens(file_path='/Users/madisonthantu/Desktop/DREAM/data/ml-100k/u.data')\n",
    "# Get user and item representations using NMF\n",
    "user_representation, item_representation = compute_embeddings(binary_ratings_matrix, n_attrs=params[\"num_attrs\"], max_iter=params[\"max_iter\"])"
   ]
  },
  {
   "cell_type": "code",
   "execution_count": null,
   "metadata": {},
   "outputs": [],
   "source": [
    "\"\"\" \n",
    "***\n",
    "*** Trying new approach via `surprise` library\n",
    "***\n",
    "\"\"\"\n",
    "\n",
    "data = pd.DataFrame(user_representation)\n",
    "data_df = Dataset.load_from_df\n",
    "# Define topic clusters using K-Means\n",
    "item_cluster_ids, item_cluster_centers = compute_clusters(item_representation.T, name='item', n_clusters=params[\"num_clusters\"], n_attrs=params[\"num_attrs\"], max_iter=params[\"max_iter\"])\n",
    "user_cluster_ids, user_cluster_centers = compute_clusters(user_representation, name='user', n_clusters=params[\"num_clusters\"], n_attrs=params[\"num_attrs\"], max_iter=params[\"max_iter\"])\n",
    "\n"
   ]
  },
  {
   "cell_type": "code",
   "execution_count": null,
   "metadata": {},
   "outputs": [],
   "source": [
    "# Get user pairs - global user pairs, intra-cluster user pairs, inter-cluster user pairs\n",
    "global_user_pairs = []\n",
    "num_users = len(user_cluster_ids)\n",
    "for u_idx in range(num_users):\n",
    "    global_user_pairs += [(u_idx, v_idx) for v_idx in range(u_idx+1, num_users)]\n",
    "inter_cluster_user_pairs, intra_cluster_user_pairs = create_cluster_user_pairs(user_cluster_ids)\n",
    "\n",
    "users = Users(\n",
    "    actual_user_profiles=user_representation, \n",
    "    repeat_interactions=False,\n",
    "    drift=params[\"drift\"],\n",
    "    attention_exp=params[\"attention_exp\"]\n",
    ")\n",
    "\n",
    "measurements = [\n",
    "    MSEMeasurement(),  \n",
    "    InteractionSpread(),                \n",
    "    InteractionSimilarity(pairs=global_user_pairs, name='global_interaction_similarity'), \n",
    "    InteractionSimilarity(pairs=inter_cluster_user_pairs, name='inter_cluster_interaction_similarity'), \n",
    "    InteractionSimilarity(pairs=intra_cluster_user_pairs, name='intra_cluster_interaction_similarity'), \n",
    "]\n",
    "\n",
    "bubble = BubbleBurster(\n",
    "    actual_user_representation=users, \n",
    "    actual_item_representation=item_representation,\n",
    "    item_topics=item_cluster_ids,\n",
    "    num_attributes=params[\"num_attrs\"],\n",
    "    num_items_per_iter=10,\n",
    "    # seed=rng,\n",
    "    record_base_state=True\n",
    ")\n",
    "\n",
    "bubble.add_metrics(*measurements)"
   ]
  }
 ],
 "metadata": {
  "kernelspec": {
   "display_name": "fairRS",
   "language": "python",
   "name": "python3"
  },
  "language_info": {
   "codemirror_mode": {
    "name": "ipython",
    "version": 3
   },
   "file_extension": ".py",
   "mimetype": "text/x-python",
   "name": "python",
   "nbconvert_exporter": "python",
   "pygments_lexer": "ipython3",
   "version": "3.8.15"
  },
  "orig_nbformat": 4
 },
 "nbformat": 4,
 "nbformat_minor": 2
}
