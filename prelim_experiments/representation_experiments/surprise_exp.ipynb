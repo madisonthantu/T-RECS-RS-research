{
 "cells": [
  {
   "cell_type": "code",
   "execution_count": null,
   "metadata": {},
   "outputs": [],
   "source": [
    "import sys\n",
    "sys.path.insert(1, '/Users/madisonthantu/Desktop/DREAM/t-recs')\n",
    "import trecs\n",
    "\n",
    "import numpy as np\n",
    "import pandas as pd\n",
    "\n",
    "import matplotlib.pyplot as plt\n",
    "from scipy.ndimage import gaussian_filter1d\n",
    "from collections import defaultdict\n",
    "\n",
    "from surprise_utils import merge_results\n",
    "\n",
    "sys.path.insert(1, '/Users/madisonthantu/Desktop/DREAM/T-RECS-RS-research')\n",
    "from src.chaney_utils import (\n",
    "    graph_relative_to_ideal,\n",
    "    graph_metrics,\n",
    "    graph_metrics_by_axis,\n",
    "    graph_relative_to_global_by_axis,\n",
    "    transform_relative_to_global,\n",
    "    graph_histogram_metric_by_axis\n",
    ")\n",
    "import warnings\n",
    "warnings.simplefilter(\"ignore\")\n",
    "\n",
    "import itertools"
   ]
  },
  {
   "cell_type": "code",
   "execution_count": null,
   "metadata": {},
   "outputs": [],
   "source": [
    "DEBUG = True # don't save figures"
   ]
  },
  {
   "cell_type": "code",
   "execution_count": null,
   "metadata": {},
   "outputs": [],
   "source": [
    "# results = merge_results([\"param_exp_results/repeated_training\", \"param_exp_results/single_training\"])\n",
    "\n",
    "results_path = [\"surprise_exp_results/50train50run\"]\n",
    "\n",
    "results = merge_results(results_path)\n",
    "print(results.keys())\n",
    "\n",
    "model_keys = ['0.0drift_0attention_0retraining', '0.0drift_0attention_1retraining', '0.0drift_-0.8attention_0retraining', '0.0drift_-0.8attention_1retraining', '0.05drift_0attention_0retraining', '0.05drift_0attention_1retraining', '0.05drift_-0.8attention_0retraining', '0.05drift_-0.8attention_1retraining', '0.1drift_0attention_0retraining', '0.1drift_0attention_1retraining', '0.1drift_-0.8attention_0retraining', '0.1drift_-0.8attention_1retraining']\n",
    "print(model_keys)\n",
    "\n",
    "id_to_readable = dict(zip(model_keys, model_keys))\n",
    "print(id_to_readable)"
   ]
  },
  {
   "cell_type": "code",
   "execution_count": null,
   "metadata": {},
   "outputs": [],
   "source": [
    "hyper_params = {\"drift\":[0.0, 0.05, 0.1], \"attention_exp\":[0, -0.8], \"repeated_training\":[0,1]}\n",
    "models = dict([(f\"{p[0]}drift_{p[1]}attention_{p[2]}retraining\", p) for p in itertools.product(*hyper_params.values())])\n",
    "\n",
    "results_df = pd.DataFrame(columns=[\"drift\", \"attention_exp\", \"repeated_training\"] + list(results.keys()))\n",
    "results_df\n",
    "\n",
    "for params in model_keys:\n",
    "    df = pd.DataFrame(columns=[\"drift\", \"attention_exp\", \"repeated_training\"] + list(results.keys()))\n",
    "    for metric in results:\n",
    "        metric_results = [vals for sim_trial in results[metric][params] for vals in sim_trial]\n",
    "        df[metric] = metric_results\n",
    "    df[\"drift\"] = models[params][0]\n",
    "    df[\"attention_exp\"] = models[params][1]\n",
    "    df[\"repeated_training\"] = models[params][2]\n",
    "    results_df = pd.concat([results_df, df])"
   ]
  },
  {
   "cell_type": "code",
   "execution_count": null,
   "metadata": {},
   "outputs": [],
   "source": [
    "y_labels = dict([\n",
    "    (\"mse\", \"mse\"), \n",
    "    (\"interaction_spread\", \"interaction spread\"), \n",
    "    (\"global_interaction_similarity\", \"average jacard similarity\"), \n",
    "    (\"inter_cluster_interaction_similarity\", \"average jacard similarity\"), \n",
    "    (\"intra_cluster_interaction_similarity\", \"average jacard similarity\"), \n",
    "    (\"mean_global_cosine_sim\", \"average cosine sim\"),\n",
    "    (\"mean_intra_cluster_cosine_sim\", \"average cosine sim\"),\n",
    "    (\"mean_inter_cluster_cosine_sim\", \"average cosine sim\"),\n",
    "    (\"mean_cosine_sim_per_cluster\", \"average cosine sim\"),\n",
    "    (\"mean_cluster_distance_from_centroid\", \"distance\"),\n",
    "    (\"mean_global_distance_from_centroid\", \"distance\"),\n",
    "    (\"mean_distance_from_centroid_per_cluster\", \"distance\"),\n",
    "])\n",
    "\n",
    "model_key_pairs = [(model_keys[i], model_keys[i+1]) for i in range(0, len(model_keys), 2)]\n",
    "\n",
    "single_training_keys = [key[0] for key in model_key_pairs]\n",
    "repeated_training_keys = [key[1] for key in model_key_pairs]"
   ]
  },
  {
   "attachments": {},
   "cell_type": "markdown",
   "metadata": {},
   "source": [
    "# Graphing `MSE`"
   ]
  },
  {
   "cell_type": "code",
   "execution_count": null,
   "metadata": {},
   "outputs": [],
   "source": [
    "metric_key = \"mse\"\n",
    "\n",
    "fig, axs = plt.subplots(1, 2, figsize=(15, 5))\n",
    "\n",
    "graph_metrics_by_axis(axs[0], results, metric_key, single_training_keys, id_to_readable, mult_sd=0)\n",
    "axs[0].set_ylabel(y_labels[metric_key])\n",
    "axs[0].set_xlabel(\"Timestep\")\n",
    "axs[0].set_title(f\"{metric_key} - Single Training\")\n",
    "axs[0].legend(facecolor='white', framealpha=1, loc='upper right', bbox_to_anchor=(1, 0.5), fontsize=\"8\",)\n",
    "\n",
    "graph_metrics_by_axis(axs[1], results, metric_key, repeated_training_keys, id_to_readable, mult_sd=0)\n",
    "axs[1].set_ylabel(y_labels[metric_key])\n",
    "axs[1].set_xlabel(\"Timestep\")\n",
    "axs[1].set_title(f\"{metric_key} - Repeated Training\")\n",
    "axs[1].legend(facecolor='white', framealpha=1, loc='upper right', bbox_to_anchor=(1, 0.5), fontsize=\"8\",)"
   ]
  },
  {
   "cell_type": "code",
   "execution_count": null,
   "metadata": {},
   "outputs": [],
   "source": [
    "metric_key = \"mse\"\n",
    "\n",
    "fig, axs = plt.subplots(2, 3, figsize=(20, 10))\n",
    "\n",
    "for i in range(len(model_key_pairs)):\n",
    "    curr_ax = axs[int(i >= 3), i%3]\n",
    "    graph_metrics_by_axis(curr_ax, results, metric_key, model_key_pairs[i], id_to_readable, mult_sd=0.5)\n",
    "    curr_ax.set_ylabel(y_labels[metric_key])\n",
    "    curr_ax.set_xlabel(\"Timestep\")\n",
    "    curr_ax.set_title(f\"{metric_key} - drift={models[model_key_pairs[i][0]][0]}, attention_exp={models[model_key_pairs[i][0]][1]}\")"
   ]
  },
  {
   "attachments": {},
   "cell_type": "markdown",
   "metadata": {},
   "source": [
    "# Graphing `Interaction Similarity`"
   ]
  },
  {
   "attachments": {},
   "cell_type": "markdown",
   "metadata": {},
   "source": [
    "### Graphing `Global Interaction Similarity`"
   ]
  },
  {
   "cell_type": "code",
   "execution_count": null,
   "metadata": {},
   "outputs": [],
   "source": [
    "metric_key = \"global_interaction_similarity\"\n",
    "\n",
    "fig, axs = plt.subplots(1, 2, figsize=(15, 5))\n",
    "\n",
    "graph_metrics_by_axis(axs[0], results, metric_key, single_training_keys, id_to_readable, mult_sd=0)\n",
    "axs[0].set_ylabel(y_labels[metric_key])\n",
    "axs[0].set_xlabel(\"Timestep\")\n",
    "axs[0].set_title(f\"{metric_key} - Single Training\")\n",
    "axs[0].legend(facecolor='white', framealpha=1, loc='upper right', bbox_to_anchor=(0.5, 0), fontsize=\"8\",)\n",
    "\n",
    "graph_metrics_by_axis(axs[1], results, metric_key, repeated_training_keys, id_to_readable, mult_sd=0)\n",
    "axs[1].set_ylabel(y_labels[metric_key])\n",
    "axs[1].set_xlabel(\"Timestep\")\n",
    "axs[1].set_title(f\"{metric_key} - Repeated Training\")\n",
    "axs[1].legend(facecolor='white', framealpha=1, loc='upper right', bbox_to_anchor=(0.5, 0), fontsize=\"8\",)"
   ]
  },
  {
   "cell_type": "code",
   "execution_count": null,
   "metadata": {},
   "outputs": [],
   "source": [
    "metric_key = \"global_interaction_similarity\"\n",
    "\n",
    "fig, axs = plt.subplots(2, 3, figsize=(20, 10))\n",
    "\n",
    "for i in range(len(model_key_pairs)):\n",
    "    curr_ax = axs[int(i >= 3), i%3]\n",
    "    graph_metrics_by_axis(curr_ax, results, metric_key, model_key_pairs[i], id_to_readable, mult_sd=0)\n",
    "    curr_ax.set_ylabel(y_labels[metric_key])\n",
    "    curr_ax.set_xlabel(\"Timestep\")\n",
    "    curr_ax.set_title(f\"{metric_key} - drift={models[model_key_pairs[i][0]][0]}, attention_exp={models[model_key_pairs[i][0]][1]}\")"
   ]
  },
  {
   "attachments": {},
   "cell_type": "markdown",
   "metadata": {},
   "source": [
    "### Graphing **`Inter`** `-Cluster Interaction Similarity`"
   ]
  },
  {
   "cell_type": "code",
   "execution_count": null,
   "metadata": {},
   "outputs": [],
   "source": [
    "metric_key = \"inter_cluster_interaction_similarity\"\n",
    "\n",
    "fig, axs = plt.subplots(1, 2, figsize=(15, 5))\n",
    "\n",
    "graph_metrics_by_axis(axs[0], results, metric_key, single_training_keys, id_to_readable, mult_sd=0)\n",
    "axs[0].set_ylabel(y_labels[metric_key])\n",
    "axs[0].set_xlabel(\"Timestep\")\n",
    "axs[0].set_title(f\"{metric_key} - Single Training\")\n",
    "axs[0].legend(facecolor='white', framealpha=1, loc='upper right', bbox_to_anchor=(1, 0.5), fontsize=\"8\",)\n",
    "\n",
    "graph_metrics_by_axis(axs[1], results, metric_key, repeated_training_keys, id_to_readable, mult_sd=0)\n",
    "axs[1].set_ylabel(y_labels[metric_key])\n",
    "axs[1].set_xlabel(\"Timestep\")\n",
    "axs[1].set_title(f\"{metric_key} - Repeated Training\")\n",
    "axs[1].legend(facecolor='white', framealpha=1, loc='upper right', bbox_to_anchor=(1, 0.5), fontsize=\"8\",)"
   ]
  },
  {
   "cell_type": "code",
   "execution_count": null,
   "metadata": {},
   "outputs": [],
   "source": [
    "metric_key = \"inter_cluster_interaction_similarity\"\n",
    "\n",
    "fig, axs = plt.subplots(2, 3, figsize=(20, 10))\n",
    "\n",
    "for i in range(len(model_key_pairs)):\n",
    "    curr_ax = axs[int(i >= 3), i%3]\n",
    "    graph_metrics_by_axis(curr_ax, results, metric_key, model_key_pairs[i], id_to_readable, mult_sd=0)\n",
    "    curr_ax.set_ylabel(y_labels[metric_key])\n",
    "    curr_ax.set_xlabel(\"Timestep\")\n",
    "    curr_ax.set_title(f\"{metric_key} - drift={models[model_key_pairs[i][0]][0]}, attention_exp={models[model_key_pairs[i][0]][1]}\")"
   ]
  },
  {
   "attachments": {},
   "cell_type": "markdown",
   "metadata": {},
   "source": [
    "### Graphing **`Intra`** `-Cluster Interaction Similarity`"
   ]
  },
  {
   "cell_type": "code",
   "execution_count": null,
   "metadata": {},
   "outputs": [],
   "source": [
    "metric_key = \"intra_cluster_interaction_similarity\"\n",
    "\n",
    "single_training_keys = [key[0] for key in model_key_pairs]\n",
    "repeated_training_keys = [key[1] for key in model_key_pairs]\n",
    "\n",
    "fig, axs = plt.subplots(1, 2, figsize=(15, 5))\n",
    "\n",
    "graph_metrics_by_axis(axs[0], results, metric_key, single_training_keys, id_to_readable, mult_sd=0)\n",
    "axs[0].set_ylabel(y_labels[metric_key])\n",
    "axs[0].set_xlabel(\"Timestep\")\n",
    "axs[0].set_title(f\"{metric_key} - Single Training\")\n",
    "axs[0].legend(facecolor='white', framealpha=1, loc='upper right', bbox_to_anchor=(1, 0.5), fontsize=\"8\",)\n",
    "\n",
    "graph_metrics_by_axis(axs[1], results, metric_key, repeated_training_keys, id_to_readable, mult_sd=0)\n",
    "axs[1].set_ylabel(y_labels[metric_key])\n",
    "axs[1].set_xlabel(\"Timestep\")\n",
    "axs[1].set_title(f\"{metric_key} - Repeated Training\")\n",
    "axs[1].legend(facecolor='white', framealpha=1, loc='upper right', bbox_to_anchor=(1, 0.5), fontsize=\"8\",)"
   ]
  },
  {
   "cell_type": "code",
   "execution_count": null,
   "metadata": {},
   "outputs": [],
   "source": [
    "metric_key = \"intra_cluster_interaction_similarity\"\n",
    "\n",
    "fig, axs = plt.subplots(2, 3, figsize=(20, 10))\n",
    "\n",
    "for i in range(len(model_key_pairs)):\n",
    "    curr_ax = axs[int(i >= 3), i%3]\n",
    "    graph_metrics_by_axis(curr_ax, results, metric_key, model_key_pairs[i], id_to_readable, mult_sd=0)\n",
    "    curr_ax.set_ylabel(y_labels[metric_key])\n",
    "    curr_ax.set_xlabel(\"Timestep\")\n",
    "    curr_ax.set_title(f\"{metric_key} - drift={models[model_key_pairs[i][0]][0]}, attention_exp={models[model_key_pairs[i][0]][1]}\")"
   ]
  },
  {
   "attachments": {},
   "cell_type": "markdown",
   "metadata": {},
   "source": []
  },
  {
   "attachments": {},
   "cell_type": "markdown",
   "metadata": {},
   "source": [
    "### Graphing **`Intra`** `-Cluster Interaction Similarity` and **`Inter`** `-Cluster Interaction Similarity` relative to `Global Interaction Simarilty`"
   ]
  },
  {
   "cell_type": "code",
   "execution_count": null,
   "metadata": {},
   "outputs": [],
   "source": [
    "global_metric_key = \"global_interaction_similarity\""
   ]
  },
  {
   "attachments": {},
   "cell_type": "markdown",
   "metadata": {},
   "source": [
    "#### Graphing **`Inter`** `-Cluster Interaction Similarity` relative to `Global Interaction Simarilty`\n",
    "**Single training vs. Retraining**"
   ]
  },
  {
   "cell_type": "code",
   "execution_count": null,
   "metadata": {},
   "outputs": [],
   "source": [
    "metric_key = \"inter_cluster_interaction_similarity\"\n",
    "\n",
    "fig, axs = plt.subplots(2, 3, figsize=(30, 15))\n",
    "fig.tight_layout(pad=10.0)\n",
    "\n",
    "for i in range(len(model_key_pairs)):\n",
    "    curr_ax = axs[int(i >= 3), i%3]\n",
    "    graph_relative_to_global_by_axis(curr_ax, results, global_metric_key, metric_key, model_key_pairs[i], id_to_readable, mult_sd=0)\n",
    "    curr_ax.set_ylabel(y_labels[metric_key])\n",
    "    curr_ax.set_xlabel(\"Timestep\")\n",
    "    curr_ax.set_title(f\"{metric_key}\\nrelative to {global_metric_key}\\n\\ndrift={models[model_key_pairs[i][0]][0]}, attention_exp={models[model_key_pairs[i][0]][1]}\")"
   ]
  },
  {
   "cell_type": "code",
   "execution_count": null,
   "metadata": {},
   "outputs": [],
   "source": [
    "metric_key = \"inter_cluster_interaction_similarity\"\n",
    "\n",
    "single_training_keys = [key[0] for key in model_key_pairs]\n",
    "repeated_training_keys = [key[1] for key in model_key_pairs]\n",
    "\n",
    "fig, axs = plt.subplots(1, 2, figsize=(15, 5))\n",
    "\n",
    "graph_relative_to_global_by_axis(axs[0], results, global_metric_key, metric_key, single_training_keys, id_to_readable, mult_sd=0)\n",
    "axs[0].set_ylabel(y_labels[metric_key])\n",
    "axs[0].set_xlabel(\"Timestep\")\n",
    "axs[0].set_title(f\"{metric_key} - Single Training\")\n",
    "axs[0].legend(facecolor='white', framealpha=1, loc='upper right', bbox_to_anchor=(1, 0.5), fontsize=\"8\",)\n",
    "\n",
    "graph_relative_to_global_by_axis(axs[1], results, global_metric_key, metric_key, repeated_training_keys, id_to_readable, mult_sd=0)\n",
    "axs[1].set_ylabel(y_labels[metric_key])\n",
    "axs[1].set_xlabel(\"Timestep\")\n",
    "axs[1].set_title(f\"{metric_key} - Repeated Training\")\n",
    "axs[1].legend(facecolor='white', framealpha=1, loc='upper right', bbox_to_anchor=(1, 0.5), fontsize=\"8\",)"
   ]
  },
  {
   "attachments": {},
   "cell_type": "markdown",
   "metadata": {},
   "source": [
    "#### Graphing **`Intra`** `-Cluster Interaction Similarity` relative to `Global Interaction Simarilty`\n",
    "**Single training vs. Retraining**"
   ]
  },
  {
   "cell_type": "code",
   "execution_count": null,
   "metadata": {},
   "outputs": [],
   "source": [
    "metric_key = \"intra_cluster_interaction_similarity\"\n",
    "\n",
    "fig, axs = plt.subplots(2, 3, figsize=(30, 15))\n",
    "fig.tight_layout(pad=10.0)\n",
    "\n",
    "for i in range(len(model_key_pairs)):\n",
    "    curr_ax = axs[int(i >= 3), i%3]\n",
    "    graph_relative_to_global_by_axis(curr_ax, results, global_metric_key, metric_key, model_key_pairs[i], id_to_readable, mult_sd=0)\n",
    "    curr_ax.set_ylabel(y_labels[metric_key])\n",
    "    curr_ax.set_xlabel(\"Timestep\")\n",
    "    curr_ax.set_title(f\"{metric_key}\\nrelative to {global_metric_key}\\n\\ndrift={models[model_key_pairs[i][0]][0]}, attention_exp={models[model_key_pairs[i][0]][1]}\")\n",
    "    curr_ax.set_xlim(40, 100)"
   ]
  },
  {
   "cell_type": "code",
   "execution_count": null,
   "metadata": {},
   "outputs": [],
   "source": [
    "metric_key = \"intra_cluster_interaction_similarity\"\n",
    "\n",
    "single_training_keys = [key[0] for key in model_key_pairs]\n",
    "repeated_training_keys = [key[1] for key in model_key_pairs]\n",
    "\n",
    "fig, axs = plt.subplots(1, 2, figsize=(15, 5))\n",
    "\n",
    "graph_relative_to_global_by_axis(axs[0], results, global_metric_key, metric_key, single_training_keys, id_to_readable, mult_sd=0)\n",
    "axs[0].set_ylabel(y_labels[metric_key])\n",
    "axs[0].set_xlabel(\"Timestep\")\n",
    "axs[0].set_title(f\"{metric_key} - Single Training\")\n",
    "axs[0].legend(facecolor='white', framealpha=1, loc='upper right', bbox_to_anchor=(1, 0.5), fontsize=\"8\",)\n",
    "\n",
    "graph_relative_to_global_by_axis(axs[1], results, global_metric_key, metric_key, repeated_training_keys, id_to_readable, mult_sd=0)\n",
    "axs[1].set_ylabel(y_labels[metric_key])\n",
    "axs[1].set_xlabel(\"Timestep\")\n",
    "axs[1].set_title(f\"{metric_key} - Repeated Training\")\n",
    "axs[1].legend(facecolor='white', framealpha=1, loc='upper right', bbox_to_anchor=(1, 0.5), fontsize=\"8\",)"
   ]
  },
  {
   "attachments": {},
   "cell_type": "markdown",
   "metadata": {},
   "source": [
    "#### Graphing **`Cluster Interaction Similarity`** relative to `Global Interaction Simarilty`"
   ]
  },
  {
   "attachments": {},
   "cell_type": "markdown",
   "metadata": {},
   "source": [
    "**Inter- vs. Intra-**"
   ]
  },
  {
   "cell_type": "code",
   "execution_count": null,
   "metadata": {},
   "outputs": [],
   "source": [
    "\"\"\"\n",
    "Single training\n",
    "\"\"\"\n",
    "metric_keys = [\"intra_cluster_interaction_similarity\", \"inter_cluster_interaction_similarity\"]\n",
    "\n",
    "fig, axs = plt.subplots(2, 3, figsize=(30, 15))\n",
    "fig.tight_layout(pad=10.0)\n",
    "\n",
    "for i in range(len(model_key_pairs)):\n",
    "    curr_ax = axs[int(i >= 3), i%3]\n",
    "    graph_relative_to_global_by_axis(curr_ax, results, global_metric_key, metric_keys[0], (model_key_pairs[i][0],), id_to_readable, mult_sd=0, graph_by=\"metric\")\n",
    "    graph_relative_to_global_by_axis(curr_ax, results, global_metric_key, metric_keys[1], (model_key_pairs[i][0],), id_to_readable, mult_sd=0, graph_by=\"metric\")\n",
    "    curr_ax.set_ylabel(y_labels[metric_keys[0]])\n",
    "    curr_ax.set_xlabel(\"Timestep\")\n",
    "    curr_ax.set_title(f\"Single Training\\nInter- v. Intra- Cluster Interaction Similarity\\nrelative to {global_metric_key}\\n\\ndrift={models[model_key_pairs[i][0]][0]}, attention_exp={models[model_key_pairs[i][0]][1]}\")\n",
    "    # curr_ax.set_ylim(-0.1, 1.75)\n",
    "    curr_ax.set_xlim(40, 100)"
   ]
  },
  {
   "cell_type": "code",
   "execution_count": null,
   "metadata": {},
   "outputs": [],
   "source": [
    "\"\"\"\n",
    "Repeated training\n",
    "\"\"\"\n",
    "metric_keys = [\"intra_cluster_interaction_similarity\", \"inter_cluster_interaction_similarity\"]\n",
    "\n",
    "fig, axs = plt.subplots(2, 3, figsize=(30, 15))\n",
    "fig.tight_layout(pad=10.0)\n",
    "\n",
    "for i in range(len(model_key_pairs)):\n",
    "    curr_ax = axs[int(i >= 3), i%3]\n",
    "    graph_relative_to_global_by_axis(curr_ax, results, global_metric_key, metric_keys[0], (model_key_pairs[i][1],), id_to_readable, mult_sd=0, graph_by=\"metric\")\n",
    "    graph_relative_to_global_by_axis(curr_ax, results, global_metric_key, metric_keys[1], (model_key_pairs[i][0],), id_to_readable, mult_sd=0, graph_by=\"metric\")\n",
    "    curr_ax.set_ylabel(y_labels[metric_keys[0]])\n",
    "    curr_ax.set_xlabel(\"Timestep\")\n",
    "    curr_ax.set_title(f\"Repeated Training\\nInter- v. Intra- Cluster Interaction Similarity\\nrelative to {global_metric_key}\\n\\ndrift={models[model_key_pairs[i][0]][0]}, attention_exp={models[model_key_pairs[i][0]][1]}\")\n",
    "    # curr_ax.set_ylim(-0.1, 1.75)\n",
    "    # curr_ax.set_xlim(40, 100)"
   ]
  },
  {
   "cell_type": "code",
   "execution_count": null,
   "metadata": {},
   "outputs": [],
   "source": [
    "\"\"\"\n",
    "Single training\n",
    "\"\"\"\n",
    "metric_keys = [\"intra_cluster_interaction_similarity\", \"inter_cluster_interaction_similarity\", \"global_interaction_similarity\"]\n",
    "\n",
    "fig, axs = plt.subplots(2, 3, figsize=(30, 15))\n",
    "fig.tight_layout(pad=10.0)\n",
    "\n",
    "for i in range(len(model_key_pairs)):\n",
    "    curr_ax = axs[int(i >= 3), i%3]\n",
    "    graph_metrics_by_axis(curr_ax, results, metric_keys[0], (model_key_pairs[i][0],), id_to_readable, mult_sd=0, label=\"metric\")\n",
    "    graph_metrics_by_axis(curr_ax, results, metric_keys[1], (model_key_pairs[i][0],), id_to_readable, mult_sd=0, label=\"metric\")\n",
    "    graph_metrics_by_axis(curr_ax, results, metric_keys[2], (model_key_pairs[i][0],), id_to_readable, mult_sd=0, label=\"metric\")\n",
    "    curr_ax.set_ylabel(y_labels[metric_keys[0]])\n",
    "    curr_ax.set_xlabel(\"Timestep\")\n",
    "    curr_ax.set_title(f\"Single Training\\nInter- v. Intra- v. Global Interaction Similarity\\n\\ndrift={models[model_key_pairs[i][0]][0]}, attention_exp={models[model_key_pairs[i][0]][1]}\")"
   ]
  },
  {
   "cell_type": "code",
   "execution_count": null,
   "metadata": {},
   "outputs": [],
   "source": [
    "\"\"\"\n",
    "Repeated training\n",
    "\"\"\"\n",
    "metric_keys = [\"intra_cluster_interaction_similarity\", \"inter_cluster_interaction_similarity\", \"global_interaction_similarity\"]\n",
    "\n",
    "fig, axs = plt.subplots(2, 3, figsize=(30, 15))\n",
    "fig.tight_layout(pad=10.0)\n",
    "\n",
    "for i in range(len(model_key_pairs)):\n",
    "    curr_ax = axs[int(i >= 3), i%3]\n",
    "    graph_metrics_by_axis(curr_ax, results, metric_keys[0], (model_key_pairs[i][1],), id_to_readable, mult_sd=0, label=\"metric\")\n",
    "    graph_metrics_by_axis(curr_ax, results, metric_keys[1], (model_key_pairs[i][1],), id_to_readable, mult_sd=0, label=\"metric\")\n",
    "    graph_metrics_by_axis(curr_ax, results, metric_keys[2], (model_key_pairs[i][1],), id_to_readable, mult_sd=0, label=\"metric\")\n",
    "    curr_ax.set_ylabel(y_labels[metric_keys[0]])\n",
    "    curr_ax.set_xlabel(\"Timestep\")\n",
    "    curr_ax.set_title(f\"Repeated Training\\nInter- v. Intra- v. Global Interaction Similarity\\n\\ndrift={models[model_key_pairs[i][0]][0]}, attention_exp={models[model_key_pairs[i][0]][1]}\")"
   ]
  },
  {
   "attachments": {},
   "cell_type": "markdown",
   "metadata": {},
   "source": [
    "**Intra-Cluster:Inter-Cluster Interaction Similarity, Single training v. Repeated training**"
   ]
  },
  {
   "cell_type": "code",
   "execution_count": null,
   "metadata": {},
   "outputs": [],
   "source": [
    "numerator = \"intra_cluster_interaction_similarity\"\n",
    "denominator = \"inter_cluster_interaction_similarity\"\n",
    "\n",
    "fig, axs = plt.subplots(2, 3, figsize=(30, 15))\n",
    "fig.tight_layout(pad=10.0)\n",
    "\n",
    "for i in range(len(model_key_pairs)):\n",
    "    curr_ax = axs[int(i >= 3), i%3]\n",
    "    graph_relative_to_global_by_axis(curr_ax, results, denominator, numerator, model_key_pairs[i], id_to_readable, mult_sd=0)\n",
    "    curr_ax.set_ylabel(\"Proportion, average jacard index\")\n",
    "    curr_ax.set_xlabel(\"Timestep\")\n",
    "    curr_ax.set_title(f\"Repeated Training\\nIntra:Inter- Cluster Interaction Similarity Proportion\\n {global_metric_key}\\n\\ndrift={models[model_key_pairs[i][0]][0]}, attention_exp={models[model_key_pairs[i][0]][1]}\")\n",
    "    # curr_ax.set_ylim(-0.1, 1.75)\n",
    "    # curr_ax.set_xlim(40, 100)\n",
    "    curr_ax.legend(facecolor='white', framealpha=1, loc='upper right', bbox_to_anchor=(1, 1), fontsize=\"20\",)"
   ]
  },
  {
   "attachments": {},
   "cell_type": "markdown",
   "metadata": {},
   "source": [
    "# Graphing `Cosine Similarity`"
   ]
  },
  {
   "attachments": {},
   "cell_type": "markdown",
   "metadata": {},
   "source": [
    "### Graphing **`Intra`** `-Cluster Cosine Similarity`"
   ]
  },
  {
   "cell_type": "code",
   "execution_count": null,
   "metadata": {},
   "outputs": [],
   "source": [
    "metric_key = \"mean_intra_cluster_cosine_sim\"\n",
    "\n",
    "single_training_keys = [key[0] for key in model_key_pairs]\n",
    "repeated_training_keys = [key[1] for key in model_key_pairs]\n",
    "\n",
    "fig, axs = plt.subplots(1, 2, figsize=(15, 5))\n",
    "\n",
    "graph_metrics_by_axis(axs[0], results, metric_key, single_training_keys, id_to_readable, mult_sd=0)\n",
    "axs[0].set_ylabel(y_labels[metric_key])\n",
    "axs[0].set_xlabel(\"Timestep\")\n",
    "axs[0].set_title(f\"{metric_key} - Single Training\")\n",
    "axs[0].legend(facecolor='white', framealpha=1, loc='upper right', bbox_to_anchor=(1, 0.5), fontsize=\"8\",)\n",
    "\n",
    "graph_metrics_by_axis(axs[1], results, metric_key, repeated_training_keys, id_to_readable, mult_sd=0)\n",
    "axs[1].set_ylabel(y_labels[metric_key])\n",
    "axs[1].set_xlabel(\"Timestep\")\n",
    "axs[1].set_title(f\"{metric_key} - Repeated Training\")\n",
    "axs[1].legend(facecolor='white', framealpha=1, loc='upper right', bbox_to_anchor=(1, 0.5), fontsize=\"8\",)"
   ]
  },
  {
   "cell_type": "code",
   "execution_count": null,
   "metadata": {},
   "outputs": [],
   "source": [
    "metric_key = \"mean_intra_cluster_cosine_sim\"\n",
    "\n",
    "fig, axs = plt.subplots(2, 3, figsize=(20, 10))\n",
    "\n",
    "for i in range(len(model_key_pairs)):\n",
    "    curr_ax = axs[int(i >= 3), i%3]\n",
    "    graph_metrics_by_axis(curr_ax, results, metric_key, model_key_pairs[i], id_to_readable, mult_sd=0)\n",
    "    curr_ax.set_ylabel(y_labels[metric_key])\n",
    "    curr_ax.set_xlabel(\"Timestep\")\n",
    "    curr_ax.set_title(f\"{metric_key} - drift={models[model_key_pairs[i][0]][0]}, attention_exp={models[model_key_pairs[i][0]][1]}\")"
   ]
  },
  {
   "attachments": {},
   "cell_type": "markdown",
   "metadata": {},
   "source": [
    "### Graphing **`Inter`** `-Cluster Cosine Similarity`"
   ]
  },
  {
   "cell_type": "code",
   "execution_count": null,
   "metadata": {},
   "outputs": [],
   "source": [
    "metric_key = \"mean_inter_cluster_cosine_sim\"\n",
    "\n",
    "fig, axs = plt.subplots(1, 2, figsize=(15, 5))\n",
    "\n",
    "graph_metrics_by_axis(axs[0], results, metric_key, single_training_keys, id_to_readable, mult_sd=0)\n",
    "axs[0].set_ylabel(y_labels[metric_key])\n",
    "axs[0].set_xlabel(\"Timestep\")\n",
    "axs[0].set_title(f\"{metric_key} - Single Training\")\n",
    "axs[0].legend(facecolor='white', framealpha=1, loc='upper right', bbox_to_anchor=(1, 0.5), fontsize=\"8\",)\n",
    "\n",
    "graph_metrics_by_axis(axs[1], results, metric_key, repeated_training_keys, id_to_readable, mult_sd=0)\n",
    "axs[1].set_ylabel(y_labels[metric_key])\n",
    "axs[1].set_xlabel(\"Timestep\")\n",
    "axs[1].set_title(f\"{metric_key} - Repeated Training\")\n",
    "axs[1].legend(facecolor='white', framealpha=1, loc='upper right', bbox_to_anchor=(1, 0.5), fontsize=\"8\",)"
   ]
  },
  {
   "cell_type": "code",
   "execution_count": null,
   "metadata": {},
   "outputs": [],
   "source": [
    "metric_key = \"mean_inter_cluster_cosine_sim\"\n",
    "\n",
    "fig, axs = plt.subplots(2, 3, figsize=(20, 10))\n",
    "\n",
    "for i in range(len(model_key_pairs)):\n",
    "    curr_ax = axs[int(i >= 3), i%3]\n",
    "    graph_metrics_by_axis(curr_ax, results, metric_key, model_key_pairs[i], id_to_readable, mult_sd=0)\n",
    "    curr_ax.set_ylabel(y_labels[metric_key])\n",
    "    curr_ax.set_xlabel(\"Timestep\")\n",
    "    curr_ax.set_title(f\"{metric_key} - drift={models[model_key_pairs[i][0]][0]}, attention_exp={models[model_key_pairs[i][0]][1]}\")"
   ]
  },
  {
   "attachments": {},
   "cell_type": "markdown",
   "metadata": {},
   "source": [
    "#### Graphing **`Cluster Cosine Similarity`** relative to `Global Cosine Simarilty`"
   ]
  },
  {
   "cell_type": "code",
   "execution_count": null,
   "metadata": {},
   "outputs": [],
   "source": [
    "\"\"\"\n",
    "Single training\n",
    "\"\"\"\n",
    "metric_keys = [\"mean_intra_cluster_cosine_sim\", \"mean_inter_cluster_cosine_sim\", \"mean_global_cosine_sim\"]\n",
    "\n",
    "fig, axs = plt.subplots(2, 3, figsize=(30, 15))\n",
    "fig.tight_layout(pad=10.0)\n",
    "\n",
    "for i in range(len(model_key_pairs)):\n",
    "    curr_ax = axs[int(i >= 3), i%3]\n",
    "    graph_metrics_by_axis(curr_ax, results, metric_keys[0], (model_key_pairs[i][0],), id_to_readable, mult_sd=0, label=\"metric\")\n",
    "    graph_metrics_by_axis(curr_ax, results, metric_keys[1], (model_key_pairs[i][0],), id_to_readable, mult_sd=0, label=\"metric\")\n",
    "    graph_metrics_by_axis(curr_ax, results, metric_keys[2], (model_key_pairs[i][0],), id_to_readable, mult_sd=0, label=\"metric\")\n",
    "    curr_ax.set_ylabel(y_labels[metric_keys[0]])\n",
    "    curr_ax.set_xlabel(\"Timestep\")\n",
    "    curr_ax.set_title(f\"Single Training\\nInter- v. Intra- v. Global Cosine Similarity\\n\\ndrift={models[model_key_pairs[i][0]][0]}, attention_exp={models[model_key_pairs[i][0]][1]}\")\n"
   ]
  },
  {
   "cell_type": "code",
   "execution_count": null,
   "metadata": {},
   "outputs": [],
   "source": [
    "\"\"\"\n",
    "Repeated training\n",
    "\"\"\"\n",
    "metric_keys = [\"mean_intra_cluster_cosine_sim\", \"mean_inter_cluster_cosine_sim\", \"mean_global_cosine_sim\"]\n",
    "\n",
    "fig, axs = plt.subplots(2, 3, figsize=(30, 15))\n",
    "fig.tight_layout(pad=10.0)\n",
    "\n",
    "for i in range(len(model_key_pairs)):\n",
    "    curr_ax = axs[int(i >= 3), i%3]\n",
    "    graph_metrics_by_axis(curr_ax, results, metric_keys[0], (model_key_pairs[i][1],), id_to_readable, mult_sd=0, label=\"metric\")\n",
    "    graph_metrics_by_axis(curr_ax, results, metric_keys[1], (model_key_pairs[i][1],), id_to_readable, mult_sd=0, label=\"metric\")\n",
    "    graph_metrics_by_axis(curr_ax, results, metric_keys[2], (model_key_pairs[i][1],), id_to_readable, mult_sd=0, label=\"metric\")\n",
    "    curr_ax.set_ylabel(y_labels[metric_keys[0]])\n",
    "    curr_ax.set_xlabel(\"Timestep\")\n",
    "    curr_ax.set_title(f\"Repeated Training\\n\\nInter- v. Intra- v. Global Cosine Similarity\\n\\ndrift={models[model_key_pairs[i][0]][0]}, attention_exp={models[model_key_pairs[i][0]][1]}\")"
   ]
  },
  {
   "cell_type": "code",
   "execution_count": null,
   "metadata": {},
   "outputs": [],
   "source": [
    "numerator = \"mean_intra_cluster_cosine_sim\"\n",
    "denominator = \"mean_inter_cluster_cosine_sim\"\n",
    "\n",
    "fig, axs = plt.subplots(2, 3, figsize=(30, 15))\n",
    "fig.tight_layout(pad=10.0)\n",
    "\n",
    "for i in range(len(model_key_pairs)):\n",
    "    curr_ax = axs[int(i >= 3), i%3]\n",
    "    graph_relative_to_global_by_axis(curr_ax, results, denominator, numerator, model_key_pairs[i], id_to_readable, mult_sd=0)\n",
    "    curr_ax.set_ylabel(\"Proportion, mean cosine similarity\")\n",
    "    curr_ax.set_xlabel(\"Timestep\")\n",
    "    curr_ax.set_title(f\"Single v. Repeated Training\\nInter- v. Intra- Cluster Cosine Similarity Proportion\\n {global_metric_key}\\n\\ndrift={models[model_key_pairs[i][0]][0]}, attention_exp={models[model_key_pairs[i][0]][1]}\")"
   ]
  },
  {
   "attachments": {},
   "cell_type": "markdown",
   "metadata": {},
   "source": [
    "# Graphing `Distance from centroid`"
   ]
  },
  {
   "attachments": {},
   "cell_type": "markdown",
   "metadata": {},
   "source": [
    "### Graphing `mean_cluster_distance_from_centroid`"
   ]
  },
  {
   "cell_type": "code",
   "execution_count": null,
   "metadata": {},
   "outputs": [],
   "source": [
    "metric_key = \"mean_cluster_distance_from_centroid\"\n",
    "\n",
    "single_training_keys = [key[0] for key in model_key_pairs]\n",
    "repeated_training_keys = [key[1] for key in model_key_pairs]\n",
    "\n",
    "fig, axs = plt.subplots(1, 2, figsize=(15, 5))\n",
    "\n",
    "graph_metrics_by_axis(axs[0], results, metric_key, single_training_keys, id_to_readable, mult_sd=0)\n",
    "axs[0].set_ylabel(y_labels[metric_key])\n",
    "axs[0].set_xlabel(\"Timestep\")\n",
    "axs[0].set_title(f\"{metric_key} - Single Training\")\n",
    "axs[0].legend(facecolor='white', framealpha=1, loc='upper right', bbox_to_anchor=(1, 0.5), fontsize=\"8\",)\n",
    "\n",
    "graph_metrics_by_axis(axs[1], results, metric_key, repeated_training_keys, id_to_readable, mult_sd=0)\n",
    "axs[1].set_ylabel(y_labels[metric_key])\n",
    "axs[1].set_xlabel(\"Timestep\")\n",
    "axs[1].set_title(f\"{metric_key} - Repeated Training\")\n",
    "axs[1].legend(facecolor='white', framealpha=1, loc='upper right', bbox_to_anchor=(1, 0.5), fontsize=\"8\",)"
   ]
  },
  {
   "attachments": {},
   "cell_type": "markdown",
   "metadata": {},
   "source": [
    "#### Graphing **`Intra-Cluster Distance`** relative to `Global Distance`"
   ]
  },
  {
   "cell_type": "code",
   "execution_count": null,
   "metadata": {},
   "outputs": [],
   "source": [
    "\"\"\"\n",
    "Single training\n",
    "\"\"\"\n",
    "metric_keys = ['mean_cluster_distance_from_centroid', 'mean_global_distance_from_centroid']\n",
    "\n",
    "fig, axs = plt.subplots(2, 3, figsize=(30, 15))\n",
    "fig.tight_layout(pad=10.0)\n",
    "\n",
    "for i in range(len(model_key_pairs)):\n",
    "    curr_ax = axs[int(i >= 3), i%3]\n",
    "    graph_metrics_by_axis(curr_ax, results, metric_keys[0], (model_key_pairs[i][0],), id_to_readable, mult_sd=0, label=\"metric\")\n",
    "    graph_metrics_by_axis(curr_ax, results, metric_keys[1], (model_key_pairs[i][0],), id_to_readable, mult_sd=0, label=\"metric\")\n",
    "    curr_ax.set_ylabel(y_labels[metric_keys[0]])\n",
    "    curr_ax.set_xlabel(\"Timestep\")\n",
    "    curr_ax.set_title(f\"Single Training\\nDistance from Centroid\\n\\ndrift={models[model_key_pairs[i][0]][0]}, attention_exp={models[model_key_pairs[i][0]][1]}\")"
   ]
  },
  {
   "cell_type": "code",
   "execution_count": null,
   "metadata": {},
   "outputs": [],
   "source": [
    "\"\"\"\n",
    "Repeated training\n",
    "\"\"\"\n",
    "metric_keys = ['mean_cluster_distance_from_centroid', 'mean_global_distance_from_centroid']\n",
    "\n",
    "fig, axs = plt.subplots(2, 3, figsize=(30, 15))\n",
    "fig.tight_layout(pad=10.0)\n",
    "\n",
    "for i in range(len(model_key_pairs)):\n",
    "    curr_ax = axs[int(i >= 3), i%3]\n",
    "    graph_metrics_by_axis(curr_ax, results, metric_keys[0], (model_key_pairs[i][1],), id_to_readable, mult_sd=0, label=\"metric\")\n",
    "    graph_metrics_by_axis(curr_ax, results, metric_keys[1], (model_key_pairs[i][1],), id_to_readable, mult_sd=0, label=\"metric\")\n",
    "    curr_ax.set_ylabel(y_labels[metric_keys[0]])\n",
    "    curr_ax.set_xlabel(\"Timestep\")\n",
    "    curr_ax.set_title(f\"Repeated Training\\nDistance from Centroid\\n\\ndrift={models[model_key_pairs[i][0]][0]}, attention_exp={models[model_key_pairs[i][0]][1]}\")"
   ]
  },
  {
   "cell_type": "code",
   "execution_count": null,
   "metadata": {},
   "outputs": [],
   "source": [
    "numerator = \"mean_cluster_distance_from_centroid\"\n",
    "denominator = \"mean_global_distance_from_centroid\"\n",
    "\n",
    "fig, axs = plt.subplots(2, 3, figsize=(30, 15))\n",
    "fig.tight_layout(pad=10.0)\n",
    "\n",
    "for i in range(len(model_key_pairs)):\n",
    "    curr_ax = axs[int(i >= 3), i%3]\n",
    "    graph_relative_to_global_by_axis(curr_ax, results, denominator, numerator, model_key_pairs[i], id_to_readable, mult_sd=0)\n",
    "    curr_ax.set_xlim(50, 100)\n",
    "    if i > 1:\n",
    "        curr_ax.set_ylim(0.9, 1.1)\n",
    "    curr_ax.set_ylabel(\"Proportion, mean cosine similarity\")\n",
    "    curr_ax.set_xlabel(\"Timestep\")\n",
    "    curr_ax.set_title(f\"Single v. Repeated Training\\nIntra-Cluster v. Global Distance from Centroid Proportion\\n {global_metric_key}\\n\\ndrift={models[model_key_pairs[i][0]][0]}, attention_exp={models[model_key_pairs[i][0]][1]}\")"
   ]
  },
  {
   "cell_type": "code",
   "execution_count": null,
   "metadata": {},
   "outputs": [],
   "source": []
  },
  {
   "attachments": {},
   "cell_type": "markdown",
   "metadata": {},
   "source": [
    "# Analyzing histogram data"
   ]
  },
  {
   "attachments": {},
   "cell_type": "markdown",
   "metadata": {},
   "source": [
    "#### Graphing `mean_cosine_sim_per_cluster`"
   ]
  },
  {
   "cell_type": "code",
   "execution_count": null,
   "metadata": {},
   "outputs": [],
   "source": [
    "n_clusters = 10\n",
    "label_map = dict()\n",
    "for i in range(n_clusters):\n",
    "    label_map[i] = f\"clust_{i}\""
   ]
  },
  {
   "cell_type": "code",
   "execution_count": null,
   "metadata": {},
   "outputs": [],
   "source": [
    "\"\"\"\n",
    "Single training\n",
    "\"\"\"\n",
    "metric_key = 'mean_cosine_sim_per_cluster'\n",
    "\n",
    "fig, axs = plt.subplots(2, 3, figsize=(30, 15))\n",
    "fig.tight_layout(pad=10.0)\n",
    "\n",
    "for i in range(len(model_key_pairs)):\n",
    "    curr_ax = axs[int(i >= 3), i%3]\n",
    "    graph_histogram_metric_by_axis(curr_ax, results, metric_key, (model_key_pairs[i][0],), label_map, mean_sigma=0, mult_sd=0, conf_sigma=0)\n",
    "    curr_ax.set_ylabel(y_labels[metric_key])\n",
    "    curr_ax.set_xlabel(\"Timestep\")\n",
    "    curr_ax.set_title(f\"Single Training\\nMean cos-sim Per Cluster\\n\\ndrift={models[model_key_pairs[i][0]][0]}, attention_exp={models[model_key_pairs[i][0]][1]}\")"
   ]
  },
  {
   "cell_type": "code",
   "execution_count": null,
   "metadata": {},
   "outputs": [],
   "source": [
    "\"\"\"\n",
    "Repeated training\n",
    "\"\"\"\n",
    "metric_key = 'mean_cosine_sim_per_cluster'\n",
    "\n",
    "fig, axs = plt.subplots(2, 3, figsize=(30, 15))\n",
    "fig.tight_layout(pad=10.0)\n",
    "\n",
    "for i in range(len(model_key_pairs)):\n",
    "    curr_ax = axs[int(i >= 3), i%3]\n",
    "    graph_histogram_metric_by_axis(curr_ax, results, metric_key, (model_key_pairs[i][1],), label_map, mean_sigma=0, mult_sd=0, conf_sigma=0)\n",
    "    curr_ax.set_ylabel(y_labels[metric_key])\n",
    "    curr_ax.set_xlabel(\"Timestep\")\n",
    "    curr_ax.set_title(f\"Repeated Training\\nMean cos-sim Per Cluster\\n\\ndrift={models[model_key_pairs[i][0]][0]}, attention_exp={models[model_key_pairs[i][0]][1]}\")"
   ]
  },
  {
   "attachments": {},
   "cell_type": "markdown",
   "metadata": {},
   "source": [
    "#### Graphing `mean_distance_from_centroid_per_cluster`"
   ]
  },
  {
   "cell_type": "code",
   "execution_count": null,
   "metadata": {},
   "outputs": [],
   "source": [
    "\"\"\"\n",
    "Single training\n",
    "\"\"\"\n",
    "metric_key = 'mean_distance_from_centroid_per_cluster'\n",
    "\n",
    "fig, axs = plt.subplots(2, 3, figsize=(30, 15))\n",
    "fig.tight_layout(pad=10.0)\n",
    "\n",
    "for i in range(len(model_key_pairs)):\n",
    "    curr_ax = axs[int(i >= 3), i%3]\n",
    "    curr_ax.plot(results['mean_global_distance_from_centroid'][model_key_pairs[i][0]].mean(axis=0), label=\"GLOBAL\", linewidth=3)\n",
    "    graph_histogram_metric_by_axis(curr_ax, results, metric_key, (model_key_pairs[i][0],), label_map, mean_sigma=0, mult_sd=0, conf_sigma=0)\n",
    "    curr_ax.set_ylabel(y_labels[metric_key])\n",
    "    curr_ax.set_xlabel(\"Timestep\")\n",
    "    curr_ax.set_title(f\"Single Training\\nMean distance from centroid Per Cluster\\n\\ndrift={models[model_key_pairs[i][0]][0]}, attention_exp={models[model_key_pairs[i][0]][1]}\")"
   ]
  },
  {
   "cell_type": "code",
   "execution_count": null,
   "metadata": {},
   "outputs": [],
   "source": [
    "\"\"\"\n",
    "Repeated training\n",
    "\"\"\"\n",
    "metric_key = 'mean_distance_from_centroid_per_cluster'\n",
    "\n",
    "fig, axs = plt.subplots(2, 3, figsize=(30, 15))\n",
    "fig.tight_layout(pad=10.0)\n",
    "\n",
    "for i in range(len(model_key_pairs)):\n",
    "    curr_ax = axs[int(i >= 3), i%3]\n",
    "    curr_ax.plot(results['mean_global_distance_from_centroid'][model_key_pairs[i][1]].mean(axis=0), label=\"GLOBAL\", linewidth=3)\n",
    "    graph_histogram_metric_by_axis(curr_ax, results, metric_key, (model_key_pairs[i][1],), label_map, mean_sigma=0, mult_sd=0, conf_sigma=0)\n",
    "    curr_ax.set_ylabel(y_labels[metric_key])\n",
    "    curr_ax.set_xlabel(\"Timestep\")\n",
    "    curr_ax.set_title(f\"Repeated Training\\nMean distance from centroid Per Cluster\\n\\ndrift={models[model_key_pairs[i][0]][0]}, attention_exp={models[model_key_pairs[i][0]][1]}\")"
   ]
  }
 ],
 "metadata": {
  "kernelspec": {
   "display_name": "fairRS",
   "language": "python",
   "name": "python3"
  },
  "language_info": {
   "codemirror_mode": {
    "name": "ipython",
    "version": 3
   },
   "file_extension": ".py",
   "mimetype": "text/x-python",
   "name": "python",
   "nbconvert_exporter": "python",
   "pygments_lexer": "ipython3",
   "version": "3.8.15"
  },
  "orig_nbformat": 4
 },
 "nbformat": 4,
 "nbformat_minor": 2
}
