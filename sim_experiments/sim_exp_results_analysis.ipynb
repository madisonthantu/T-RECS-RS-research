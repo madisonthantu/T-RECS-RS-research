{
 "cells": [
  {
   "cell_type": "code",
   "execution_count": 3,
   "metadata": {},
   "outputs": [],
   "source": [
    "import sys\n",
    "sys.path.insert(1, '/Users/madisonthantu/Desktop/DREAM/t-recs')\n",
    "from trecs.metrics import MSEMeasurement, InteractionSpread, InteractionSpread, InteractionSimilarity, RecSimilarity, RMSEMeasurement, InteractionMeasurement\n",
    "from trecs.components import Users\n",
    "\n",
    "import numpy as np\n",
    "import pandas as pd\n",
    "\n",
    "import matplotlib.pyplot as plt\n",
    "from scipy.ndimage import gaussian_filter1d\n",
    "from collections import defaultdict\n",
    "\n",
    "sys.path.insert(1, '/Users/madisonthantu/Desktop/DREAM/T-RECS-RS-research')\n",
    "from prelim_experiments.param_experiments.chaney_utils import (\n",
    "    load_sim_results,\n",
    "    graph_relative_to_ideal,\n",
    "    merge_results,\n",
    "    graph_metrics,\n",
    "    graph_metrics_by_axis,\n",
    "    graph_relative_to_global_by_axis,\n",
    "    transform_relative_to_global,\n",
    "    graph_histogram_metric_by_axis,\n",
    "    graph_averaged_metric_by_axis\n",
    ")\n",
    "from wrapper.models.bubble import BubbleBurster\n",
    "from src.utils import compute_constrained_clusters, create_global_user_pairs, user_topic_mapping, create_cluster_user_pairs, load_and_process_movielens, compute_embeddings\n",
    "from wrapper.metrics.clustering_metrics import MeanCosineSim, MeanDistanceFromCentroid, MeanCosineSimPerCluster, MeanDistanceFromCentroidPerCluster\n",
    "from prelim_experiments.param_experiments.chaney_utils import *\n",
    "\n",
    "import warnings\n",
    "warnings.simplefilter(\"ignore\")\n",
    "\n",
    "import itertools\n",
    "import os"
   ]
  },
  {
   "cell_type": "code",
   "execution_count": 14,
   "metadata": {},
   "outputs": [
    {
     "name": "stdout",
     "output_type": "stream",
     "text": [
      "sim_results/single_training/baseline_myopic-0retraining-0probabilistic-1repeated_items_repeat_interactions\n",
      "sim_results/repeated_training/xquad_binary-1retraining-0probabilistic\n",
      "\n",
      "sim_results/single_training/xquad_binary-0retraining-0probabilistic\n",
      "sim_results/repeated_training/random_recommender-1retraining-Falseprobabilistic-10random_items_per_iter\n",
      "\n",
      "sim_results/single_training/baseline_myopic-0retraining-0probabilistic-0repeated_items_repeat_interactions\n",
      "sim_results/repeated_training/baseline_myopic-1retraining-0probabilistic-1repeated_items_repeat_interactions\n",
      "\n",
      "sim_results/single_training/random_recommender-0retraining-Falseprobabilistic-10random_items_per_iter\n",
      "sim_results/repeated_training/probabilistic_recommender-1retraining-1probabilistic\n",
      "\n",
      "sim_results/single_training/xquad_smooth-0retraining-0probabilistic\n",
      "sim_results/repeated_training/xquad_smooth-1retraining-0probabilistic\n",
      "\n",
      "sim_results/single_training/probabilistic_recommender-0retraining-1probabilistic\n",
      "sim_results/repeated_training/baseline_myopic-1retraining-0probabilistic-0repeated_items_repeat_interactions\n",
      "\n"
     ]
    }
   ],
   "source": [
    "single_training_paths = []\n",
    "for f in os.walk(\"sim_results/single_training\"):\n",
    "    single_training_paths.append(f[0])\n",
    "single_training_paths = single_training_paths[1:]\n",
    "\n",
    "repeated_training_paths = []\n",
    "for f in os.walk(\"sim_results/repeated_training\"):\n",
    "    repeated_training_paths.append(f[0])\n",
    "repeated_training_paths = repeated_training_paths[1:]\n",
    "\n",
    "for i in range(len(single_training_paths)):\n",
    "    print(single_training_paths[i])\n",
    "    print(repeated_training_paths[i])\n",
    "    print()"
   ]
  },
  {
   "cell_type": "code",
   "execution_count": null,
   "metadata": {},
   "outputs": [],
   "source": [
    "# results_path = [\"sim_results/repeated_training/tester\"]\n",
    "# results_file = [\"sim_results.pkl\"]\n",
    "# environment_file = [\"sim_environment.pkl\"]\n",
    "# diagnostics_file = [\"sim_diagnostics.pkl\"]\n",
    "\n",
    "# print()\n",
    "# results = merge_results(results_path, results_file)\n",
    "# print(results.keys())\n",
    "# print(results[\"mse\"].keys())\n",
    "# print(results[\"mean_global_cosine_sim\"][\"tester_Trueretraining_Trueprobabilistic\"])\n",
    "\n",
    "# print()\n",
    "# diagnostics = load_sim_results(results_path[0], diagnostics_file[0])\n",
    "# print(diagnostics.keys())\n",
    "# print(diagnostics[\"mean_global_cosine_sim\"].keys())\n",
    "# print(diagnostics[\"mean_global_cosine_sim\"][\"tester_Trueretraining_Trueprobabilistic\"].keys())\n",
    "# print(diagnostics[\"mean_global_cosine_sim\"][\"tester_Trueretraining_Trueprobabilistic\"][\"max\"])\n",
    "\n",
    "# print()\n",
    "# environment = merge_results(results_path, environment_file)\n",
    "# print(environment.keys())\n",
    "# print(environment[\"user_cluster_centroids\"].keys())\n",
    "# print(environment[\"user_cluster_centroids\"][\"tester_Trueretraining_Trueprobabilistic\"][0].shape)\n"
   ]
  },
  {
   "cell_type": "code",
   "execution_count": 9,
   "metadata": {},
   "outputs": [
    {
     "name": "stdout",
     "output_type": "stream",
     "text": [
      "dict_keys(['mse', 'interaction_spread', 'global_interaction_similarity', 'inter_cluster_interaction_similarity', 'intra_cluster_interaction_similarity', 'mean_global_cosine_sim', 'mean_intra_cluster_cosine_sim', 'mean_inter_cluster_cosine_sim', 'mean_cosine_sim_per_cluster', 'mean_cluster_distance_from_centroid', 'mean_global_distance_from_centroid', 'mean_distance_from_centroid_per_cluster', 'interaction_histogram', 'rmse', 'mean_novelty', 'mean_slate_topic_diversity', 'topic_interaction_histogram', 'topic_interaction_spread', 'mse_per_user'])\n",
      "dict_keys(['baseline_myopic-0retraining-0probabilistic-1repeated_items_repeat_interactions-1repeated_items_repeat_interactions', 'xquad_binary_0.1alpha', 'xquad_binary_0.25alpha', 'baseline_myopic-0retraining-0probabilistic', 'random_recommender-0retraining-Falseprobabilistic-10random_items_per_iter', 'xquad_smooth_0.1alpha', 'xquad_smooth_0.25alpha', 'probabilistic_recommender-0retraining-1probabilistic-Falserepeated_items_repeat_interactions'])\n",
      "dict_keys(['mse', 'interaction_spread', 'global_interaction_similarity', 'inter_cluster_interaction_similarity', 'intra_cluster_interaction_similarity', 'mean_global_cosine_sim', 'mean_intra_cluster_cosine_sim', 'mean_inter_cluster_cosine_sim', 'mean_cosine_sim_per_cluster', 'mean_cluster_distance_from_centroid', 'mean_global_distance_from_centroid', 'mean_distance_from_centroid_per_cluster', 'interaction_histogram', 'rmse', 'mean_novelty', 'mean_slate_topic_diversity', 'topic_interaction_histogram', 'topic_interaction_spread', 'mse_per_user'])\n",
      "dict_keys(['xquad_binary_0.1alpha', 'xquad_binary_0.25alpha', 'random_recommender-1retraining-Falseprobabilistic-10random_items_per_iter', 'baseline_myopic-1retraining-0probabilistic-1repeated_items_repeat_interactions', 'probabilistic_recommender-1retraining-1probabilistic', 'xquad_smooth_0.1alpha', 'xquad_smooth_0.25alpha', 'baseline_myopic-1retraining-0probabilistic-0repeated_items_repeat_interactions'])\n"
     ]
    }
   ],
   "source": [
    "results_files = [\"sim_results.pkl\"] * len(single_training_paths)\n",
    "\n",
    "single_training_results = merge_results(single_training_paths, results_files)\n",
    "print(single_training_results.keys())\n",
    "print(single_training_results[\"mse\"].keys())\n",
    "# print(single_training_results[\"mean_global_cosine_sim\"][\"tester_Trueretraining_Trueprobabilistic\"])\n",
    "\n",
    "repeated_training_results = merge_results(repeated_training_paths, results_files)\n",
    "print(repeated_training_results.keys())\n",
    "print(repeated_training_results[\"mse\"].keys())"
   ]
  },
  {
   "cell_type": "code",
   "execution_count": null,
   "metadata": {},
   "outputs": [],
   "source": []
  }
 ],
 "metadata": {
  "kernelspec": {
   "display_name": "fairRS",
   "language": "python",
   "name": "python3"
  },
  "language_info": {
   "codemirror_mode": {
    "name": "ipython",
    "version": 3
   },
   "file_extension": ".py",
   "mimetype": "text/x-python",
   "name": "python",
   "nbconvert_exporter": "python",
   "pygments_lexer": "ipython3",
   "version": "3.8.15"
  },
  "orig_nbformat": 4
 },
 "nbformat": 4,
 "nbformat_minor": 2
}
