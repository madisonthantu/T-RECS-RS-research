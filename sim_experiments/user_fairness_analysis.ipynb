{
 "cells": [
  {
   "cell_type": "code",
   "execution_count": 1,
   "metadata": {},
   "outputs": [],
   "source": [
    "sys.path.insert(1, '/Users/madisonthantu/Desktop/DREAM/T-RECS-RS-research')\n",
    "from src.chaney_utils import *\n",
    "\n",
    "import warnings\n",
    "warnings.simplefilter(\"ignore\")\n",
    "\n",
    "from src.utils import user_topic_mapping as user_topic_mapping_func\n",
    "from src.plotting import *\n",
    "\n",
    "import plotly.graph_objs as go\n"
   ]
  },
  {
   "cell_type": "code",
   "execution_count": 2,
   "metadata": {},
   "outputs": [],
   "source": [
    "num_sims = 1\n",
    "num_users = 943\n",
    "num_clusters = 15\n",
    "\n",
    "results_paths = {\n",
    "    'repeated_training': ['sim_results/simulation1/repeated_training'],\n",
    "    'single_training': ['sim_results/simulation1/single_training']\n",
    "}\n",
    "results_file = [\"sim_results.pkl\"]\n",
    "repeated_training_results = merge_results(results_paths['repeated_training'], results_file)\n",
    "single_training_results = merge_results(results_paths['single_training'], results_file)\n",
    "results = {\n",
    "    'single_training':single_training_results,\n",
    "    'repeated_training':repeated_training_results\n",
    "}\n",
    "metric_keys = list(repeated_training_results.keys())\n",
    "model_keys = list(repeated_training_results[metric_keys[0]].keys())\n",
    "num_timesteps = len(repeated_training_results[metric_keys[0]][model_keys[0]][0])\n",
    "\n",
    "environment_file = [\"sim_environment.pkl\"]\n",
    "repeated_training_env = merge_results(results_paths['repeated_training'], environment_file)\n",
    "single_training_env = merge_results(results_paths['single_training'], environment_file)\n",
    "environments = {\n",
    "    'repeated_training': repeated_training_env,\n",
    "    'single_training': single_training_env\n",
    "}\n",
    "env_keys = list(repeated_training_env.keys())\n",
    "model_keys = list(repeated_training_env[env_keys[0]].keys())\n",
    "\n",
    "model_names_readable = {\n",
    "    'baseline_myopic':'Myopic',\n",
    "    'repeated_items_repeat_interactions':'Repeatable',\n",
    "    'probabilistic':'Probabilistic',\n",
    "    'random':'Random',\n",
    "    'random_interleaving':'Random Interleaving',\n",
    "    'xquad_binary_0.1': \"Binary XquAD, α=0.1\",\n",
    "    'xquad_binary_0.25': \"Binary XquAD, α=0.25\",\n",
    "    'xquad_smooth_0.1': \"Smooth XquAD, α=0.1\",\n",
    "    'xquad_smooth_0.25': \"Smooth XquAD, α=0.25\"\n",
    "}"
   ]
  },
  {
   "cell_type": "code",
   "execution_count": 3,
   "metadata": {},
   "outputs": [],
   "source": [
    "# Define some colors for the product, revenue pairs\n",
    "colors = {\n",
    "    \"Single training\": {\n",
    "        \"No. initial users\": \"#F28F1D\",\n",
    "        \"No. final users\": \"#F6C619\",\n",
    "        \"Initial mean distance\": \"#F28F1D\",\n",
    "        \"Final mean distance\": \"#F6C619\",\n",
    "        \"Initial SD\": \"#F28F1D\",\n",
    "        \"Final SD\": \"#F6C619\",\n",
    "    },\n",
    "    \"Repeated training\": {\n",
    "        \"No. initial users\": \"#2B6045\",\n",
    "        \"No. final users\": \"#5EB88A\",\n",
    "        \"Initial mean distance\": \"#2B6045\",\n",
    "        \"Final mean distance\": \"#5EB88A\",\n",
    "        \"Initial SD\": \"#2B6045\",\n",
    "        \"Final SD\": \"#5EB88A\",\n",
    "    },\n",
    "}\n",
    "\n",
    "env_vars = {\n",
    "        'No. users':['No. initial users', 'No. final users'],\n",
    "        'Mean distance from centroid':['Initial mean distance', 'Final mean distance'],\n",
    "        'SD':['Initial SD', 'Final SD']\n",
    "    }    "
   ]
  },
  {
   "cell_type": "code",
   "execution_count": 4,
   "metadata": {},
   "outputs": [
    {
     "data": {
      "text/html": [
       "<div>\n",
       "<style scoped>\n",
       "    .dataframe tbody tr th:only-of-type {\n",
       "        vertical-align: middle;\n",
       "    }\n",
       "\n",
       "    .dataframe tbody tr th {\n",
       "        vertical-align: top;\n",
       "    }\n",
       "\n",
       "    .dataframe thead tr th {\n",
       "        text-align: left;\n",
       "    }\n",
       "</style>\n",
       "<table border=\"1\" class=\"dataframe\">\n",
       "  <thead>\n",
       "    <tr>\n",
       "      <th></th>\n",
       "      <th colspan=\"10\" halign=\"left\">single_training</th>\n",
       "      <th>...</th>\n",
       "      <th colspan=\"10\" halign=\"left\">repeated_training</th>\n",
       "    </tr>\n",
       "    <tr>\n",
       "      <th></th>\n",
       "      <th colspan=\"5\" halign=\"left\">baseline_myopic</th>\n",
       "      <th colspan=\"5\" halign=\"left\">repeated_items_repeat_interactions</th>\n",
       "      <th>...</th>\n",
       "      <th colspan=\"5\" halign=\"left\">xquad_smooth_0.1</th>\n",
       "      <th colspan=\"5\" halign=\"left\">xquad_smooth_0.25</th>\n",
       "    </tr>\n",
       "    <tr>\n",
       "      <th></th>\n",
       "      <th>mean_mse_per_user</th>\n",
       "      <th>initial_user_cluster</th>\n",
       "      <th>final_user_cluster</th>\n",
       "      <th>initial_user_topic</th>\n",
       "      <th>final_user_topic</th>\n",
       "      <th>mean_mse_per_user</th>\n",
       "      <th>initial_user_cluster</th>\n",
       "      <th>final_user_cluster</th>\n",
       "      <th>initial_user_topic</th>\n",
       "      <th>final_user_topic</th>\n",
       "      <th>...</th>\n",
       "      <th>mean_mse_per_user</th>\n",
       "      <th>initial_user_cluster</th>\n",
       "      <th>final_user_cluster</th>\n",
       "      <th>initial_user_topic</th>\n",
       "      <th>final_user_topic</th>\n",
       "      <th>mean_mse_per_user</th>\n",
       "      <th>initial_user_cluster</th>\n",
       "      <th>final_user_cluster</th>\n",
       "      <th>initial_user_topic</th>\n",
       "      <th>final_user_topic</th>\n",
       "    </tr>\n",
       "  </thead>\n",
       "  <tbody>\n",
       "    <tr>\n",
       "      <th>0</th>\n",
       "      <td>1.528574</td>\n",
       "      <td>8</td>\n",
       "      <td>0</td>\n",
       "      <td>1</td>\n",
       "      <td>14</td>\n",
       "      <td>1.520732</td>\n",
       "      <td>8</td>\n",
       "      <td>11</td>\n",
       "      <td>1</td>\n",
       "      <td>0</td>\n",
       "      <td>...</td>\n",
       "      <td>0.809414</td>\n",
       "      <td>8</td>\n",
       "      <td>12</td>\n",
       "      <td>1</td>\n",
       "      <td>1</td>\n",
       "      <td>0.833885</td>\n",
       "      <td>8</td>\n",
       "      <td>11</td>\n",
       "      <td>1</td>\n",
       "      <td>11</td>\n",
       "    </tr>\n",
       "    <tr>\n",
       "      <th>1</th>\n",
       "      <td>1.493510</td>\n",
       "      <td>11</td>\n",
       "      <td>11</td>\n",
       "      <td>1</td>\n",
       "      <td>1</td>\n",
       "      <td>1.457169</td>\n",
       "      <td>11</td>\n",
       "      <td>11</td>\n",
       "      <td>1</td>\n",
       "      <td>1</td>\n",
       "      <td>...</td>\n",
       "      <td>0.866013</td>\n",
       "      <td>11</td>\n",
       "      <td>11</td>\n",
       "      <td>1</td>\n",
       "      <td>1</td>\n",
       "      <td>0.874612</td>\n",
       "      <td>11</td>\n",
       "      <td>11</td>\n",
       "      <td>1</td>\n",
       "      <td>1</td>\n",
       "    </tr>\n",
       "    <tr>\n",
       "      <th>2</th>\n",
       "      <td>1.587371</td>\n",
       "      <td>11</td>\n",
       "      <td>11</td>\n",
       "      <td>1</td>\n",
       "      <td>1</td>\n",
       "      <td>1.055701</td>\n",
       "      <td>11</td>\n",
       "      <td>11</td>\n",
       "      <td>1</td>\n",
       "      <td>1</td>\n",
       "      <td>...</td>\n",
       "      <td>0.818876</td>\n",
       "      <td>11</td>\n",
       "      <td>11</td>\n",
       "      <td>1</td>\n",
       "      <td>1</td>\n",
       "      <td>0.856249</td>\n",
       "      <td>11</td>\n",
       "      <td>11</td>\n",
       "      <td>1</td>\n",
       "      <td>1</td>\n",
       "    </tr>\n",
       "    <tr>\n",
       "      <th>3</th>\n",
       "      <td>1.326567</td>\n",
       "      <td>11</td>\n",
       "      <td>11</td>\n",
       "      <td>1</td>\n",
       "      <td>1</td>\n",
       "      <td>1.858795</td>\n",
       "      <td>11</td>\n",
       "      <td>11</td>\n",
       "      <td>1</td>\n",
       "      <td>1</td>\n",
       "      <td>...</td>\n",
       "      <td>0.772284</td>\n",
       "      <td>11</td>\n",
       "      <td>11</td>\n",
       "      <td>1</td>\n",
       "      <td>1</td>\n",
       "      <td>0.885520</td>\n",
       "      <td>11</td>\n",
       "      <td>11</td>\n",
       "      <td>1</td>\n",
       "      <td>1</td>\n",
       "    </tr>\n",
       "    <tr>\n",
       "      <th>4</th>\n",
       "      <td>0.889075</td>\n",
       "      <td>8</td>\n",
       "      <td>12</td>\n",
       "      <td>1</td>\n",
       "      <td>14</td>\n",
       "      <td>1.568687</td>\n",
       "      <td>8</td>\n",
       "      <td>11</td>\n",
       "      <td>1</td>\n",
       "      <td>13</td>\n",
       "      <td>...</td>\n",
       "      <td>0.783346</td>\n",
       "      <td>8</td>\n",
       "      <td>12</td>\n",
       "      <td>1</td>\n",
       "      <td>11</td>\n",
       "      <td>0.859150</td>\n",
       "      <td>8</td>\n",
       "      <td>0</td>\n",
       "      <td>1</td>\n",
       "      <td>14</td>\n",
       "    </tr>\n",
       "  </tbody>\n",
       "</table>\n",
       "<p>5 rows × 90 columns</p>\n",
       "</div>"
      ],
      "text/plain": [
       "    single_training                                          \\\n",
       "    baseline_myopic                                           \n",
       "  mean_mse_per_user initial_user_cluster final_user_cluster   \n",
       "0          1.528574                    8                  0   \n",
       "1          1.493510                   11                 11   \n",
       "2          1.587371                   11                 11   \n",
       "3          1.326567                   11                 11   \n",
       "4          0.889075                    8                 12   \n",
       "\n",
       "                                                                          \\\n",
       "                                      repeated_items_repeat_interactions   \n",
       "  initial_user_topic final_user_topic                  mean_mse_per_user   \n",
       "0                  1               14                           1.520732   \n",
       "1                  1                1                           1.457169   \n",
       "2                  1                1                           1.055701   \n",
       "3                  1                1                           1.858795   \n",
       "4                  1               14                           1.568687   \n",
       "\n",
       "                                                                               \\\n",
       "                                                                                \n",
       "  initial_user_cluster final_user_cluster initial_user_topic final_user_topic   \n",
       "0                    8                 11                  1                0   \n",
       "1                   11                 11                  1                1   \n",
       "2                   11                 11                  1                1   \n",
       "3                   11                 11                  1                1   \n",
       "4                    8                 11                  1               13   \n",
       "\n",
       "   ... repeated_training                                          \\\n",
       "   ...  xquad_smooth_0.1                                           \n",
       "   ... mean_mse_per_user initial_user_cluster final_user_cluster   \n",
       "0  ...          0.809414                    8                 12   \n",
       "1  ...          0.866013                   11                 11   \n",
       "2  ...          0.818876                   11                 11   \n",
       "3  ...          0.772284                   11                 11   \n",
       "4  ...          0.783346                    8                 12   \n",
       "\n",
       "                                                                              \\\n",
       "                                      xquad_smooth_0.25                        \n",
       "  initial_user_topic final_user_topic mean_mse_per_user initial_user_cluster   \n",
       "0                  1                1          0.833885                    8   \n",
       "1                  1                1          0.874612                   11   \n",
       "2                  1                1          0.856249                   11   \n",
       "3                  1                1          0.885520                   11   \n",
       "4                  1               11          0.859150                    8   \n",
       "\n",
       "                                                          \n",
       "                                                          \n",
       "  final_user_cluster initial_user_topic final_user_topic  \n",
       "0                 11                  1               11  \n",
       "1                 11                  1                1  \n",
       "2                 11                  1                1  \n",
       "3                 11                  1                1  \n",
       "4                  0                  1               14  \n",
       "\n",
       "[5 rows x 90 columns]"
      ]
     },
     "execution_count": 4,
     "metadata": {},
     "output_type": "execute_result"
    }
   ],
   "source": [
    "\"\"\"\n",
    "Metrics of interest:\n",
    "    - 'mse_per_user'\n",
    "Environment variables of interest:\n",
    "    - 'user_cluster_assignments'\n",
    "    - 'user_item_cluster_mapping'\n",
    "\"\"\"\n",
    "mean_mse_range = -10\n",
    "curr_vars = ['actual_user_representation_initial', 'user_cluster_assignments', 'user_cluster_centroids', 'user_item_cluster_mapping', 'item_cluster_centroids', 'actual_user_representation_final']\n",
    "\n",
    "model_df_list = []\n",
    "\n",
    "for training_type in results.keys():\n",
    "    # Get MSE per user at each timestep for current model\n",
    "    # Add columns for initial + final user cluster assignment\n",
    "    # Add columns for initial + final user-topic mapping\n",
    "    curr_training_dfs = []\n",
    "    for model in model_keys:\n",
    "        curr_model_env = dict([(k, environments[training_type][k][model][0]) for k in curr_vars])\n",
    "        user_mse = np.array(results[training_type]['mse_per_user'][model][0][mean_mse_range:]).T\n",
    "        data = {\n",
    "            'mean_mse_per_user': np.array(results[training_type]['mse_per_user'][model][0][-10:]).T.mean(axis=1),\n",
    "            'initial_user_cluster': curr_model_env['user_cluster_assignments'],\n",
    "            'final_user_cluster': user_topic_mapping_func(curr_model_env['actual_user_representation_final'], curr_model_env['user_cluster_centroids']),\n",
    "            'initial_user_topic': curr_model_env['user_item_cluster_mapping'],\n",
    "            'final_user_topic': user_topic_mapping_func(curr_model_env['actual_user_representation_final'], curr_model_env['item_cluster_centroids']),\n",
    "        }\n",
    "        curr_training_dfs.append(pd.DataFrame(data=data))\n",
    "    model_df_list.append(pd.concat(curr_training_dfs,\n",
    "                                   axis=1,\n",
    "                                   keys=model_keys\n",
    "                        ))\n",
    "    \n",
    "mse_df = pd.concat(model_df_list,\n",
    "                   axis=1,\n",
    "                   keys=['single_training', 'repeated_training'])\n",
    "\n",
    "mse_df.head(5)"
   ]
  },
  {
   "cell_type": "code",
   "execution_count": 5,
   "metadata": {},
   "outputs": [],
   "source": [
    "colors = {\n",
    "    \"Single training\": {\n",
    "        \"Worst mse\": \"#F6C619\",\n",
    "        \"Best mse\": \"#F28F1D\",\n",
    "    },\n",
    "    \"Repeated training\": {\n",
    "        \"Worst mse\": \"#5EB88A\",\n",
    "        \"Best mse\": \"#2B6045\",\n",
    "    },\n",
    "}"
   ]
  },
  {
   "cell_type": "code",
   "execution_count": 6,
   "metadata": {},
   "outputs": [
    {
     "data": {
      "application/vnd.plotly.v1+json": {
       "config": {
        "plotlyServerURL": "https://plot.ly"
       },
       "data": [
        {
         "hovertemplate": "%{y}<extra></extra>",
         "legendgroup": "Single training",
         "legendgrouptitle": {
          "text": "Single training"
         },
         "marker": {
          "color": "#F28F1D",
          "line": {
           "color": "#333",
           "width": 2
          }
         },
         "name": "Best mse",
         "offset": -0.3333333333333333,
         "offsetgroup": "0",
         "text": [
          "6",
          "10",
          "0",
          "9",
          "12",
          "4",
          "13",
          "6",
          "9"
         ],
         "type": "bar",
         "width": 0.3333333333333333,
         "x": [
          "Myopic",
          "Repeatable",
          "Probabilistic",
          "Random",
          "Random Interleaving",
          "Binary XquAD, α=0.1",
          "Binary XquAD, α=0.25",
          "Smooth XquAD, α=0.1",
          "Smooth XquAD, α=0.25"
         ],
         "y": [
          1.2157747963709982,
          1.490499534885139,
          1.2444775322918202,
          1.3017709332109038,
          1.2298941575951579,
          1.1882088069012982,
          1.3026288630479341,
          1.2445972237312282,
          1.2168537354260904
         ],
         "yaxis": "y"
        },
        {
         "hovertemplate": "%{y}<extra></extra>",
         "legendgroup": "Single training",
         "legendgrouptitle": {
          "text": "Single training"
         },
         "marker": {
          "color": "#F6C619",
          "line": {
           "color": "#333",
           "width": 2
          }
         },
         "name": "Worst mse",
         "offset": -0.3333333333333333,
         "offsetgroup": "0",
         "text": [
          "7",
          "4",
          "7",
          "7",
          "5",
          "13",
          "7",
          "7",
          "1"
         ],
         "textposition": "outside",
         "type": "bar",
         "width": 0.3333333333333333,
         "x": [
          "Myopic",
          "Repeatable",
          "Probabilistic",
          "Random",
          "Random Interleaving",
          "Binary XquAD, α=0.1",
          "Binary XquAD, α=0.25",
          "Smooth XquAD, α=0.1",
          "Smooth XquAD, α=0.25"
         ],
         "y": [
          0.3136608312045306,
          0.35765412441069544,
          0.26692508263739323,
          0.19733593882922174,
          0.26486611570969254,
          0.24253651404464094,
          0.224726919669886,
          0.28816470942152383,
          0.2013314576638452
         ],
         "yaxis": "y"
        },
        {
         "hovertemplate": "%{y}<extra></extra>",
         "legendgroup": "Repeated training",
         "legendgrouptitle": {
          "text": "Repeated training"
         },
         "marker": {
          "color": "#2B6045",
          "line": {
           "color": "#333",
           "width": 2
          }
         },
         "name": "Best mse",
         "offset": 0,
         "offsetgroup": "1",
         "text": [
          "0",
          "6",
          "3",
          "3",
          "9",
          "3",
          "4",
          "12",
          "12"
         ],
         "type": "bar",
         "width": 0.3333333333333333,
         "x": [
          "Myopic",
          "Repeatable",
          "Probabilistic",
          "Random",
          "Random Interleaving",
          "Binary XquAD, α=0.1",
          "Binary XquAD, α=0.25",
          "Smooth XquAD, α=0.1",
          "Smooth XquAD, α=0.25"
         ],
         "y": [
          0.8443360030324352,
          1.8916318511178816,
          0.7668357525372561,
          1.5818241283953605,
          1.1202998956608892,
          0.8398511249142737,
          0.8376037772071623,
          0.8190959840219488,
          0.835761876774616
         ],
         "yaxis": "y2"
        },
        {
         "hovertemplate": "%{y}<extra></extra>",
         "legendgroup": "Repeated training",
         "legendgrouptitle": {
          "text": "Repeated training"
         },
         "marker": {
          "color": "#5EB88A",
          "line": {
           "color": "#333",
           "width": 2
          }
         },
         "name": "Worst mse",
         "offset": 0,
         "offsetgroup": "1",
         "text": [
          "4",
          "9",
          "6",
          "9",
          "14",
          "4",
          "3",
          "14",
          "5"
         ],
         "textposition": "outside",
         "type": "bar",
         "width": 0.3333333333333333,
         "x": [
          "Myopic",
          "Repeatable",
          "Probabilistic",
          "Random",
          "Random Interleaving",
          "Binary XquAD, α=0.1",
          "Binary XquAD, α=0.25",
          "Smooth XquAD, α=0.1",
          "Smooth XquAD, α=0.25"
         ],
         "y": [
          0.016148897067745804,
          0.49783291512339845,
          0.03877173301534842,
          0.17035436025986028,
          0.1276457555935453,
          0.025670224464220737,
          0.044159317588942426,
          0.019191504357845335,
          0.0318109843309301
         ],
         "yaxis": "y2"
        }
       ],
       "layout": {
        "annotations": [
         {
          "arrowhead": 1,
          "showarrow": true,
          "text": "Cluster ID",
          "x": "Myopic",
          "xshift": -20,
          "y": 1.7044356275755288
         }
        ],
        "barmode": "relative",
        "font": {
         "size": 12
        },
        "height": 600,
        "hovermode": "x",
        "legend": {
         "orientation": "h",
         "x": 0.99,
         "xanchor": "right",
         "y": 0.99,
         "yanchor": "top"
        },
        "margin": {
         "b": 60,
         "l": 75,
         "r": 60,
         "t": 75
        },
        "template": {
         "data": {
          "bar": [
           {
            "error_x": {
             "color": "#2a3f5f"
            },
            "error_y": {
             "color": "#2a3f5f"
            },
            "marker": {
             "line": {
              "color": "#E5ECF6",
              "width": 0.5
             },
             "pattern": {
              "fillmode": "overlay",
              "size": 10,
              "solidity": 0.2
             }
            },
            "type": "bar"
           }
          ],
          "barpolar": [
           {
            "marker": {
             "line": {
              "color": "#E5ECF6",
              "width": 0.5
             },
             "pattern": {
              "fillmode": "overlay",
              "size": 10,
              "solidity": 0.2
             }
            },
            "type": "barpolar"
           }
          ],
          "carpet": [
           {
            "aaxis": {
             "endlinecolor": "#2a3f5f",
             "gridcolor": "white",
             "linecolor": "white",
             "minorgridcolor": "white",
             "startlinecolor": "#2a3f5f"
            },
            "baxis": {
             "endlinecolor": "#2a3f5f",
             "gridcolor": "white",
             "linecolor": "white",
             "minorgridcolor": "white",
             "startlinecolor": "#2a3f5f"
            },
            "type": "carpet"
           }
          ],
          "choropleth": [
           {
            "colorbar": {
             "outlinewidth": 0,
             "ticks": ""
            },
            "type": "choropleth"
           }
          ],
          "contour": [
           {
            "colorbar": {
             "outlinewidth": 0,
             "ticks": ""
            },
            "colorscale": [
             [
              0,
              "#0d0887"
             ],
             [
              0.1111111111111111,
              "#46039f"
             ],
             [
              0.2222222222222222,
              "#7201a8"
             ],
             [
              0.3333333333333333,
              "#9c179e"
             ],
             [
              0.4444444444444444,
              "#bd3786"
             ],
             [
              0.5555555555555556,
              "#d8576b"
             ],
             [
              0.6666666666666666,
              "#ed7953"
             ],
             [
              0.7777777777777778,
              "#fb9f3a"
             ],
             [
              0.8888888888888888,
              "#fdca26"
             ],
             [
              1,
              "#f0f921"
             ]
            ],
            "type": "contour"
           }
          ],
          "contourcarpet": [
           {
            "colorbar": {
             "outlinewidth": 0,
             "ticks": ""
            },
            "type": "contourcarpet"
           }
          ],
          "heatmap": [
           {
            "colorbar": {
             "outlinewidth": 0,
             "ticks": ""
            },
            "colorscale": [
             [
              0,
              "#0d0887"
             ],
             [
              0.1111111111111111,
              "#46039f"
             ],
             [
              0.2222222222222222,
              "#7201a8"
             ],
             [
              0.3333333333333333,
              "#9c179e"
             ],
             [
              0.4444444444444444,
              "#bd3786"
             ],
             [
              0.5555555555555556,
              "#d8576b"
             ],
             [
              0.6666666666666666,
              "#ed7953"
             ],
             [
              0.7777777777777778,
              "#fb9f3a"
             ],
             [
              0.8888888888888888,
              "#fdca26"
             ],
             [
              1,
              "#f0f921"
             ]
            ],
            "type": "heatmap"
           }
          ],
          "heatmapgl": [
           {
            "colorbar": {
             "outlinewidth": 0,
             "ticks": ""
            },
            "colorscale": [
             [
              0,
              "#0d0887"
             ],
             [
              0.1111111111111111,
              "#46039f"
             ],
             [
              0.2222222222222222,
              "#7201a8"
             ],
             [
              0.3333333333333333,
              "#9c179e"
             ],
             [
              0.4444444444444444,
              "#bd3786"
             ],
             [
              0.5555555555555556,
              "#d8576b"
             ],
             [
              0.6666666666666666,
              "#ed7953"
             ],
             [
              0.7777777777777778,
              "#fb9f3a"
             ],
             [
              0.8888888888888888,
              "#fdca26"
             ],
             [
              1,
              "#f0f921"
             ]
            ],
            "type": "heatmapgl"
           }
          ],
          "histogram": [
           {
            "marker": {
             "pattern": {
              "fillmode": "overlay",
              "size": 10,
              "solidity": 0.2
             }
            },
            "type": "histogram"
           }
          ],
          "histogram2d": [
           {
            "colorbar": {
             "outlinewidth": 0,
             "ticks": ""
            },
            "colorscale": [
             [
              0,
              "#0d0887"
             ],
             [
              0.1111111111111111,
              "#46039f"
             ],
             [
              0.2222222222222222,
              "#7201a8"
             ],
             [
              0.3333333333333333,
              "#9c179e"
             ],
             [
              0.4444444444444444,
              "#bd3786"
             ],
             [
              0.5555555555555556,
              "#d8576b"
             ],
             [
              0.6666666666666666,
              "#ed7953"
             ],
             [
              0.7777777777777778,
              "#fb9f3a"
             ],
             [
              0.8888888888888888,
              "#fdca26"
             ],
             [
              1,
              "#f0f921"
             ]
            ],
            "type": "histogram2d"
           }
          ],
          "histogram2dcontour": [
           {
            "colorbar": {
             "outlinewidth": 0,
             "ticks": ""
            },
            "colorscale": [
             [
              0,
              "#0d0887"
             ],
             [
              0.1111111111111111,
              "#46039f"
             ],
             [
              0.2222222222222222,
              "#7201a8"
             ],
             [
              0.3333333333333333,
              "#9c179e"
             ],
             [
              0.4444444444444444,
              "#bd3786"
             ],
             [
              0.5555555555555556,
              "#d8576b"
             ],
             [
              0.6666666666666666,
              "#ed7953"
             ],
             [
              0.7777777777777778,
              "#fb9f3a"
             ],
             [
              0.8888888888888888,
              "#fdca26"
             ],
             [
              1,
              "#f0f921"
             ]
            ],
            "type": "histogram2dcontour"
           }
          ],
          "mesh3d": [
           {
            "colorbar": {
             "outlinewidth": 0,
             "ticks": ""
            },
            "type": "mesh3d"
           }
          ],
          "parcoords": [
           {
            "line": {
             "colorbar": {
              "outlinewidth": 0,
              "ticks": ""
             }
            },
            "type": "parcoords"
           }
          ],
          "pie": [
           {
            "automargin": true,
            "type": "pie"
           }
          ],
          "scatter": [
           {
            "fillpattern": {
             "fillmode": "overlay",
             "size": 10,
             "solidity": 0.2
            },
            "type": "scatter"
           }
          ],
          "scatter3d": [
           {
            "line": {
             "colorbar": {
              "outlinewidth": 0,
              "ticks": ""
             }
            },
            "marker": {
             "colorbar": {
              "outlinewidth": 0,
              "ticks": ""
             }
            },
            "type": "scatter3d"
           }
          ],
          "scattercarpet": [
           {
            "marker": {
             "colorbar": {
              "outlinewidth": 0,
              "ticks": ""
             }
            },
            "type": "scattercarpet"
           }
          ],
          "scattergeo": [
           {
            "marker": {
             "colorbar": {
              "outlinewidth": 0,
              "ticks": ""
             }
            },
            "type": "scattergeo"
           }
          ],
          "scattergl": [
           {
            "marker": {
             "colorbar": {
              "outlinewidth": 0,
              "ticks": ""
             }
            },
            "type": "scattergl"
           }
          ],
          "scattermapbox": [
           {
            "marker": {
             "colorbar": {
              "outlinewidth": 0,
              "ticks": ""
             }
            },
            "type": "scattermapbox"
           }
          ],
          "scatterpolar": [
           {
            "marker": {
             "colorbar": {
              "outlinewidth": 0,
              "ticks": ""
             }
            },
            "type": "scatterpolar"
           }
          ],
          "scatterpolargl": [
           {
            "marker": {
             "colorbar": {
              "outlinewidth": 0,
              "ticks": ""
             }
            },
            "type": "scatterpolargl"
           }
          ],
          "scatterternary": [
           {
            "marker": {
             "colorbar": {
              "outlinewidth": 0,
              "ticks": ""
             }
            },
            "type": "scatterternary"
           }
          ],
          "surface": [
           {
            "colorbar": {
             "outlinewidth": 0,
             "ticks": ""
            },
            "colorscale": [
             [
              0,
              "#0d0887"
             ],
             [
              0.1111111111111111,
              "#46039f"
             ],
             [
              0.2222222222222222,
              "#7201a8"
             ],
             [
              0.3333333333333333,
              "#9c179e"
             ],
             [
              0.4444444444444444,
              "#bd3786"
             ],
             [
              0.5555555555555556,
              "#d8576b"
             ],
             [
              0.6666666666666666,
              "#ed7953"
             ],
             [
              0.7777777777777778,
              "#fb9f3a"
             ],
             [
              0.8888888888888888,
              "#fdca26"
             ],
             [
              1,
              "#f0f921"
             ]
            ],
            "type": "surface"
           }
          ],
          "table": [
           {
            "cells": {
             "fill": {
              "color": "#EBF0F8"
             },
             "line": {
              "color": "white"
             }
            },
            "header": {
             "fill": {
              "color": "#C8D4E3"
             },
             "line": {
              "color": "white"
             }
            },
            "type": "table"
           }
          ]
         },
         "layout": {
          "annotationdefaults": {
           "arrowcolor": "#2a3f5f",
           "arrowhead": 0,
           "arrowwidth": 1
          },
          "autotypenumbers": "strict",
          "coloraxis": {
           "colorbar": {
            "outlinewidth": 0,
            "ticks": ""
           }
          },
          "colorscale": {
           "diverging": [
            [
             0,
             "#8e0152"
            ],
            [
             0.1,
             "#c51b7d"
            ],
            [
             0.2,
             "#de77ae"
            ],
            [
             0.3,
             "#f1b6da"
            ],
            [
             0.4,
             "#fde0ef"
            ],
            [
             0.5,
             "#f7f7f7"
            ],
            [
             0.6,
             "#e6f5d0"
            ],
            [
             0.7,
             "#b8e186"
            ],
            [
             0.8,
             "#7fbc41"
            ],
            [
             0.9,
             "#4d9221"
            ],
            [
             1,
             "#276419"
            ]
           ],
           "sequential": [
            [
             0,
             "#0d0887"
            ],
            [
             0.1111111111111111,
             "#46039f"
            ],
            [
             0.2222222222222222,
             "#7201a8"
            ],
            [
             0.3333333333333333,
             "#9c179e"
            ],
            [
             0.4444444444444444,
             "#bd3786"
            ],
            [
             0.5555555555555556,
             "#d8576b"
            ],
            [
             0.6666666666666666,
             "#ed7953"
            ],
            [
             0.7777777777777778,
             "#fb9f3a"
            ],
            [
             0.8888888888888888,
             "#fdca26"
            ],
            [
             1,
             "#f0f921"
            ]
           ],
           "sequentialminus": [
            [
             0,
             "#0d0887"
            ],
            [
             0.1111111111111111,
             "#46039f"
            ],
            [
             0.2222222222222222,
             "#7201a8"
            ],
            [
             0.3333333333333333,
             "#9c179e"
            ],
            [
             0.4444444444444444,
             "#bd3786"
            ],
            [
             0.5555555555555556,
             "#d8576b"
            ],
            [
             0.6666666666666666,
             "#ed7953"
            ],
            [
             0.7777777777777778,
             "#fb9f3a"
            ],
            [
             0.8888888888888888,
             "#fdca26"
            ],
            [
             1,
             "#f0f921"
            ]
           ]
          },
          "colorway": [
           "#636efa",
           "#EF553B",
           "#00cc96",
           "#ab63fa",
           "#FFA15A",
           "#19d3f3",
           "#FF6692",
           "#B6E880",
           "#FF97FF",
           "#FECB52"
          ],
          "font": {
           "color": "#2a3f5f"
          },
          "geo": {
           "bgcolor": "white",
           "lakecolor": "white",
           "landcolor": "#E5ECF6",
           "showlakes": true,
           "showland": true,
           "subunitcolor": "white"
          },
          "hoverlabel": {
           "align": "left"
          },
          "hovermode": "closest",
          "mapbox": {
           "style": "light"
          },
          "paper_bgcolor": "white",
          "plot_bgcolor": "#E5ECF6",
          "polar": {
           "angularaxis": {
            "gridcolor": "white",
            "linecolor": "white",
            "ticks": ""
           },
           "bgcolor": "#E5ECF6",
           "radialaxis": {
            "gridcolor": "white",
            "linecolor": "white",
            "ticks": ""
           }
          },
          "scene": {
           "xaxis": {
            "backgroundcolor": "#E5ECF6",
            "gridcolor": "white",
            "gridwidth": 2,
            "linecolor": "white",
            "showbackground": true,
            "ticks": "",
            "zerolinecolor": "white"
           },
           "yaxis": {
            "backgroundcolor": "#E5ECF6",
            "gridcolor": "white",
            "gridwidth": 2,
            "linecolor": "white",
            "showbackground": true,
            "ticks": "",
            "zerolinecolor": "white"
           },
           "zaxis": {
            "backgroundcolor": "#E5ECF6",
            "gridcolor": "white",
            "gridwidth": 2,
            "linecolor": "white",
            "showbackground": true,
            "ticks": "",
            "zerolinecolor": "white"
           }
          },
          "shapedefaults": {
           "line": {
            "color": "#2a3f5f"
           }
          },
          "ternary": {
           "aaxis": {
            "gridcolor": "white",
            "linecolor": "white",
            "ticks": ""
           },
           "baxis": {
            "gridcolor": "white",
            "linecolor": "white",
            "ticks": ""
           },
           "bgcolor": "#E5ECF6",
           "caxis": {
            "gridcolor": "white",
            "linecolor": "white",
            "ticks": ""
           }
          },
          "title": {
           "x": 0.05
          },
          "xaxis": {
           "automargin": true,
           "gridcolor": "white",
           "linecolor": "white",
           "ticks": "",
           "title": {
            "standoff": 15
           },
           "zerolinecolor": "white",
           "zerolinewidth": 2
          },
          "yaxis": {
           "automargin": true,
           "gridcolor": "white",
           "linecolor": "white",
           "ticks": "",
           "title": {
            "standoff": 15
           },
           "zerolinecolor": "white",
           "zerolinewidth": 2
          }
         }
        },
        "title": {
         "font": {
          "size": 20
         },
         "text": "Worst MSE v. Best MSE by initial user cluster"
        },
        "uniformtext": {
         "minsize": 18
        },
        "width": 1000,
        "xaxis": {
         "dtick": 1,
         "tick0": 0,
         "tickangle": -20,
         "ticktext": [
          "Myopic",
          "Repeatable",
          "Probabilistic",
          "Random",
          "Random Interleaving",
          "Binary XquAD, α=0.1",
          "Binary XquAD, α=0.25",
          "Smooth XquAD, α=0.1",
          "Smooth XquAD, α=0.25"
         ],
         "title": {
          "font": {
           "size": 15
          },
          "text": "Model"
         }
        },
        "yaxis": {
         "showgrid": true,
         "showticklabels": true,
         "title": {
          "font": {
           "size": 15
          },
          "text": "MSE"
         }
        },
        "yaxis2": {
         "anchor": "x",
         "matches": "y",
         "overlaying": "y",
         "visible": false
        }
       }
      }
     },
     "metadata": {},
     "output_type": "display_data"
    }
   ],
   "source": [
    "index = [model_names_readable[m] for m in model_keys]\n",
    "var_title_mapping = {\n",
    "    'initial_user_cluster':'by initial user cluster',\n",
    "    'final_user_cluster':'by final user cluster',\n",
    "    'initial_user_topic':'by initial user-topics mapping',\n",
    "    'final_user_topic': 'by final user-topics mapping',\n",
    "}\n",
    "plot_var = 'initial_user_cluster'\n",
    "\n",
    "ranked_mse_dfs = []\n",
    "for training_type in results.keys():\n",
    "    ranked_mse_df = pd.DataFrame(columns=['Worst cluster', 'Worst mse', 'Best cluster', 'Best mse'])\n",
    "    for model in model_keys:\n",
    "        mse_by_cluster = mse_df[training_type][model].groupby(plot_var)['mean_mse_per_user'].mean()\n",
    "        data = {\n",
    "            'Worst cluster':mse_by_cluster.idxmax(),\n",
    "            'Worst mse': mse_by_cluster.max(),\n",
    "            'Best cluster':mse_by_cluster.idxmin(),\n",
    "            'Best mse': mse_by_cluster.min(),\n",
    "        }\n",
    "        ranked_mse_df = ranked_mse_df.append(pd.DataFrame(data, index=[model_names_readable[model]]))\n",
    "    ranked_mse_dfs.append(ranked_mse_df)\n",
    "\n",
    "ranked_mse_df = pd.concat([ranked_mse_dfs[0],\n",
    "                            ranked_mse_dfs[1],],\n",
    "                           axis=1,\n",
    "                           keys=[\"Single training\", \"Repeated training\"])\n",
    "ranked_mse_df\n",
    "\n",
    "# Create a figure with the right layout\n",
    "fig = go.Figure(layout=go.Layout(height=600,\n",
    "                                    width=1000,\n",
    "                                    barmode=\"relative\",\n",
    "                                    yaxis_showticklabels=True,\n",
    "                                    yaxis_showgrid=True,\n",
    "                                    # yaxis_range=[0, max(ranked_mse_df['Repeated training']['Best mse'].max(), ranked_mse_df['Single training']['Best mse'].max()) * 2],\n",
    "                                    # Secondary y-axis overlayed on the primary one and not visible\n",
    "                                    yaxis2=go.layout.YAxis(visible=False,\n",
    "                                                        matches=\"y\",\n",
    "                                                        overlaying=\"y\",\n",
    "                                                        anchor=\"x\",),\n",
    "                                    font=dict(size=24),\n",
    "                                    legend_x=0,\n",
    "                                    legend_y=1,\n",
    "                                    legend_orientation=\"h\",\n",
    "                                    hovermode=\"x\",\n",
    "                                    # margin=dict(b=0,t=10,l=0,r=10)\n",
    "                                ))\n",
    "\n",
    "var_mapping = {'Best mse':'Best cluster', 'Worst mse':'Worst cluster'}\n",
    "for i, training in enumerate(colors):\n",
    "    # Adding best MSE\n",
    "    best_clusters = [f\"{c}\" for c in ranked_mse_df[training][var_mapping['Best mse']].values]\n",
    "    annotations = [f\"{c}\" for c in best_clusters]\n",
    "    if (ranked_mse_df[training]['Best mse'] == 0).all():\n",
    "        continue\n",
    "    fig.add_bar(\n",
    "        x=ranked_mse_df.index,\n",
    "        y=ranked_mse_df[training]['Best mse'],\n",
    "        yaxis=f\"y{i + 1}\",\n",
    "        offsetgroup=str(i),\n",
    "        offset=(i - 1) * 1/3,\n",
    "        width=1/3,\n",
    "        legendgroup=training,\n",
    "        legendgrouptitle_text=training,\n",
    "        name='Best mse',\n",
    "        marker_color=colors[training]['Best mse'],\n",
    "        text=annotations,\n",
    "        # textfont=dict(size=20),\n",
    "        marker_line=dict(width=2, color=\"#333\"),\n",
    "        hovertemplate=\"%{y}<extra></extra>\"\n",
    "    )\n",
    "    \n",
    "    # Adding worst MSE\n",
    "    worst_clusters = [f\"{c}\" for c in ranked_mse_df[training][var_mapping['Worst mse']].values]\n",
    "    annotations = [f\"{c}\" for c in worst_clusters]\n",
    "    if (ranked_mse_df[training]['Worst mse'] == 0).all():\n",
    "        continue\n",
    "    fig.add_bar(\n",
    "        x=ranked_mse_df.index,\n",
    "        # Subtracting difference so that y-axis can range/ticks are maintained\n",
    "        y=ranked_mse_df[training]['Worst mse'] - ranked_mse_df[training]['Best mse'],\n",
    "        yaxis=f\"y{i + 1}\",\n",
    "        offsetgroup=str(i),\n",
    "        offset=(i - 1) * 1/3,\n",
    "        width=1/3,\n",
    "        legendgroup=training,\n",
    "        legendgrouptitle_text=training,\n",
    "        name='Worst mse',\n",
    "        marker_color=colors[training]['Worst mse'],\n",
    "        text=annotations,\n",
    "        textposition='outside',\n",
    "        marker_line=dict(width=2, color=\"#333\"),\n",
    "        hovertemplate=\"%{y}<extra></extra>\"\n",
    "    )\n",
    "    \n",
    "fig.add_annotation(x=ranked_mse_df.index[0], y=ranked_mse_df['Single training']['Worst mse'][0]+0.175,\n",
    "                #    xanchor=\"right\",\n",
    "                   xshift=-20,\n",
    "            text=\"Cluster ID\",\n",
    "            showarrow=True,\n",
    "            arrowhead=1)\n",
    "\n",
    "fig.update_layout(\n",
    "    uniformtext_minsize=18, #uniformtext_mode='hide',\n",
    "    title=dict(text=f\"Worst MSE v. Best MSE {var_title_mapping[plot_var]}\",font=dict(size=20)),\n",
    "    xaxis_title=dict(text=\"Model\",font=(dict(size=15))),\n",
    "    yaxis_title=dict(text=\"MSE\",font=(dict(size=15))),\n",
    "    font=dict(size=12),\n",
    "    xaxis = dict(ticktext=index, tick0=0, dtick=1, tickangle=-20),\n",
    "    # yaxis = dict(showticklabels = True),\n",
    "    legend=dict(yanchor=\"top\", y=0.99, xanchor=\"right\", x=0.99),\n",
    "    margin=dict(l=75, r=60, t=75, b=60),\n",
    ")\n",
    "\n",
    "fig.show()"
   ]
  },
  {
   "cell_type": "code",
   "execution_count": 7,
   "metadata": {},
   "outputs": [
    {
     "data": {
      "text/html": [
       "<div>\n",
       "<style scoped>\n",
       "    .dataframe tbody tr th:only-of-type {\n",
       "        vertical-align: middle;\n",
       "    }\n",
       "\n",
       "    .dataframe tbody tr th {\n",
       "        vertical-align: top;\n",
       "    }\n",
       "\n",
       "    .dataframe thead tr th {\n",
       "        text-align: left;\n",
       "    }\n",
       "</style>\n",
       "<table border=\"1\" class=\"dataframe\">\n",
       "  <thead>\n",
       "    <tr>\n",
       "      <th></th>\n",
       "      <th colspan=\"4\" halign=\"left\">Single training</th>\n",
       "      <th colspan=\"4\" halign=\"left\">Repeated training</th>\n",
       "    </tr>\n",
       "    <tr>\n",
       "      <th></th>\n",
       "      <th>Worst cluster</th>\n",
       "      <th>Worst mse</th>\n",
       "      <th>Best cluster</th>\n",
       "      <th>Best mse</th>\n",
       "      <th>Worst cluster</th>\n",
       "      <th>Worst mse</th>\n",
       "      <th>Best cluster</th>\n",
       "      <th>Best mse</th>\n",
       "    </tr>\n",
       "  </thead>\n",
       "  <tbody>\n",
       "    <tr>\n",
       "      <th>Myopic</th>\n",
       "      <td>7</td>\n",
       "      <td>1.529436</td>\n",
       "      <td>6</td>\n",
       "      <td>1.215775</td>\n",
       "      <td>4</td>\n",
       "      <td>0.860485</td>\n",
       "      <td>0</td>\n",
       "      <td>0.844336</td>\n",
       "    </tr>\n",
       "    <tr>\n",
       "      <th>Repeatable</th>\n",
       "      <td>4</td>\n",
       "      <td>1.848154</td>\n",
       "      <td>10</td>\n",
       "      <td>1.490500</td>\n",
       "      <td>9</td>\n",
       "      <td>2.389465</td>\n",
       "      <td>6</td>\n",
       "      <td>1.891632</td>\n",
       "    </tr>\n",
       "    <tr>\n",
       "      <th>Probabilistic</th>\n",
       "      <td>7</td>\n",
       "      <td>1.511403</td>\n",
       "      <td>0</td>\n",
       "      <td>1.244478</td>\n",
       "      <td>6</td>\n",
       "      <td>0.805607</td>\n",
       "      <td>3</td>\n",
       "      <td>0.766836</td>\n",
       "    </tr>\n",
       "    <tr>\n",
       "      <th>Random</th>\n",
       "      <td>7</td>\n",
       "      <td>1.499107</td>\n",
       "      <td>9</td>\n",
       "      <td>1.301771</td>\n",
       "      <td>9</td>\n",
       "      <td>1.752178</td>\n",
       "      <td>3</td>\n",
       "      <td>1.581824</td>\n",
       "    </tr>\n",
       "    <tr>\n",
       "      <th>Random Interleaving</th>\n",
       "      <td>5</td>\n",
       "      <td>1.494760</td>\n",
       "      <td>12</td>\n",
       "      <td>1.229894</td>\n",
       "      <td>14</td>\n",
       "      <td>1.247946</td>\n",
       "      <td>9</td>\n",
       "      <td>1.120300</td>\n",
       "    </tr>\n",
       "    <tr>\n",
       "      <th>Binary XquAD, α=0.1</th>\n",
       "      <td>13</td>\n",
       "      <td>1.430745</td>\n",
       "      <td>4</td>\n",
       "      <td>1.188209</td>\n",
       "      <td>4</td>\n",
       "      <td>0.865521</td>\n",
       "      <td>3</td>\n",
       "      <td>0.839851</td>\n",
       "    </tr>\n",
       "    <tr>\n",
       "      <th>Binary XquAD, α=0.25</th>\n",
       "      <td>7</td>\n",
       "      <td>1.527356</td>\n",
       "      <td>13</td>\n",
       "      <td>1.302629</td>\n",
       "      <td>3</td>\n",
       "      <td>0.881763</td>\n",
       "      <td>4</td>\n",
       "      <td>0.837604</td>\n",
       "    </tr>\n",
       "    <tr>\n",
       "      <th>Smooth XquAD, α=0.1</th>\n",
       "      <td>7</td>\n",
       "      <td>1.532762</td>\n",
       "      <td>6</td>\n",
       "      <td>1.244597</td>\n",
       "      <td>14</td>\n",
       "      <td>0.838287</td>\n",
       "      <td>12</td>\n",
       "      <td>0.819096</td>\n",
       "    </tr>\n",
       "    <tr>\n",
       "      <th>Smooth XquAD, α=0.25</th>\n",
       "      <td>1</td>\n",
       "      <td>1.418185</td>\n",
       "      <td>9</td>\n",
       "      <td>1.216854</td>\n",
       "      <td>5</td>\n",
       "      <td>0.867573</td>\n",
       "      <td>12</td>\n",
       "      <td>0.835762</td>\n",
       "    </tr>\n",
       "  </tbody>\n",
       "</table>\n",
       "</div>"
      ],
      "text/plain": [
       "                     Single training                                   \\\n",
       "                       Worst cluster Worst mse Best cluster  Best mse   \n",
       "Myopic                             7  1.529436            6  1.215775   \n",
       "Repeatable                         4  1.848154           10  1.490500   \n",
       "Probabilistic                      7  1.511403            0  1.244478   \n",
       "Random                             7  1.499107            9  1.301771   \n",
       "Random Interleaving                5  1.494760           12  1.229894   \n",
       "Binary XquAD, α=0.1               13  1.430745            4  1.188209   \n",
       "Binary XquAD, α=0.25               7  1.527356           13  1.302629   \n",
       "Smooth XquAD, α=0.1                7  1.532762            6  1.244597   \n",
       "Smooth XquAD, α=0.25               1  1.418185            9  1.216854   \n",
       "\n",
       "                     Repeated training                                   \n",
       "                         Worst cluster Worst mse Best cluster  Best mse  \n",
       "Myopic                               4  0.860485            0  0.844336  \n",
       "Repeatable                           9  2.389465            6  1.891632  \n",
       "Probabilistic                        6  0.805607            3  0.766836  \n",
       "Random                               9  1.752178            3  1.581824  \n",
       "Random Interleaving                 14  1.247946            9  1.120300  \n",
       "Binary XquAD, α=0.1                  4  0.865521            3  0.839851  \n",
       "Binary XquAD, α=0.25                 3  0.881763            4  0.837604  \n",
       "Smooth XquAD, α=0.1                 14  0.838287           12  0.819096  \n",
       "Smooth XquAD, α=0.25                 5  0.867573           12  0.835762  "
      ]
     },
     "execution_count": 7,
     "metadata": {},
     "output_type": "execute_result"
    }
   ],
   "source": [
    "ranked_mse_df"
   ]
  },
  {
   "cell_type": "code",
   "execution_count": null,
   "metadata": {},
   "outputs": [],
   "source": []
  }
 ],
 "metadata": {
  "kernelspec": {
   "display_name": "fairRS",
   "language": "python",
   "name": "python3"
  },
  "language_info": {
   "codemirror_mode": {
    "name": "ipython",
    "version": 3
   },
   "file_extension": ".py",
   "mimetype": "text/x-python",
   "name": "python",
   "nbconvert_exporter": "python",
   "pygments_lexer": "ipython3",
   "version": "3.8.15"
  },
  "orig_nbformat": 4
 },
 "nbformat": 4,
 "nbformat_minor": 2
}
