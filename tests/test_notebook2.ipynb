{
 "cells": [
  {
   "cell_type": "code",
   "execution_count": 1,
   "metadata": {},
   "outputs": [
    {
     "name": "stderr",
     "output_type": "stream",
     "text": [
      "/var/folders/sm/hcy50x855gvf2b1qwkjstnvh0000gn/T/ipykernel_26362/388569198.py:29: MatplotlibDeprecationWarning: The seaborn styles shipped by Matplotlib are deprecated since 3.6, as they no longer correspond to the styles shipped by seaborn. However, they will remain available as 'seaborn-v0_8-<style>'. Alternatively, directly use the seaborn API instead.\n",
      "  plt.style.use(\"seaborn\")\n"
     ]
    }
   ],
   "source": [
    "import pandas as pd\n",
    "import matplotlib.pyplot as plt\n",
    "from matplotlib import style\n",
    "import numpy as np\n",
    "import pickle\n",
    "import os\n",
    "from sklearn.decomposition import NMF, PCA\n",
    "from sklearn.cluster import KMeans\n",
    "from importlib import reload\n",
    "\n",
    "import sys\n",
    "# caution: path[0] is reserved for script path (or '' in REPL)\n",
    "sys.path.insert(1, '/Users/madisonthantu/Desktop/DREAM/t-recs')\n",
    "from trecs.metrics import MSEMeasurement, InteractionSpread, InteractionSpread, InteractionSimilarity, RecSimilarity, RMSEMeasurement, InteractionMeasurement\n",
    "from trecs.components import Users\n",
    "import trecs.matrix_ops as mo\n",
    "from trecs.models import ContentFiltering\n",
    "import seaborn as sns\n",
    "\n",
    "sys.path.insert(1, '..')\n",
    "import src.globals as globals\n",
    "from wrapper.models.bubble import BubbleBurster\n",
    "from src.utils import *\n",
    "from src.plotting import plot_measurements \n",
    "from src.scoring_functions import cosine_sim, entropy, content_fairness\n",
    "from wrapper.metrics.evaluation_metrics import *\n",
    "from wrapper.metrics.evaluation_metrics import CosineSim\n",
    "random_state = np.random.seed(42)\n",
    "plt.style.use(\"seaborn\")\n",
    "\n",
    "# import warnings filter\n",
    "from warnings import simplefilter\n",
    "# ignore all future warnings\n",
    "simplefilter(action='ignore', category=FutureWarning)"
   ]
  },
  {
   "cell_type": "code",
   "execution_count": 2,
   "metadata": {},
   "outputs": [
    {
     "name": "stderr",
     "output_type": "stream",
     "text": [
      "/Users/madisonthantu/miniforge3/envs/fairRS/lib/python3.8/site-packages/sklearn/base.py:329: UserWarning: Trying to unpickle estimator KMeans from version 1.0.2 when using version 1.1.3. This might lead to breaking code or invalid results. Use at your own risk. For more info please refer to:\n",
      "https://scikit-learn.org/stable/model_persistence.html#security-maintainability-limitations\n",
      "  warnings.warn(\n",
      "/Users/madisonthantu/miniforge3/envs/fairRS/lib/python3.8/site-packages/sklearn/base.py:329: UserWarning: Trying to unpickle estimator KMeans from version 1.0.2 when using version 1.1.3. This might lead to breaking code or invalid results. Use at your own risk. For more info please refer to:\n",
      "https://scikit-learn.org/stable/model_persistence.html#security-maintainability-limitations\n",
      "  warnings.warn(\n"
     ]
    },
    {
     "name": "stdout",
     "output_type": "stream",
     "text": [
      "Loaded embeddings.\n",
      "Number of items: 1682\n",
      "Number of users: 943\n",
      "Loaded clusters.\n",
      "Loaded clusters.\n"
     ]
    },
    {
     "name": "stderr",
     "output_type": "stream",
     "text": [
      "100%|██████████| 5/5 [00:04<00:00,  1.00it/s]\n"
     ]
    }
   ],
   "source": [
    "n_attrs=20\n",
    "max_iter=1000\n",
    "n_clusters=25\n",
    "binary_ratings_matrix = load_and_process_movielens(file_path='/Users/madisonthantu/Desktop/DREAM/data/ml-100k/u.data')\n",
    "\n",
    "# Get user and item representations using NMF\n",
    "user_representation, item_representation = create_embeddings(binary_ratings_matrix, n_attrs=n_attrs, max_iter=max_iter)\n",
    "\n",
    "num_users = user_representation.shape[0]\n",
    "num_items = item_representation.shape[1]\n",
    "print(f'Number of items: {num_items}')\n",
    "print(f'Number of users: {num_users}')\n",
    "\n",
    "users = Users(\n",
    "    actual_user_profiles=user_representation, \n",
    "    repeat_interactions=False, \n",
    ")\n",
    "\n",
    "# Define topic clusters using NMF\n",
    "item_cluster_ids, item_cluster_centers = get_clusters(item_representation.T, name='item', n_clusters=n_clusters, n_attrs=n_attrs, max_iter=max_iter)\n",
    "user_cluster_ids, user_cluster_centers = get_clusters(user_representation, name='user', n_clusters=n_clusters, n_attrs=n_attrs, max_iter=max_iter)\n",
    "\n",
    "\n",
    "# measurements = [\n",
    "#     InteractionMeasurement(),\n",
    "#     MSEMeasurement(),  \n",
    "#     CosineSim(),\n",
    "#     CosineSimPenalty(),\n",
    "# ]\n",
    "\n",
    "# Create BubbleBurster instance\n",
    "recommender = BubbleBurster(\n",
    "    user_representation=user_representation,\n",
    "    item_representation=item_representation,\n",
    "    item_topics=item_cluster_ids,\n",
    ")\n",
    "\n",
    "# add an MSE measurement\n",
    "recommender.add_metrics(InteractionMeasurement(), MSEMeasurement(), CosineSim(), CosineSimPenalty())\n",
    "# Run for 5 time steps\n",
    "recommender.run(timesteps=5)"
   ]
  },
  {
   "cell_type": "code",
   "execution_count": 3,
   "metadata": {},
   "outputs": [
    {
     "name": "stdout",
     "output_type": "stream",
     "text": [
      "interaction_histogram\n",
      "mse\n",
      "cos_sim\n",
      "cos_sim_penalty\n",
      "timesteps\n"
     ]
    }
   ],
   "source": [
    "measurements = recommender.get_measurements()\n",
    "for i in measurements.keys():\n",
    "    print(i)"
   ]
  },
  {
   "cell_type": "code",
   "execution_count": 4,
   "metadata": {},
   "outputs": [
    {
     "data": {
      "text/plain": [
       "array([[1.50029729, 0.55459898, 4.35158201, ..., 0.        , 0.        ,\n",
       "        4.22801487],\n",
       "       [5.827362  , 0.04503505, 3.1045015 , ..., 3.56720479, 0.        ,\n",
       "        0.        ],\n",
       "       [0.01691043, 0.15668429, 0.64933786, ..., 2.58822517, 0.        ,\n",
       "        1.07003921],\n",
       "       ...,\n",
       "       [5.39305317, 0.        , 2.42443198, ..., 0.08502001, 0.        ,\n",
       "        0.        ],\n",
       "       [0.7757051 , 0.53929879, 3.6072633 , ..., 0.8400577 , 0.        ,\n",
       "        4.11137302],\n",
       "       [1.08305808, 9.69671499, 0.        , ..., 0.        , 3.65501614,\n",
       "        0.        ]])"
      ]
     },
     "execution_count": 4,
     "metadata": {},
     "output_type": "execute_result"
    }
   ],
   "source": [
    "measurements['cos_sim'][-1]"
   ]
  },
  {
   "cell_type": "code",
   "execution_count": 5,
   "metadata": {},
   "outputs": [
    {
     "data": {
      "text/plain": [
       "array([[0.85236761, 0.15120537, 0.44796589, ..., 0.03986426, 0.03986426,\n",
       "        0.00553374],\n",
       "       [1.43515193, 0.13067748, 0.23301177, ..., 0.09979839, 0.12709297,\n",
       "        0.12709297],\n",
       "       [0.04765707, 0.07352691, 0.10814812, ..., 0.02766491, 0.03709302,\n",
       "        0.02870783],\n",
       "       ...,\n",
       "       [2.45211916, 0.04640799, 0.23021797, ..., 0.04594617, 0.04640799,\n",
       "        0.04640799],\n",
       "       [0.29600421, 0.12885741, 0.23883559, ..., 0.06703023, 0.07292693,\n",
       "        0.03598388],\n",
       "       [0.38377198, 1.11540677, 0.05683475, ..., 0.05683475, 0.02327457,\n",
       "        0.05683475]])"
      ]
     },
     "execution_count": 5,
     "metadata": {},
     "output_type": "execute_result"
    }
   ],
   "source": [
    "measurements['cos_sim_penalty'][-1]"
   ]
  },
  {
   "cell_type": "code",
   "execution_count": 6,
   "metadata": {},
   "outputs": [
    {
     "data": {
      "text/plain": [
       "array([[8.27506326e-01, 1.16887102e-01, 4.51617456e-01, ...,\n",
       "        0.00000000e+00, 0.00000000e+00, 7.94963399e-03],\n",
       "       [1.36633258e+00, 4.03486107e-03, 1.36963818e-01, ...,\n",
       "        8.37746738e-03, 0.00000000e+00, 0.00000000e+00],\n",
       "       [1.07331627e-02, 3.80007375e-02, 7.75484855e-02, ...,\n",
       "        1.64541470e-02, 0.00000000e+00, 2.31520453e-03],\n",
       "       ...,\n",
       "       [2.45964170e+00, 0.00000000e+00, 2.08054302e-01, ...,\n",
       "        3.88381536e-04, 0.00000000e+00, 0.00000000e+00],\n",
       "       [2.30834331e-01, 6.13234700e-02, 2.01981292e-01, ...,\n",
       "        2.50387788e-03, 0.00000000e+00, 4.17068378e-03],\n",
       "       [3.37767810e-01, 1.15553917e+00, 0.00000000e+00, ...,\n",
       "        0.00000000e+00, 2.98997445e-03, 0.00000000e+00]])"
      ]
     },
     "execution_count": 6,
     "metadata": {},
     "output_type": "execute_result"
    }
   ],
   "source": [
    "recommender.predicted_scores.value"
   ]
  },
  {
   "cell_type": "code",
   "execution_count": 7,
   "metadata": {},
   "outputs": [
    {
     "name": "stderr",
     "output_type": "stream",
     "text": [
      "100%|██████████| 2/2 [00:02<00:00,  1.01s/it]"
     ]
    },
    {
     "name": "stdout",
     "output_type": "stream",
     "text": [
      "[0 1 2 3 4 5]\n"
     ]
    },
    {
     "name": "stderr",
     "output_type": "stream",
     "text": [
      "\n"
     ]
    },
    {
     "data": {
      "text/plain": [
       "array([[0.97118103, 0.40998671, 3.04508728, ..., 0.        , 0.        ,\n",
       "        3.12555555],\n",
       "       [3.93955648, 0.04026906, 2.0873394 , ..., 2.58658051, 0.        ,\n",
       "        0.        ],\n",
       "       [0.01207888, 0.11191735, 0.46381276, ..., 1.84873227, 0.        ,\n",
       "        0.76431372],\n",
       "       ...,\n",
       "       [3.85218084, 0.        , 1.73173713, ..., 0.06072858, 0.        ,\n",
       "        0.        ],\n",
       "       [0.47163929, 0.39521147, 2.50545769, ..., 0.61660929, 0.        ,\n",
       "        3.01291566],\n",
       "       [0.77361291, 6.92622499, 0.        , ..., 0.        , 2.61072582,\n",
       "        0.        ]])"
      ]
     },
     "execution_count": 7,
     "metadata": {},
     "output_type": "execute_result"
    }
   ],
   "source": [
    "recommender.run(timesteps=2)\n",
    "print(measurements['timesteps'])\n",
    "measurements['cos_sim'][-1]"
   ]
  },
  {
   "cell_type": "code",
   "execution_count": null,
   "metadata": {},
   "outputs": [],
   "source": []
  }
 ],
 "metadata": {
  "kernelspec": {
   "display_name": "fairRS",
   "language": "python",
   "name": "python3"
  },
  "language_info": {
   "codemirror_mode": {
    "name": "ipython",
    "version": 3
   },
   "file_extension": ".py",
   "mimetype": "text/x-python",
   "name": "python",
   "nbconvert_exporter": "python",
   "pygments_lexer": "ipython3",
   "version": "3.8.15"
  },
  "orig_nbformat": 4
 },
 "nbformat": 4,
 "nbformat_minor": 2
}
