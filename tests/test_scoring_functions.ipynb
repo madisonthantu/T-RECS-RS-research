{
 "cells": [
  {
   "cell_type": "code",
   "execution_count": 3,
   "metadata": {},
   "outputs": [],
   "source": [
    "import sys\n",
    "sys.path.insert(1, '/Users/madisonthantu/Desktop/DREAM/t-recs')\n",
    "from trecs.metrics import Measurement, MSEMeasurement, InteractionSpread, InteractionSpread, InteractionSimilarity, RecSimilarity, RMSEMeasurement, InteractionMeasurement\n",
    "from trecs.components import Users\n",
    "\n",
    "import numpy as np\n",
    "import pandas as pd\n",
    "\n",
    "import matplotlib.pyplot as plt\n",
    "from scipy.ndimage import gaussian_filter1d\n",
    "from collections import defaultdict\n",
    "\n",
    "sys.path.insert(1, '/Users/madisonthantu/Desktop/DREAM/T-RECS-RS-research')\n",
    "from wrapper.models.bubble import BubbleBurster\n",
    "from wrapper.metrics.evaluation_metrics import TopicInteractionMeasurement\n",
    "from src.utils import compute_constrained_clusters, create_global_user_pairs, user_topic_mapping, create_cluster_user_pairs, load_and_process_movielens, compute_embeddings\n",
    "from wrapper.metrics.clustering_metrics import MeanCosineSim, MeanDistanceFromCentroid, MeanCosineSimPerCluster, MeanDistanceFromCentroidPerCluster\n",
    "from prelim_experiments.param_experiments.chaney_utils import *\n",
    "\n",
    "import warnings\n",
    "warnings.simplefilter(\"ignore\")\n",
    "\n",
    "import itertools"
   ]
  },
  {
   "cell_type": "code",
   "execution_count": 4,
   "metadata": {},
   "outputs": [
    {
     "name": "stdout",
     "output_type": "stream",
     "text": [
      "Calculating embeddings ...\n",
      "... Calculated embeddings.\n",
      "Calculating constrained clusters ...\n",
      "... Calculated constrained clusters.\n",
      "Calculating constrained clusters ...\n",
      "... Calculated constrained clusters.\n"
     ]
    }
   ],
   "source": [
    "num_attributes=15\n",
    "max_iter=1000\n",
    "num_clusters = 10\n",
    "\n",
    "data_path = '/Users/madisonthantu/Desktop/DREAM/data/ml-100k/u.data'\n",
    "binary_ratings_matrix = load_and_process_movielens(file_path=data_path)\n",
    "user_representation, item_representation = compute_embeddings(binary_ratings_matrix, n_attrs=num_attributes, max_iter=max_iter)\n",
    "\n",
    "item_cluster_ids, item_cluster_centers = compute_constrained_clusters(embeddings=item_representation.T, name='item_clusters', n_clusters=num_clusters)\n",
    "user_cluster_ids, user_cluster_centers = compute_constrained_clusters(embeddings=user_representation, name='user_clusters', n_clusters=num_clusters)\n",
    "inter_cluster_user_pairs, intra_cluster_user_pairs = create_cluster_user_pairs(user_cluster_ids)\n",
    "                \n",
    "users = Users(\n",
    "    actual_user_profiles=user_representation, \n",
    "    repeat_interactions=False,\n",
    "    drift=0.05,\n",
    "    attention_exp=-0.2\n",
    ")"
   ]
  },
  {
   "cell_type": "code",
   "execution_count": 5,
   "metadata": {},
   "outputs": [],
   "source": [
    "metrics_list = [\n",
    "    MSEMeasurement(diagnostics=True),\n",
    "    MeanCosineSim(pairs=intra_cluster_user_pairs, name='mean_intra_cluster_cosine_sim', diagnostics=True),\n",
    "    InteractionSimilarity(pairs=intra_cluster_user_pairs, name=\"test_interaction_similarity\", diagnostics=True),\n",
    "    InteractionSpread(),\n",
    "    InteractionMeasurement(),\n",
    "    TopicInteractionMeasurement()\n",
    "]\n",
    "\n",
    "bubble = BubbleBurster(\n",
    "    actual_user_representation=users, \n",
    "    actual_item_representation=item_representation,\n",
    "    item_topics=item_cluster_ids,\n",
    "    num_attributes=num_attributes,\n",
    "    num_items_per_iter=10,\n",
    "    record_base_state=True\n",
    ")"
   ]
  },
  {
   "cell_type": "code",
   "execution_count": 6,
   "metadata": {},
   "outputs": [
    {
     "name": "stderr",
     "output_type": "stream",
     "text": [
      "100%|██████████| 5/5 [00:01<00:00,  3.13it/s]\n",
      "100%|██████████| 10/10 [00:15<00:00,  1.55s/it]\n"
     ]
    }
   ],
   "source": [
    "train_timesteps = 5\n",
    "run_timesteps = 10\n",
    "repeated_training = 1\n",
    "\n",
    "bubble.add_metrics(*metrics_list)\n",
    "bubble.startup_and_train(timesteps=train_timesteps)\n",
    "bubble.run(timesteps=run_timesteps, train_between_steps=repeated_training)\n",
    "bubble.close() # end logging"
   ]
  },
  {
   "cell_type": "code",
   "execution_count": null,
   "metadata": {},
   "outputs": [],
   "source": [
    "class TopicInteractionMeasurement(Measurement):\n",
    "    \"\"\"\n",
    "    Keeps track of the interactions between users and items.\n",
    "\n",
    "    Specifically, at each timestep, it stores a histogram of length\n",
    "    :math:`|I|`, where element :math:`i` is the number of interactions\n",
    "    received by item :math:`i`.\n",
    "\n",
    "    Parameters\n",
    "    -----------\n",
    "\n",
    "        verbose: bool, default False\n",
    "            If ``True``, enables verbose mode. Disabled by default.\n",
    "\n",
    "    Attributes\n",
    "    -----------\n",
    "        Inherited by Measurement: :class:`.Measurement`\n",
    "\n",
    "        name: str, default ``\"interaction_histogram\"``\n",
    "            Name of the measurement component.\n",
    "    \"\"\"\n",
    "\n",
    "    def __init__(self, name=\"topic_interaction_histogram\", verbose=False):\n",
    "        Measurement.__init__(self, name, verbose)\n",
    "\n",
    "    @staticmethod\n",
    "    def _generate_interaction_histogram(interactions, num_users, num_items):\n",
    "        \"\"\"\n",
    "        Generates a histogram of the number of interactions per item at the\n",
    "        given timestep.\n",
    "\n",
    "        Parameters\n",
    "        -----------\n",
    "            interactions : :obj:`numpy.ndarray`\n",
    "                Array of user interactions.\n",
    "\n",
    "            num_users : int\n",
    "                Number of users in the system\n",
    "\n",
    "            num_items : int\n",
    "                Number of items in the system\n",
    "\n",
    "        Returns\n",
    "        ---------\n",
    "            :obj:`numpy.ndarray`:\n",
    "                Histogram of the number of interactions aggregated by items at the given timestep.\n",
    "        \"\"\"\n",
    "        histogram = np.zeros(num_items)\n",
    "        np.add.at(histogram, interactions, 1)\n",
    "        # Check that there's one interaction per user\n",
    "        if histogram.sum() != num_users:\n",
    "            raise ValueError(\"The sum of interactions must be equal to the number of users\")\n",
    "        return histogram\n",
    "\n",
    "    def measure(self, recommender):\n",
    "        \"\"\"\n",
    "        Measures and stores a histogram of the number of interactions per\n",
    "        item at the given timestep.\n",
    "\n",
    "        Parameters\n",
    "        ------------\n",
    "            recommender: :class:`~models.recommender.BaseRecommender`\n",
    "                Model that inherits from :class:`~models.recommender.BaseRecommender`.\n",
    "        \"\"\"\n",
    "        if recommender.interactions.size == 0:\n",
    "            # at beginning of simulation, there are no interactions\n",
    "            self.observe(None)\n",
    "            return\n",
    "\n",
    "        histogram = self._generate_interaction_histogram(\n",
    "            recommender.interactions, recommender.num_users, recommender.num_items\n",
    "        )\n",
    "        self.observe(histogram, copy=True)"
   ]
  }
 ],
 "metadata": {
  "kernelspec": {
   "display_name": "fairRS",
   "language": "python",
   "name": "python3"
  },
  "language_info": {
   "codemirror_mode": {
    "name": "ipython",
    "version": 3
   },
   "file_extension": ".py",
   "mimetype": "text/x-python",
   "name": "python",
   "nbconvert_exporter": "python",
   "pygments_lexer": "ipython3",
   "version": "3.8.15"
  },
  "orig_nbformat": 4
 },
 "nbformat": 4,
 "nbformat_minor": 2
}
