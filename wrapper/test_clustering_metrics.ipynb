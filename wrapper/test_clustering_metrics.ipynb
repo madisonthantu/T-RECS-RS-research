{
 "cells": [
  {
   "cell_type": "code",
   "execution_count": 1,
   "metadata": {},
   "outputs": [],
   "source": [
    "import pandas as pd\n",
    "import matplotlib.pyplot as plt\n",
    "from matplotlib import style\n",
    "import numpy as np\n",
    "import pickle\n",
    "import os\n",
    "from sklearn.decomposition import NMF, PCA\n",
    "from sklearn.cluster import KMeans\n",
    "from importlib import reload\n",
    "import itertools\n",
    "from collections import defaultdict\n",
    "from tqdm import tqdm\n",
    "\n",
    "import sys\n",
    "sys.path.insert(1, '/Users/madisonthantu/Desktop/DREAM/t-recs')\n",
    "from trecs.metrics import MSEMeasurement, InteractionSpread, InteractionSpread, InteractionSimilarity, RecSimilarity, RMSEMeasurement, InteractionMeasurement\n",
    "from trecs.components import Users\n",
    "import trecs.matrix_ops as mo\n",
    "\n",
    "sys.path.insert(1, '../')\n",
    "from wrapper.models.bubble import BubbleBurster\n",
    "from src.utils import load_and_process_movielens, compute_embeddings, compute_constrained_clusters, user_topic_mapping, create_cluster_user_pairs\n",
    "from metrics.clustering_metrics import MeanCosineSim, MeanDistanceFromCentroid, MeanCosineSimPerCluster, MeanDistanceFromCentroidPerCluster\n",
    "\n",
    "random_state = np.random.seed(42)"
   ]
  },
  {
   "cell_type": "code",
   "execution_count": 2,
   "metadata": {},
   "outputs": [
    {
     "name": "stdout",
     "output_type": "stream",
     "text": [
      "Calculating embeddings...\n",
      "Calculated embeddings.\n",
      "Calculating constrained clusters...\n",
      "Calculated constrained clusters.\n",
      "Calculating constrained clusters...\n",
      "Calculated constrained clusters.\n"
     ]
    }
   ],
   "source": [
    "params = {\n",
    "    \"max_iter\":1000,\n",
    "    \"num_clusters\":10,\n",
    "    \"num_attrs\":20,\n",
    "    \"drift\":0.1,\n",
    "    \"attention_exp\":-0.8,\n",
    "    \"startup_iters\":5,\n",
    "    \"sim_iters\":25,\n",
    "    \"repeated_training\":True\n",
    "}\n",
    "\n",
    "binary_ratings_matrix = load_and_process_movielens(file_path='/Users/madisonthantu/Desktop/DREAM/data/ml-100k/u.data')\n",
    "# Get user and item representations using NMF\n",
    "user_representation, item_representation = compute_embeddings(binary_ratings_matrix, n_attrs=params[\"num_attrs\"], max_iter=params[\"max_iter\"])\n",
    "# Define topic clusters using K-Means\n",
    "item_cluster_ids, item_cluster_centers = compute_constrained_clusters(item_representation.T, name='item', n_clusters=params[\"num_clusters\"])\n",
    "user_cluster_ids, user_cluster_centers = compute_constrained_clusters(user_representation, name='user', n_clusters=params[\"num_clusters\"])\n",
    "# Get user pairs - global user pairs, intra-cluster user pairs, inter-cluster user pairs\n",
    "global_user_pairs = []\n",
    "num_users = len(user_cluster_ids)\n",
    "for u_idx in range(num_users):\n",
    "    global_user_pairs += [(u_idx, v_idx) for v_idx in range(u_idx+1, num_users)]\n",
    "inter_cluster_user_pairs, intra_cluster_user_pairs = create_cluster_user_pairs(user_cluster_ids)\n",
    "\n",
    "users = Users(\n",
    "    actual_user_profiles=user_representation, \n",
    "    repeat_interactions=False,\n",
    "    drift=params[\"drift\"],\n",
    "    attention_exp=params[\"attention_exp\"]\n",
    ")\n",
    "\n",
    "# measurements = [\n",
    "#     MSEMeasurement(),  \n",
    "#     InteractionSpread(),                \n",
    "#     InteractionSimilarity(pairs=global_user_pairs, name='global_interaction_similarity'), \n",
    "#     InteractionSimilarity(pairs=inter_cluster_user_pairs, name='inter_cluster_interaction_similarity'), \n",
    "#     InteractionSimilarity(pairs=intra_cluster_user_pairs, name='intra_cluster_interaction_similarity'), \n",
    "# ]\n",
    "\n",
    "bubble = BubbleBurster(\n",
    "    actual_user_representation=users, \n",
    "    \n",
    "    actual_item_representation=item_representation,\n",
    "    item_topics=item_cluster_ids,\n",
    "    num_attributes=params[\"num_attrs\"],\n",
    "    num_items_per_iter=10,\n",
    "    # seed=rng,\n",
    "    record_base_state=True\n",
    ")\n",
    "\n",
    "# bubble.add_metrics(*measurements)"
   ]
  },
  {
   "attachments": {},
   "cell_type": "markdown",
   "metadata": {},
   "source": [
    "### **Metric:** Average cosine sim"
   ]
  },
  {
   "cell_type": "code",
   "execution_count": 3,
   "metadata": {},
   "outputs": [],
   "source": [
    "from sklearn.metrics.pairwise import cosine_similarity\n",
    "from math import comb\n",
    "from itertools import combinations\n",
    "\n",
    "class AvgCosineSim():\n",
    "    def __init__(self, pairs, name=\"avg_cosine_sim\", verbose=False):\n",
    "        self.pairs = pairs\n",
    "        self.first_user = [p[0] for p in pairs]\n",
    "        self.second_user = [p[1] for p in pairs]\n",
    "\n",
    "    def measure(self, recommender):\n",
    "        cos_sim_matrix = cosine_similarity(recommender.users.actual_user_profiles.value)\n",
    "        inter_clust_cos_sim = cos_sim_matrix[self.first_user, self.second_user]\n",
    "        return np.mean(inter_clust_cos_sim)\n"
   ]
  },
  {
   "cell_type": "code",
   "execution_count": 4,
   "metadata": {},
   "outputs": [
    {
     "data": {
      "text/plain": [
       "0.3180862506255128"
      ]
     },
     "execution_count": 4,
     "metadata": {},
     "output_type": "execute_result"
    }
   ],
   "source": [
    "avg_intra_cluster_cosine_sim = AvgCosineSim(intra_cluster_user_pairs, params[\"num_clusters\"])\n",
    "avg_intra_cluster_cosine_sim.measure(bubble)\n",
    "# print(avg_intra_cluster_cosine_sim.measure(bubble))"
   ]
  },
  {
   "cell_type": "code",
   "execution_count": 27,
   "metadata": {},
   "outputs": [],
   "source": [
    "from sklearn.metrics.pairwise import cosine_similarity\n",
    "from math import comb\n",
    "from itertools import combinations\n",
    "\n",
    "class AvgCosineSimPerCluster():\n",
    "    def __init__(self, user_cluster_ids, n_clusts, name=\"cosine_sim_per_cluster\", verbose=False):\n",
    "        self.user_cluster_ids = user_cluster_ids\n",
    "        self.n_clusts = n_clusts\n",
    "        assert (np.unique(user_cluster_ids).shape[0] == n_clusts), \"User cluster assignment does not match number of clusters\"\n",
    "\n",
    "    def measure(self, recommender):\n",
    "        avg_cos_sim_per_clust = list()\n",
    "        \n",
    "        for clust in range(self.n_clusts):\n",
    "            clust_users = np.where(self.user_cluster_ids == clust)[0]\n",
    "            user_embeddings = recommender.users.actual_user_profiles.value[clust_users, :]\n",
    "            cos_sim_matrix = cosine_similarity(user_embeddings)\n",
    "            cos_sim_idxs = np.triu_indices(cos_sim_matrix.shape[0], k=1)\n",
    "            cos_sim_vals = cos_sim_matrix[cos_sim_idxs[0], cos_sim_idxs[1]]\n",
    "            avg_cos_sim_per_clust.append(np.mean(cos_sim_vals))\n",
    "            \n",
    "        return avg_cos_sim_per_clust"
   ]
  },
  {
   "cell_type": "code",
   "execution_count": 28,
   "metadata": {},
   "outputs": [
    {
     "name": "stdout",
     "output_type": "stream",
     "text": [
      "[0.7761464402401791, 0.7616792154447272, 0.7846735751028342, 0.821939487668927, 0.7878008557434871, 0.7785059435264979, 0.7633132563807994, 0.7931131931385692, 0.8071428192991922, 0.7956167357351537]\n"
     ]
    }
   ],
   "source": [
    "avg_intra_cluster_cosine_sim = AvgCosineSimPerCluster(user_cluster_ids, params[\"num_clusters\"])\n",
    "res = avg_intra_cluster_cosine_sim.measure(bubble)\n",
    "print(res)"
   ]
  },
  {
   "attachments": {},
   "cell_type": "markdown",
   "metadata": {},
   "source": [
    "### **Metric:** Average distance from centroid"
   ]
  },
  {
   "cell_type": "code",
   "execution_count": 17,
   "metadata": {},
   "outputs": [],
   "source": [
    "class MeanDistanceFromCentroid():\n",
    "    def __init__(self, user_cluster_ids, user_centroids, name=\"avg_distance_from_centroid\", verbose=False):\n",
    "        self.cluster_ids = user_cluster_ids\n",
    "        self.user_centroids = user_centroids\n",
    "        \n",
    "    def measure(self, recommender):\n",
    "        centroid_vecs = self.user_centroids[self.cluster_ids]\n",
    "        # dist = np.linalg.norm(recommender.users.actual_user_profiles.value - centroid_vecs, axis=1)\n",
    "        dist = np.linalg.norm(recommender.users.actual_user_profiles.value - centroid_vecs, axis=1)\n",
    "        print(dist.shape)\n",
    "        return np.mean(dist)\n",
    "    \n",
    "    \n",
    "class test():\n",
    "    def __init__(self, user_cluster_ids, user_centroids, name=\"avg_distance_from_centroid\", verbose=False):\n",
    "        self.user_ids = np.arange(user_cluster_ids.shape[0])\n",
    "        self.cluster_ids = user_cluster_ids\n",
    "        self.user_centroids = user_centroids\n",
    "        \n",
    "    def measure(self, recommender):\n",
    "        cum_norm = 0\n",
    "        for i in range(self.user_ids.shape[0]):\n",
    "            user_rep = recommender.users.actual_user_profiles.value[i]\n",
    "            centroid = self.user_centroids[self.cluster_ids[i]]\n",
    "            cum_norm += np.linalg.norm(user_rep - centroid)\n",
    "        return cum_norm / self.user_ids.shape[0]"
   ]
  },
  {
   "cell_type": "code",
   "execution_count": 18,
   "metadata": {},
   "outputs": [
    {
     "name": "stdout",
     "output_type": "stream",
     "text": [
      "Calculating constrained clusters...\n",
      "Calculated constrained clusters.\n"
     ]
    }
   ],
   "source": [
    "global_user_cluster_ids, global_user_cluster_centers = compute_constrained_clusters(user_representation, name='user', n_clusters=1)"
   ]
  },
  {
   "cell_type": "code",
   "execution_count": 19,
   "metadata": {},
   "outputs": [
    {
     "name": "stdout",
     "output_type": "stream",
     "text": [
      "(943,)\n",
      "()\n",
      "0.6378626912939308\n",
      "(943,)\n",
      "()\n",
      "0.6479853518718514\n"
     ]
    }
   ],
   "source": [
    "centroid_dist = MeanDistanceFromCentroid(user_cluster_ids, user_cluster_centers)\n",
    "res = centroid_dist.measure(bubble)\n",
    "print(res.shape)\n",
    "print(res)\n",
    "\n",
    "centroid_dist = MeanDistanceFromCentroid(global_user_cluster_ids, global_user_cluster_centers)\n",
    "res = centroid_dist.measure(bubble)\n",
    "print(res.shape)\n",
    "print(res)"
   ]
  },
  {
   "cell_type": "code",
   "execution_count": 55,
   "metadata": {},
   "outputs": [
    {
     "name": "stdout",
     "output_type": "stream",
     "text": [
      "()\n",
      "0.6378626912939308\n",
      "()\n",
      "0.6479853518718517\n"
     ]
    }
   ],
   "source": [
    "test_centroid_dist = test(user_cluster_ids, user_cluster_centers)\n",
    "test_res = test_centroid_dist.measure(bubble)\n",
    "print(test_res.shape)\n",
    "print(test_res)\n",
    "\n",
    "test_centroid_dist = test(global_user_cluster_ids, global_user_cluster_centers)\n",
    "test_res = test_centroid_dist.measure(bubble)\n",
    "print(test_res.shape)\n",
    "print(test_res)\n",
    "# print(avg_intra_cluster_cosine_sim.measure(bubble))"
   ]
  },
  {
   "cell_type": "code",
   "execution_count": 56,
   "metadata": {},
   "outputs": [],
   "source": [
    "class MeanDistanceFromCentroidPerCluster():\n",
    "    def __init__(self, user_cluster_ids, user_centroids, n_clusts, name=\"mean_distance_from_centroid_per_cluster\", verbose=False):\n",
    "        self.user_cluster_ids = user_cluster_ids\n",
    "        self.cluster_ids = user_cluster_ids\n",
    "        self.user_centroids = user_centroids\n",
    "        self.n_clusts = n_clusts\n",
    "        \n",
    "    def measure(self, recommender):\n",
    "        avg_dist_per_clust = list()\n",
    "        for clust in range(self.n_clusts):\n",
    "            clust_users = np.where(self.user_cluster_ids == clust)[0]\n",
    "            user_embeddings = recommender.users.actual_user_profiles.value[clust_users, :]\n",
    "            dist = np.linalg.norm(np.subtract(user_embeddings, self.user_centroids[clust]), axis=1)\n",
    "            avg_dist_per_clust.append(np.mean(dist))\n",
    "        return avg_dist_per_clust\n",
    "    \n",
    "    \n",
    "class Test2():\n",
    "    def __init__(self, user_cluster_ids, user_centroids, n_clusts, name=\"mean_distance_from_centroid_per_cluster\", verbose=False):\n",
    "        self.user_cluster_ids = user_cluster_ids\n",
    "        self.cluster_ids = user_cluster_ids\n",
    "        self.user_centroids = user_centroids\n",
    "        self.n_clusts = n_clusts\n",
    "        # print(self.user_centroids.shape)\n",
    "        \n",
    "    def measure(self, recommender):\n",
    "        avg_dist_per_clust = list()\n",
    "        cum_dist = np.array([])\n",
    "        \n",
    "        for clust in range(self.n_clusts):\n",
    "            clust_users = np.where(self.user_cluster_ids == clust)[0]\n",
    "            user_embeddings = recommender.users.actual_user_profiles.value[clust_users, :]\n",
    "            # print(user_embeddings.shape)\n",
    "            dist = np.linalg.norm(np.subtract(user_embeddings, self.user_centroids[clust]), axis=1)\n",
    "            # print(dist.shape)\n",
    "            avg_dist_per_clust.append(np.mean(dist))\n",
    "            cum_dist = np.concatenate((cum_dist, dist))\n",
    "            \n",
    "        print(np.mean(cum_dist))\n",
    "        \n",
    "        return avg_dist_per_clust    "
   ]
  },
  {
   "cell_type": "code",
   "execution_count": 59,
   "metadata": {},
   "outputs": [
    {
     "name": "stdout",
     "output_type": "stream",
     "text": [
      "[0.5466654788538269, 3.018735828429659, 1.2347611442208075, 4.94051521589432, 1.2375065461127304, 1.3689782580318501, 0.25131660508056874, 2.41896241589392, 3.7634275161149344, 1.3293774937647111]\n",
      "2.0110246502397326\n",
      "\n",
      "0.6378626912939309\n",
      "[0.5466654788538269, 3.018735828429659, 1.2347611442208075, 4.94051521589432, 1.2375065461127304, 1.3689782580318501, 0.25131660508056874, 2.41896241589392, 3.7634275161149344, 1.3293774937647111]\n",
      "2.0110246502397326\n"
     ]
    }
   ],
   "source": [
    "centroid_dist = MeanDistanceFromCentroidPerCluster(user_cluster_ids, user_cluster_centers, params[\"num_clusters\"])\n",
    "res = centroid_dist.measure(bubble)\n",
    "print(res)\n",
    "print(sum(res) / len(res))\n",
    "print()\n",
    "\n",
    "centroid_dist = Test2(user_cluster_ids, user_cluster_centers, params[\"num_clusters\"])\n",
    "res = centroid_dist.measure(bubble)\n",
    "print(res)\n",
    "print(sum(res) / len(res))"
   ]
  },
  {
   "cell_type": "code",
   "execution_count": 60,
   "metadata": {},
   "outputs": [
    {
     "name": "stdout",
     "output_type": "stream",
     "text": [
      "[0.6479853518718514]\n",
      "\n",
      "0.6479853518718514\n",
      "[0.6479853518718514]\n"
     ]
    }
   ],
   "source": [
    "centroid_dist = MeanDistanceFromCentroidPerCluster(global_user_cluster_ids, global_user_cluster_centers, 1)\n",
    "res = centroid_dist.measure(bubble)\n",
    "print(res)\n",
    "print()\n",
    "\n",
    "centroid_dist = Test2(global_user_cluster_ids, global_user_cluster_centers, 1)\n",
    "res = centroid_dist.measure(bubble)\n",
    "print(res)"
   ]
  },
  {
   "attachments": {},
   "cell_type": "markdown",
   "metadata": {},
   "source": [
    "# **Running simulation** with new clustering metrics"
   ]
  },
  {
   "cell_type": "code",
   "execution_count": 3,
   "metadata": {},
   "outputs": [],
   "source": [
    "measurements = [\n",
    "    MSEMeasurement(),  \n",
    "    InteractionSpread(),                \n",
    "    InteractionSimilarity(pairs=global_user_pairs, name='global_interaction_similarity'), \n",
    "    InteractionSimilarity(pairs=inter_cluster_user_pairs, name='inter_cluster_interaction_similarity'), \n",
    "    InteractionSimilarity(pairs=intra_cluster_user_pairs, name='intra_cluster_interaction_similarity'), \n",
    "    \n",
    "    MeanCosineSim(pairs=intra_cluster_user_pairs, name='intra_cluster_cosine_sim'),\n",
    "    MeanCosineSim(pairs=inter_cluster_user_pairs, name='inter_cluster_cosine_sim'),\n",
    "    MeanDistanceFromCentroid(user_cluster_ids, user_cluster_centers, name=\"mean_distance_from_centroid\"), \n",
    "    MeanCosineSimPerCluster(user_cluster_ids, params[\"num_clusters\"], name=\"mean_cosine_sim_per_cluster\"), \n",
    "    MeanDistanceFromCentroidPerCluster(user_cluster_ids, user_cluster_centers, params[\"num_clusters\"], name=\"mean_distance_from_centroid_per_cluster\")\n",
    "]\n",
    "\n",
    "bubble.add_metrics(*measurements)"
   ]
  },
  {
   "cell_type": "code",
   "execution_count": 4,
   "metadata": {},
   "outputs": [
    {
     "name": "stderr",
     "output_type": "stream",
     "text": [
      "100%|██████████| 5/5 [00:07<00:00,  1.48s/it]\n",
      "100%|██████████| 25/25 [01:55<00:00,  4.61s/it]\n"
     ]
    }
   ],
   "source": [
    "bubble.startup_and_train(timesteps=params[\"startup_iters\"])\n",
    "bubble.run(timesteps=params[\"sim_iters\"], train_between_steps=params[\"repeated_training\"])\n",
    "bubble.close() # end logging"
   ]
  },
  {
   "cell_type": "code",
   "execution_count": 6,
   "metadata": {},
   "outputs": [],
   "source": [
    "measurements = bubble.get_measurements()\n",
    "df_measurements = pd.DataFrame(measurements)"
   ]
  },
  {
   "cell_type": "code",
   "execution_count": 8,
   "metadata": {},
   "outputs": [
    {
     "data": {
      "text/plain": [
       "<matplotlib.legend.Legend at 0x1796301f0>"
      ]
     },
     "execution_count": 8,
     "metadata": {},
     "output_type": "execute_result"
    },
    {
     "data": {
      "image/png": "[encoded data removed]",
      "text/plain": [
       "<Figure size 640x480 with 1 Axes>"
      ]
     },
     "metadata": {},
     "output_type": "display_data"
    }
   ],
   "source": [
    "plt.plot(df_measurements[\"global_interaction_similarity\"][params[\"startup_iters\"]:], label=\"global_interaction_similarity\")\n",
    "plt.plot(df_measurements[\"intra_cluster_interaction_similarity\"][params[\"startup_iters\"]:], label=\"intra_cluster_interaction_similarity\")\n",
    "plt.plot(df_measurements[\"inter_cluster_interaction_similarity\"][params[\"startup_iters\"]:], label=\"inter_cluster_interaction_similarity\")\n",
    "plt.legend(facecolor='white', framealpha=1, loc='upper right', bbox_to_anchor=(1.7, 1.0))"
   ]
  },
  {
   "attachments": {},
   "cell_type": "markdown",
   "metadata": {},
   "source": [
    "."
   ]
  },
  {
   "attachments": {},
   "cell_type": "markdown",
   "metadata": {},
   "source": [
    "# Implementing reclustering"
   ]
  },
  {
   "cell_type": "code",
   "execution_count": 3,
   "metadata": {},
   "outputs": [
    {
     "name": "stderr",
     "output_type": "stream",
     "text": [
      "100%|██████████| 5/5 [00:07<00:00,  1.46s/it]\n",
      "100%|██████████| 25/25 [01:55<00:00,  4.60s/it]\n"
     ]
    }
   ],
   "source": [
    "bubble.startup_and_train(timesteps=params[\"startup_iters\"])\n",
    "bubble.run(timesteps=params[\"sim_iters\"], train_between_steps=params[\"repeated_training\"])\n",
    "bubble.close() # end logging"
   ]
  },
  {
   "cell_type": "code",
   "execution_count": 21,
   "metadata": {},
   "outputs": [],
   "source": [
    "measurements = bubble.get_measurements()\n",
    "df_measurements = pd.DataFrame(measurements)"
   ]
  },
  {
   "cell_type": "code",
   "execution_count": 22,
   "metadata": {},
   "outputs": [
    {
     "data": {
      "text/html": [
       "<div>\n",
       "<style scoped>\n",
       "    .dataframe tbody tr th:only-of-type {\n",
       "        vertical-align: middle;\n",
       "    }\n",
       "\n",
       "    .dataframe tbody tr th {\n",
       "        vertical-align: top;\n",
       "    }\n",
       "\n",
       "    .dataframe thead th {\n",
       "        text-align: right;\n",
       "    }\n",
       "</style>\n",
       "<table border=\"1\" class=\"dataframe\">\n",
       "  <thead>\n",
       "    <tr style=\"text-align: right;\">\n",
       "      <th></th>\n",
       "      <th>mse</th>\n",
       "      <th>interaction_spread</th>\n",
       "      <th>global_interaction_similarity</th>\n",
       "      <th>inter_cluster_interaction_similarity</th>\n",
       "      <th>intra_cluster_interaction_similarity</th>\n",
       "      <th>timesteps</th>\n",
       "    </tr>\n",
       "  </thead>\n",
       "  <tbody>\n",
       "    <tr>\n",
       "      <th>0</th>\n",
       "      <td>0.090065</td>\n",
       "      <td>NaN</td>\n",
       "      <td>NaN</td>\n",
       "      <td>NaN</td>\n",
       "      <td>NaN</td>\n",
       "      <td>0</td>\n",
       "    </tr>\n",
       "    <tr>\n",
       "      <th>1</th>\n",
       "      <td>0.098064</td>\n",
       "      <td>-940.0</td>\n",
       "      <td>0.001288</td>\n",
       "      <td>0.001173</td>\n",
       "      <td>0.001477</td>\n",
       "      <td>1</td>\n",
       "    </tr>\n",
       "    <tr>\n",
       "      <th>2</th>\n",
       "      <td>0.105862</td>\n",
       "      <td>0.5</td>\n",
       "      <td>0.001821</td>\n",
       "      <td>0.001712</td>\n",
       "      <td>0.002001</td>\n",
       "      <td>2</td>\n",
       "    </tr>\n",
       "    <tr>\n",
       "      <th>3</th>\n",
       "      <td>0.113667</td>\n",
       "      <td>0.0</td>\n",
       "      <td>0.002664</td>\n",
       "      <td>0.002485</td>\n",
       "      <td>0.002959</td>\n",
       "      <td>3</td>\n",
       "    </tr>\n",
       "    <tr>\n",
       "      <th>4</th>\n",
       "      <td>0.121501</td>\n",
       "      <td>0.0</td>\n",
       "      <td>0.003450</td>\n",
       "      <td>0.003196</td>\n",
       "      <td>0.003868</td>\n",
       "      <td>4</td>\n",
       "    </tr>\n",
       "  </tbody>\n",
       "</table>\n",
       "</div>"
      ],
      "text/plain": [
       "        mse  interaction_spread  global_interaction_similarity  \\\n",
       "0  0.090065                 NaN                            NaN   \n",
       "1  0.098064              -940.0                       0.001288   \n",
       "2  0.105862                 0.5                       0.001821   \n",
       "3  0.113667                 0.0                       0.002664   \n",
       "4  0.121501                 0.0                       0.003450   \n",
       "\n",
       "   inter_cluster_interaction_similarity  intra_cluster_interaction_similarity  \\\n",
       "0                                   NaN                                   NaN   \n",
       "1                              0.001173                              0.001477   \n",
       "2                              0.001712                              0.002001   \n",
       "3                              0.002485                              0.002959   \n",
       "4                              0.003196                              0.003868   \n",
       "\n",
       "   timesteps  \n",
       "0          0  \n",
       "1          1  \n",
       "2          2  \n",
       "3          3  \n",
       "4          4  "
      ]
     },
     "execution_count": 22,
     "metadata": {},
     "output_type": "execute_result"
    }
   ],
   "source": [
    "df_measurements.head()"
   ]
  },
  {
   "cell_type": "code",
   "execution_count": 23,
   "metadata": {},
   "outputs": [
    {
     "data": {
      "text/plain": [
       "<matplotlib.legend.Legend at 0x32fc96400>"
      ]
     },
     "execution_count": 23,
     "metadata": {},
     "output_type": "execute_result"
    },
    {
     "data": {
      "image/png": "[encoded data removed]",
      "text/plain": [
       "<Figure size 640x480 with 1 Axes>"
      ]
     },
     "metadata": {},
     "output_type": "display_data"
    }
   ],
   "source": [
    "plt.plot(df_measurements[\"global_interaction_similarity\"][params[\"startup_iters\"]:], label=\"global_interaction_similarity\")\n",
    "plt.plot(df_measurements[\"intra_cluster_interaction_similarity\"][params[\"startup_iters\"]:], label=\"intra_cluster_interaction_similarity\")\n",
    "# plt.plot(df_measurements[\"inter_cluster_interaction_similarity\"][params[\"startup_iters\"]:], label=\"inter_cluster_interaction_similarity\")\n",
    "plt.legend(facecolor='white', framealpha=1, loc='upper right', bbox_to_anchor=(1.7, 1.0))"
   ]
  },
  {
   "cell_type": "code",
   "execution_count": 24,
   "metadata": {},
   "outputs": [],
   "source": [
    "for metric in bubble.metrics:\n",
    "    if metric.name == \"inter_cluster_interaction_similarity\":\n",
    "        metric.pairs = global_user_pairs"
   ]
  },
  {
   "cell_type": "code",
   "execution_count": 25,
   "metadata": {},
   "outputs": [
    {
     "name": "stderr",
     "output_type": "stream",
     "text": [
      "100%|██████████| 25/25 [04:37<00:00, 11.10s/it]\n"
     ]
    }
   ],
   "source": [
    "bubble.run(timesteps=params[\"sim_iters\"], train_between_steps=params[\"repeated_training\"])\n",
    "bubble.close() # end logging"
   ]
  },
  {
   "cell_type": "code",
   "execution_count": 26,
   "metadata": {},
   "outputs": [],
   "source": [
    "measurements = bubble.get_measurements()\n",
    "df_measurements = pd.DataFrame(measurements)"
   ]
  },
  {
   "cell_type": "code",
   "execution_count": 27,
   "metadata": {},
   "outputs": [
    {
     "name": "stdout",
     "output_type": "stream",
     "text": [
      "True\n"
     ]
    }
   ],
   "source": [
    "for metric in bubble.metrics:\n",
    "    if metric.name == \"inter_cluster_interaction_similarity\":\n",
    "        pairs_inter_cluster = metric.pairs\n",
    "    if metric.name == \"global_interaction_similarity\":\n",
    "        pairs_global = metric.pairs\n",
    "        \n",
    "print(pairs_inter_cluster == pairs_global)"
   ]
  },
  {
   "cell_type": "code",
   "execution_count": 29,
   "metadata": {},
   "outputs": [
    {
     "data": {
      "text/html": [
       "<div>\n",
       "<style scoped>\n",
       "    .dataframe tbody tr th:only-of-type {\n",
       "        vertical-align: middle;\n",
       "    }\n",
       "\n",
       "    .dataframe tbody tr th {\n",
       "        vertical-align: top;\n",
       "    }\n",
       "\n",
       "    .dataframe thead th {\n",
       "        text-align: right;\n",
       "    }\n",
       "</style>\n",
       "<table border=\"1\" class=\"dataframe\">\n",
       "  <thead>\n",
       "    <tr style=\"text-align: right;\">\n",
       "      <th></th>\n",
       "      <th>mse</th>\n",
       "      <th>interaction_spread</th>\n",
       "      <th>global_interaction_similarity</th>\n",
       "      <th>inter_cluster_interaction_similarity</th>\n",
       "      <th>intra_cluster_interaction_similarity</th>\n",
       "      <th>timesteps</th>\n",
       "    </tr>\n",
       "  </thead>\n",
       "  <tbody>\n",
       "    <tr>\n",
       "      <th>76</th>\n",
       "      <td>1.213925</td>\n",
       "      <td>-7.0</td>\n",
       "      <td>0.033181</td>\n",
       "      <td>0.033181</td>\n",
       "      <td>0.033336</td>\n",
       "      <td>76</td>\n",
       "    </tr>\n",
       "    <tr>\n",
       "      <th>77</th>\n",
       "      <td>1.214285</td>\n",
       "      <td>8.5</td>\n",
       "      <td>0.033190</td>\n",
       "      <td>0.033190</td>\n",
       "      <td>0.033352</td>\n",
       "      <td>77</td>\n",
       "    </tr>\n",
       "    <tr>\n",
       "      <th>78</th>\n",
       "      <td>1.214077</td>\n",
       "      <td>-8.0</td>\n",
       "      <td>0.033203</td>\n",
       "      <td>0.033203</td>\n",
       "      <td>0.033355</td>\n",
       "      <td>78</td>\n",
       "    </tr>\n",
       "    <tr>\n",
       "      <th>79</th>\n",
       "      <td>1.213693</td>\n",
       "      <td>5.5</td>\n",
       "      <td>0.033225</td>\n",
       "      <td>0.033225</td>\n",
       "      <td>0.033385</td>\n",
       "      <td>79</td>\n",
       "    </tr>\n",
       "    <tr>\n",
       "      <th>80</th>\n",
       "      <td>1.214157</td>\n",
       "      <td>-2.0</td>\n",
       "      <td>0.033228</td>\n",
       "      <td>0.033228</td>\n",
       "      <td>0.033377</td>\n",
       "      <td>80</td>\n",
       "    </tr>\n",
       "  </tbody>\n",
       "</table>\n",
       "</div>"
      ],
      "text/plain": [
       "         mse  interaction_spread  global_interaction_similarity  \\\n",
       "76  1.213925                -7.0                       0.033181   \n",
       "77  1.214285                 8.5                       0.033190   \n",
       "78  1.214077                -8.0                       0.033203   \n",
       "79  1.213693                 5.5                       0.033225   \n",
       "80  1.214157                -2.0                       0.033228   \n",
       "\n",
       "    inter_cluster_interaction_similarity  \\\n",
       "76                              0.033181   \n",
       "77                              0.033190   \n",
       "78                              0.033203   \n",
       "79                              0.033225   \n",
       "80                              0.033228   \n",
       "\n",
       "    intra_cluster_interaction_similarity  timesteps  \n",
       "76                              0.033336         76  \n",
       "77                              0.033352         77  \n",
       "78                              0.033355         78  \n",
       "79                              0.033385         79  \n",
       "80                              0.033377         80  "
      ]
     },
     "execution_count": 29,
     "metadata": {},
     "output_type": "execute_result"
    }
   ],
   "source": [
    "df_measurements.tail()"
   ]
  },
  {
   "cell_type": "code",
   "execution_count": null,
   "metadata": {},
   "outputs": [],
   "source": []
  }
 ],
 "metadata": {
  "kernelspec": {
   "display_name": "fairRS",
   "language": "python",
   "name": "python3"
  },
  "language_info": {
   "codemirror_mode": {
    "name": "ipython",
    "version": 3
   },
   "file_extension": ".py",
   "mimetype": "text/x-python",
   "name": "python",
   "nbconvert_exporter": "python",
   "pygments_lexer": "ipython3",
   "version": "3.8.15"
  },
  "orig_nbformat": 4
 },
 "nbformat": 4,
 "nbformat_minor": 2
}
