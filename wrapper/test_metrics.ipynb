{
 "cells": [
  {
   "cell_type": "code",
   "execution_count": 1,
   "metadata": {},
   "outputs": [],
   "source": [
    "import pandas as pd\n",
    "import matplotlib.pyplot as plt\n",
    "from matplotlib import style\n",
    "import numpy as np\n",
    "import pickle\n",
    "import os\n",
    "from sklearn.decomposition import NMF, PCA\n",
    "from sklearn.cluster import KMeans\n",
    "from importlib import reload\n",
    "import itertools\n",
    "from collections import defaultdict\n",
    "from tqdm import tqdm\n",
    "\n",
    "import sys\n",
    "sys.path.insert(1, '/Users/madisonthantu/Desktop/DREAM/t-recs')\n",
    "from trecs.metrics import MSEMeasurement, InteractionSpread, InteractionSpread, InteractionSimilarity, RecSimilarity, RMSEMeasurement, InteractionMeasurement\n",
    "from trecs.components import Users\n",
    "import trecs.matrix_ops as mo\n",
    "\n",
    "sys.path.insert(1, '../')\n",
    "from wrapper.models.bubble import BubbleBurster\n",
    "from src.utils import load_and_process_movielens, compute_embeddings, compute_constrained_clusters, user_topic_mapping, create_cluster_user_pairs\n",
    "\n",
    "random_state = np.random.seed(42)"
   ]
  },
  {
   "cell_type": "code",
   "execution_count": 2,
   "metadata": {},
   "outputs": [
    {
     "name": "stdout",
     "output_type": "stream",
     "text": [
      "Calculating embeddings...\n",
      "Calculated embeddings.\n",
      "Calculating constrained clusters...\n",
      "Calculated constrained clusters.\n",
      "Calculating constrained clusters...\n",
      "Calculated constrained clusters.\n"
     ]
    }
   ],
   "source": [
    "params = {\n",
    "    \"max_iter\":1000,\n",
    "    \"num_clusters\":10,\n",
    "    \"num_attrs\":20,\n",
    "    \"drift\":0.1,\n",
    "    \"attention_exp\":-0.8,\n",
    "    \"startup_iters\":5,\n",
    "    \"sim_iters\":25,\n",
    "    \"repeated_training\":True\n",
    "}\n",
    "\n",
    "binary_ratings_matrix = load_and_process_movielens(file_path='/Users/madisonthantu/Desktop/DREAM/data/ml-100k/u.data')\n",
    "# Get user and item representations using NMF\n",
    "user_representation, item_representation = compute_embeddings(binary_ratings_matrix, n_attrs=params[\"num_attrs\"], max_iter=params[\"max_iter\"])\n",
    "# Define topic clusters using K-Means\n",
    "item_cluster_ids, item_cluster_centers = compute_constrained_clusters(item_representation.T, name='item', n_clusters=params[\"num_clusters\"])\n",
    "user_cluster_ids, user_cluster_centers = compute_constrained_clusters(user_representation, name='user', n_clusters=params[\"num_clusters\"])\n",
    "# Get user pairs - global user pairs, intra-cluster user pairs, inter-cluster user pairs\n",
    "global_user_pairs = []\n",
    "num_users = len(user_cluster_ids)\n",
    "for u_idx in range(num_users):\n",
    "    global_user_pairs += [(u_idx, v_idx) for v_idx in range(u_idx+1, num_users)]\n",
    "inter_cluster_user_pairs, intra_cluster_user_pairs = create_cluster_user_pairs(user_cluster_ids)\n",
    "\n",
    "users = Users(\n",
    "    actual_user_profiles=user_representation, \n",
    "    repeat_interactions=False,\n",
    "    drift=params[\"drift\"],\n",
    "    attention_exp=params[\"attention_exp\"]\n",
    ")\n",
    "\n",
    "measurements = [\n",
    "    MSEMeasurement(),  \n",
    "    InteractionSpread(),                \n",
    "    InteractionSimilarity(pairs=global_user_pairs, name='global_interaction_similarity'), \n",
    "    InteractionSimilarity(pairs=inter_cluster_user_pairs, name='inter_cluster_interaction_similarity'), \n",
    "    InteractionSimilarity(pairs=intra_cluster_user_pairs, name='intra_cluster_interaction_similarity'), \n",
    "]\n",
    "\n",
    "bubble = BubbleBurster(\n",
    "    actual_user_representation=users, \n",
    "    actual_item_representation=item_representation,\n",
    "    item_topics=item_cluster_ids,\n",
    "    num_attributes=params[\"num_attrs\"],\n",
    "    num_items_per_iter=10,\n",
    "    # seed=rng,\n",
    "    record_base_state=True\n",
    ")\n",
    "\n",
    "bubble.add_metrics(*measurements)"
   ]
  },
  {
   "cell_type": "code",
   "execution_count": 3,
   "metadata": {},
   "outputs": [
    {
     "data": {
      "text/plain": [
       "(943, 1682)"
      ]
     },
     "execution_count": 3,
     "metadata": {},
     "output_type": "execute_result"
    }
   ],
   "source": [
    "binary_ratings_matrix.shape"
   ]
  },
  {
   "cell_type": "code",
   "execution_count": 4,
   "metadata": {},
   "outputs": [],
   "source": [
    "from sklearn.metrics.pairwise import cosine_similarity\n",
    "from math import comb\n",
    "from itertools import combinations\n",
    "\n",
    "class AvgIntraClusterCosineSim():\n",
    "    def __init__(self, mapping, n_clusters, name=\"avg_intra_cluster_cosine_sim\", verbose=False):\n",
    "        self.mapping = mapping\n",
    "        self.n_clusts = n_clusters\n",
    "        self.cluster_membership = dict()\n",
    "        for clust in range(self.n_clusts):\n",
    "            self.cluster_membership[clust] = np.where(self.mapping == clust)[0]\n",
    "            print(self.cluster_membership[clust].shape)\n",
    "            # break\n",
    "        # Measurement.__init__(self, name, verbose)\n",
    "    \n",
    "    \"\"\"\n",
    "    def measure(self, recommender):\n",
    "        clusters = np.unique(self.mapping)\n",
    "        intra_cluster_sim = np.zeros((self.n_clusts, 1))\n",
    "        for clust in clusters:\n",
    "            clust_users = np.where(self.mapping == clust)\n",
    "            clust_users_embed = recommender.users.actual_user_profiles.value[clust_users,:][0]\n",
    "            denominator = np.outer(np.linalg.norm(clust_users_embed, axis=1), np.linalg.norm(clust_users_embed, axis=1))\n",
    "            numerator = np.dot(clust_users_embed, clust_users_embed.T)\n",
    "            cos_sim = numerator / denominator\n",
    "            if clust_users_embed.shape[0] > 1:\n",
    "                num_user_pairs = comb(clust_users_embed.shape[0], 2)\n",
    "                intra_cluster_sim[clust] = np.sum(np.triu(cos_sim)) / num_user_pairs\n",
    "        self.observe(intra_cluster_sim)\n",
    "    \"\"\"\n",
    "        \n",
    "    def measure(self, recommender):\n",
    "        sum_avg_cos_sim = 0\n",
    "        for clust in self.cluster_membership.keys():\n",
    "            intra_clust_user_rep = recommender.users.actual_user_profiles.value[self.cluster_membership[clust], :][0]\n",
    "            cos_sim_matrix = cosine_similarity(intra_clust_user_rep)\n",
    "            cos_sim_matrix = np.triu(cos_sim_matrix, k=1)\n",
    "            \n",
    "            # print(intra_clust_user_rep.shape)\n",
    "            # num_zeros = 0\n",
    "            # for i in range(intra_clust_user_rep.shape[0]):\n",
    "            #     num_zeros += (intra_clust_user_rep.shape[0]-(i+1)) - np.count_nonzero(cos_sim_matrix[i, i+1:])\n",
    "            # print(intra_clust_user_rep.shape[0])\n",
    "            # print(np.count_nonzero(cos_sim_matrix))\n",
    "            # print(num_zeros)\n",
    "            # print(np.count_nonzero(cos_sim_matrix) + num_zeros)\n",
    "            # # print(comb(intra_clust_user_rep.shape[0], 2) - intra_clust_user_rep.shape[0])\n",
    "            # print(comb(intra_clust_user_rep.shape[0], 2))\n",
    "            # print(len([i for i in combinations(range(intra_clust_user_rep.shape[0]), 2)]))\n",
    "            # break\n",
    "            \n",
    "            print()\n",
    "            print(np.sum(cos_sim_matrix))\n",
    "            print(comb(intra_clust_user_rep.shape[0], 2))\n",
    "            \n",
    "            sum_avg_cos_sim = sum_avg_cos_sim + (np.sum(cos_sim_matrix) / comb(intra_clust_user_rep.shape[0], 2))\n",
    "            \n",
    "            \n",
    "        #     denominator = np.outer(np.linalg.norm(clust_users_embed, axis=1), np.linalg.norm(clust_users_embed, axis=1))\n",
    "        #     numerator = np.dot(clust_users_embed, clust_users_embed.T)\n",
    "        #     cos_sim = numerator / denominator\n",
    "        #     if clust_users_embed.shape[0] > 1:\n",
    "        #         num_user_pairs = comb(clust_users_embed.shape[0], 2)\n",
    "        #         intra_cluster_sim[clust] = np.sum(np.triu(cos_sim)) / num_user_pairs\n",
    "        # self.observe(intra_cluster_sim)\n",
    "        return sum_avg_cos_sim / self.n_clusts"
   ]
  },
  {
   "cell_type": "code",
   "execution_count": 5,
   "metadata": {},
   "outputs": [
    {
     "name": "stdout",
     "output_type": "stream",
     "text": [
      "(170,)\n",
      "(11,)\n",
      "(52,)\n",
      "(3,)\n",
      "(65,)\n",
      "(29,)\n",
      "(546,)\n",
      "(19,)\n",
      "(12,)\n",
      "(36,)\n"
     ]
    }
   ],
   "source": [
    "avg_intra_cluster_cosine_sim = AvgIntraClusterCosineSim(user_cluster_ids, params[\"num_clusters\"])\n",
    "# avg_intra_cluster_cosine_sim.measure(bubble)"
   ]
  },
  {
   "cell_type": "code",
   "execution_count": null,
   "metadata": {},
   "outputs": [],
   "source": [
    "bubble.startup_and_train(timesteps=params[\"startup_iters\"])\n",
    "bubble.run(timesteps=params[\"sim_iters\"], train_between_steps=params[\"repeated_training\"])\n",
    "bubble.close() # end logging"
   ]
  }
 ],
 "metadata": {
  "kernelspec": {
   "display_name": "fairRS",
   "language": "python",
   "name": "python3"
  },
  "language_info": {
   "codemirror_mode": {
    "name": "ipython",
    "version": 3
   },
   "file_extension": ".py",
   "mimetype": "text/x-python",
   "name": "python",
   "nbconvert_exporter": "python",
   "pygments_lexer": "ipython3",
   "version": "3.8.15"
  },
  "orig_nbformat": 4
 },
 "nbformat": 4,
 "nbformat_minor": 2
}
